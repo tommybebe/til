{
  "nbformat": 4,
  "nbformat_minor": 0,
  "metadata": {
    "colab": {
      "name": "making a pipeline.ipynb",
      "provenance": [],
      "collapsed_sections": [],
      "authorship_tag": "ABX9TyNt4AIAf7F+G17LRMx94RCv",
      "include_colab_link": true
    },
    "kernelspec": {
      "name": "python3",
      "display_name": "Python 3"
    }
  },
  "cells": [
    {
      "cell_type": "markdown",
      "metadata": {
        "id": "view-in-github",
        "colab_type": "text"
      },
      "source": [
        "<a href=\"https://colab.research.google.com/github/tommybebe/til/blob/master/ml/making_a_pipeline.ipynb\" target=\"_parent\"><img src=\"https://colab.research.google.com/assets/colab-badge.svg\" alt=\"Open In Colab\"/></a>"
      ]
    },
    {
      "cell_type": "markdown",
      "metadata": {
        "id": "DBXrENMr4pdz",
        "colab_type": "text"
      },
      "source": [
        "### Reference\n",
        "- [Housing Prices: Using XGBoost and Pipeline](https://www.kaggle.com/kaggledroid/housing-prices-using-xgboost-and-pipeline)\n",
        "- [XGBoost Pipeline](https://www.kaggle.com/byrolew/xgboost-pipeline)\n",
        "- [House Prices: Advanced Regression Techniques](https://github.com/data-doctors/kaggle-house-prices-advanced-regression-techniques)\n",
        "- [XGBoost with Scikit-Learn Pipeline & GridSearchCV](https://www.kaggle.com/carlosdg/xgboost-with-scikit-learn-pipeline-gridsearchcv)\n",
        "- [SageMaker build-in LinearLearner](https://github.com/aws-samples/aws-machine-learning-university-accelerated-tab/blob/master/notebooks/MLA-TAB-Lecture2-SageMaker.ipynb)"
      ]
    },
    {
      "cell_type": "markdown",
      "metadata": {
        "id": "1czrI4H32huo",
        "colab_type": "text"
      },
      "source": [
        "### Sample Data"
      ]
    },
    {
      "cell_type": "code",
      "metadata": {
        "id": "Dq_JPlbcIGOM",
        "colab_type": "code",
        "colab": {}
      },
      "source": [
        "import numpy as np\n",
        "import pandas as pd\n",
        "from scipy import sparse as sp\n",
        "from pandas._testing import rands_array\n",
        "from sklearn.model_selection import train_test_split, GridSearchCV\n",
        "from sklearn.metrics import mean_absolute_error\n",
        "from sklearn.preprocessing import OneHotEncoder, StandardScaler\n",
        "from sklearn.impute import SimpleImputer\n",
        "from sklearn.pipeline import Pipeline, FeatureUnion\n",
        "from sklearn.compose import ColumnTransformer\n",
        "from sklearn.pipeline import make_pipeline, make_union\n",
        "from sklearn.base import BaseEstimator, TransformerMixin\n",
        "from xgboost import XGBRegressor"
      ],
      "execution_count": 167,
      "outputs": []
    },
    {
      "cell_type": "code",
      "metadata": {
        "id": "IQiQQNYGXqnT",
        "colab_type": "code",
        "colab": {}
      },
      "source": [
        "df = pd.DataFrame(np.random.normal(size=(400, 4)), columns=list('abcd'))\n",
        "df['e'] = rands_array(1, df.shape[0])\n",
        "\n",
        "numerical_cols = df.select_dtypes(exclude=['object']).columns\n",
        "categorical_cols = df.select_dtypes(include=['object']).columns\n",
        "target_col = 'y'\n",
        "\n",
        "df[target_col] = df['a']*3 + df['b']*np.random.rand(df.shape[0]) + 3 + df['e'].map(lambda x: int(x) if x.isdigit() else 0 )\n",
        "\n",
        "X = df.iloc[:, :-1]\n",
        "y = df.iloc[:, -1]\n",
        "\n",
        "X_train, X_valid, y_train, y_valid = train_test_split(X, y, train_size=0.8, test_size=0.2, random_state=0)"
      ],
      "execution_count": 158,
      "outputs": []
    },
    {
      "cell_type": "markdown",
      "metadata": {
        "id": "XLrDZbJAU0_a",
        "colab_type": "text"
      },
      "source": [
        "### Pipelines"
      ]
    },
    {
      "cell_type": "markdown",
      "metadata": {
        "id": "WRHpwaaRU3hQ",
        "colab_type": "text"
      },
      "source": [
        "#### Hello World Example"
      ]
    },
    {
      "cell_type": "code",
      "metadata": {
        "id": "MlI3u02wKE3I",
        "colab_type": "code",
        "colab": {}
      },
      "source": [
        "#Preprocessing for numerical data\n",
        "numerical_transformer = SimpleImputer(strategy='most_frequent')\n",
        "\n",
        "#Preprocessing for categorical data\n",
        "categorical_transformer = Pipeline(steps=[\n",
        "    ('imputer', SimpleImputer(strategy='most_frequent')),\n",
        "    ('onehot', OneHotEncoder(handle_unknown='ignore'))\n",
        "])\n",
        "\n",
        "#Bundle preprocessing for numerical and categorical data\n",
        "preprocessor = ColumnTransformer(\n",
        "    transformers=[\n",
        "        ('num', numerical_transformer, numerical_cols),\n",
        "        ('cat', categorical_transformer, categorical_cols)\n",
        "    ])\n",
        "\n",
        "#Defining model\n",
        "model = XGBRegressor(objective='reg:squarederror', n_estimators=200, learning_rate=0.03)\n",
        "\n",
        "#Bundle preprocessing and modeling code in a pipeline\n",
        "pipe = Pipeline(steps=[\n",
        "    ('preprocessor', preprocessor),\n",
        "    ('model', model)\n",
        "])"
      ],
      "execution_count": 159,
      "outputs": []
    },
    {
      "cell_type": "code",
      "metadata": {
        "id": "6na2h0Q2Vvwt",
        "colab_type": "code",
        "colab": {
          "base_uri": "https://localhost:8080/",
          "height": 34
        },
        "outputId": "ef910c8a-6770-4c35-f350-1c12dafab313"
      },
      "source": [
        "pipe.fit(X_train, y_train)\n",
        "preds = pipe.predict(X_valid)\n",
        "\n",
        "print(mean_absolute_error(preds, y_valid))"
      ],
      "execution_count": 160,
      "outputs": [
        {
          "output_type": "stream",
          "text": [
            "0.8131575948461615\n"
          ],
          "name": "stdout"
        }
      ]
    },
    {
      "cell_type": "markdown",
      "metadata": {
        "id": "cI6hSAURWTiY",
        "colab_type": "text"
      },
      "source": [
        "#### What happens\n",
        "- preprocessor 가 transform한 데이터를 model이 fit 했다. \n",
        "- model fitting 결과가 model 객체에 남았다."
      ]
    },
    {
      "cell_type": "code",
      "metadata": {
        "id": "xk-nuX1pWkUu",
        "colab_type": "code",
        "colab": {
          "base_uri": "https://localhost:8080/",
          "height": 263
        },
        "outputId": "57a0c94c-302a-49eb-bf1f-4eb7a27a30a1"
      },
      "source": [
        "model.feature_importances_"
      ],
      "execution_count": 161,
      "outputs": [
        {
          "output_type": "execute_result",
          "data": {
            "text/plain": [
              "array([0.35271233, 0.0230296 , 0.00160313, 0.00346912, 0.        ,\n",
              "       0.        , 0.02174103, 0.04681395, 0.06139186, 0.067981  ,\n",
              "       0.07269321, 0.10697489, 0.13098437, 0.08292631, 0.        ,\n",
              "       0.        , 0.        , 0.        , 0.        , 0.        ,\n",
              "       0.        , 0.        , 0.        , 0.        , 0.        ,\n",
              "       0.        , 0.        , 0.        , 0.        , 0.        ,\n",
              "       0.        , 0.01311071, 0.        , 0.        , 0.        ,\n",
              "       0.        , 0.        , 0.        , 0.        , 0.        ,\n",
              "       0.        , 0.        , 0.        , 0.        , 0.        ,\n",
              "       0.        , 0.        , 0.        , 0.        , 0.        ,\n",
              "       0.        , 0.        , 0.        , 0.        , 0.        ,\n",
              "       0.00049586, 0.        , 0.        , 0.        , 0.        ,\n",
              "       0.01407257, 0.        , 0.        , 0.        , 0.        ,\n",
              "       0.        ], dtype=float32)"
            ]
          },
          "metadata": {
            "tags": []
          },
          "execution_count": 161
        }
      ]
    },
    {
      "cell_type": "markdown",
      "metadata": {
        "id": "4LQlnQZtb3-O",
        "colab_type": "text"
      },
      "source": [
        "- 별도로 떼네어 실행해봐도 동일한 결과를 얻을 수 있다. "
      ]
    },
    {
      "cell_type": "code",
      "metadata": {
        "id": "PplzFEdKcLy9",
        "colab_type": "code",
        "colab": {
          "base_uri": "https://localhost:8080/",
          "height": 228
        },
        "outputId": "5e5a2d0b-c714-4547-be2b-fe9b08d156af"
      },
      "source": [
        "prep_train = preprocessor.transform(X_train)\n",
        "prep_valid = preprocessor.transform(X_valid)\n",
        "print('type :\\t\\t\\t', type(prep_train))\n",
        "print('example of item :\\t', prep_train.toarray()[0])"
      ],
      "execution_count": 162,
      "outputs": [
        {
          "output_type": "stream",
          "text": [
            "type :\t\t\t <class 'scipy.sparse.csr.csr_matrix'>\n",
            "example of item :\t [ 1.02506078 -2.34833459  0.0219236  -0.98661037  0.          0.\n",
            "  0.          0.          0.          0.          0.          0.\n",
            "  0.          0.          0.          0.          0.          0.\n",
            "  0.          0.          0.          0.          0.          0.\n",
            "  0.          0.          0.          0.          0.          0.\n",
            "  0.          0.          0.          0.          0.          0.\n",
            "  0.          0.          0.          0.          0.          0.\n",
            "  0.          0.          0.          0.          0.          0.\n",
            "  0.          0.          0.          0.          0.          0.\n",
            "  0.          0.          0.          0.          0.          0.\n",
            "  0.          0.          0.          1.          0.          0.        ]\n"
          ],
          "name": "stdout"
        }
      ]
    },
    {
      "cell_type": "code",
      "metadata": {
        "id": "AaydRFZFdMKt",
        "colab_type": "code",
        "colab": {
          "base_uri": "https://localhost:8080/",
          "height": 34
        },
        "outputId": "b2843ea0-8305-4a5f-c78f-a9b5acc57be6"
      },
      "source": [
        "model = XGBRegressor(objective='reg:squarederror', n_estimators=200, learning_rate=0.03)\n",
        "model.fit(prep_train, y_train)\n",
        "preds = model.predict(prep_valid)\n",
        "print(mean_absolute_error(preds, y_valid))"
      ],
      "execution_count": 163,
      "outputs": [
        {
          "output_type": "stream",
          "text": [
            "0.8131575948461615\n"
          ],
          "name": "stdout"
        }
      ]
    },
    {
      "cell_type": "markdown",
      "metadata": {
        "id": "98c2Qtz-ewW7",
        "colab_type": "text"
      },
      "source": [
        "- preprocessor만을 파이프라인에 넣어 실행시키는 경우와 동일하다. "
      ]
    },
    {
      "cell_type": "code",
      "metadata": {
        "id": "AbPT-ZgPNCAW",
        "colab_type": "code",
        "colab": {
          "base_uri": "https://localhost:8080/",
          "height": 228
        },
        "outputId": "aed2e0e5-e3c1-43f0-a212-fdf159c22bbe"
      },
      "source": [
        "pipe = Pipeline(steps=[('prep', preprocessor)])\n",
        "\n",
        "prep_train = pipe.transform(X_train)\n",
        "print('type :\\t\\t\\t', type(prep_train))\n",
        "print('example of item :\\t', prep_train.toarray()[0])"
      ],
      "execution_count": 164,
      "outputs": [
        {
          "output_type": "stream",
          "text": [
            "type :\t\t\t <class 'scipy.sparse.csr.csr_matrix'>\n",
            "example of item :\t [ 1.02506078 -2.34833459  0.0219236  -0.98661037  0.          0.\n",
            "  0.          0.          0.          0.          0.          0.\n",
            "  0.          0.          0.          0.          0.          0.\n",
            "  0.          0.          0.          0.          0.          0.\n",
            "  0.          0.          0.          0.          0.          0.\n",
            "  0.          0.          0.          0.          0.          0.\n",
            "  0.          0.          0.          0.          0.          0.\n",
            "  0.          0.          0.          0.          0.          0.\n",
            "  0.          0.          0.          0.          0.          0.\n",
            "  0.          0.          0.          0.          0.          0.\n",
            "  0.          0.          0.          1.          0.          0.        ]\n"
          ],
          "name": "stdout"
        }
      ]
    },
    {
      "cell_type": "markdown",
      "metadata": {
        "id": "sEZLraGlXDKk",
        "colab_type": "text"
      },
      "source": [
        "#### Make a new pipline component"
      ]
    },
    {
      "cell_type": "markdown",
      "metadata": {
        "id": "3OUTau0bXHaA",
        "colab_type": "text"
      },
      "source": [
        "##### 데이터프레임을 가공하는 transformer"
      ]
    },
    {
      "cell_type": "code",
      "metadata": {
        "id": "j3192Kp9WQzw",
        "colab_type": "code",
        "colab": {
          "base_uri": "https://localhost:8080/",
          "height": 230
        },
        "outputId": "0e8e117f-bc56-4786-c294-81db3090ed38"
      },
      "source": [
        "class AddRand(BaseEstimator, TransformerMixin):\n",
        "    def fit(self, df, *args):\n",
        "        return self\n",
        "    \n",
        "    def transform(self, df):\n",
        "        _df = df.copy()\n",
        "        _df['f'] = np.random.normal(size=df.shape[0])\n",
        "        return _df\n",
        "\n",
        "\n",
        "pipe = Pipeline(steps=[\n",
        "    ('add_rand', AddRand()),\n",
        "])\n",
        "\n",
        "prep_train = pipe.fit_transform(X_train)\n",
        "print('type :\\t\\t\\t', type(prep_train))\n",
        "print('example of item :\\t',)\n",
        "display(prep_train.head())"
      ],
      "execution_count": 188,
      "outputs": [
        {
          "output_type": "stream",
          "text": [
            "type :\t\t\t <class 'pandas.core.frame.DataFrame'>\n",
            "example of item :\t\n"
          ],
          "name": "stdout"
        },
        {
          "output_type": "display_data",
          "data": {
            "text/html": [
              "<div>\n",
              "<style scoped>\n",
              "    .dataframe tbody tr th:only-of-type {\n",
              "        vertical-align: middle;\n",
              "    }\n",
              "\n",
              "    .dataframe tbody tr th {\n",
              "        vertical-align: top;\n",
              "    }\n",
              "\n",
              "    .dataframe thead th {\n",
              "        text-align: right;\n",
              "    }\n",
              "</style>\n",
              "<table border=\"1\" class=\"dataframe\">\n",
              "  <thead>\n",
              "    <tr style=\"text-align: right;\">\n",
              "      <th></th>\n",
              "      <th>a</th>\n",
              "      <th>b</th>\n",
              "      <th>c</th>\n",
              "      <th>d</th>\n",
              "      <th>e</th>\n",
              "      <th>f</th>\n",
              "    </tr>\n",
              "  </thead>\n",
              "  <tbody>\n",
              "    <tr>\n",
              "      <th>336</th>\n",
              "      <td>1.025061</td>\n",
              "      <td>-2.348335</td>\n",
              "      <td>0.021924</td>\n",
              "      <td>-0.986610</td>\n",
              "      <td>x</td>\n",
              "      <td>-0.660819</td>\n",
              "    </tr>\n",
              "    <tr>\n",
              "      <th>64</th>\n",
              "      <td>0.222432</td>\n",
              "      <td>-1.278728</td>\n",
              "      <td>0.456675</td>\n",
              "      <td>0.930438</td>\n",
              "      <td>t</td>\n",
              "      <td>0.098729</td>\n",
              "    </tr>\n",
              "    <tr>\n",
              "      <th>55</th>\n",
              "      <td>0.003840</td>\n",
              "      <td>0.273327</td>\n",
              "      <td>-0.352015</td>\n",
              "      <td>-0.415909</td>\n",
              "      <td>5</td>\n",
              "      <td>0.235445</td>\n",
              "    </tr>\n",
              "    <tr>\n",
              "      <th>106</th>\n",
              "      <td>-1.066128</td>\n",
              "      <td>0.279980</td>\n",
              "      <td>0.611953</td>\n",
              "      <td>-1.313808</td>\n",
              "      <td>m</td>\n",
              "      <td>0.759435</td>\n",
              "    </tr>\n",
              "    <tr>\n",
              "      <th>300</th>\n",
              "      <td>0.866429</td>\n",
              "      <td>-0.647406</td>\n",
              "      <td>-1.165520</td>\n",
              "      <td>-0.743940</td>\n",
              "      <td>w</td>\n",
              "      <td>-0.609945</td>\n",
              "    </tr>\n",
              "  </tbody>\n",
              "</table>\n",
              "</div>"
            ],
            "text/plain": [
              "            a         b         c         d  e         f\n",
              "336  1.025061 -2.348335  0.021924 -0.986610  x -0.660819\n",
              "64   0.222432 -1.278728  0.456675  0.930438  t  0.098729\n",
              "55   0.003840  0.273327 -0.352015 -0.415909  5  0.235445\n",
              "106 -1.066128  0.279980  0.611953 -1.313808  m  0.759435\n",
              "300  0.866429 -0.647406 -1.165520 -0.743940  w -0.609945"
            ]
          },
          "metadata": {
            "tags": []
          }
        }
      ]
    },
    {
      "cell_type": "markdown",
      "metadata": {
        "id": "G8PvySwMYNrS",
        "colab_type": "text"
      },
      "source": [
        "##### FeatureUnion 사용 방법\n",
        "- [Custom transformer mixin with FeatureUnion in scikit-learn](https://stackoverflow.com/questions/52116786/custom-transformer-mixin-with-featureunion-in-scikit-learn)\n",
        "- [Pipelines & Custom Transformers in scikit-learn: The step-by-step guide (with Python code)](https://towardsdatascience.com/pipelines-custom-transformers-in-scikit-learn-the-step-by-step-guide-with-python-code-4a7d9b068156)"
      ]
    },
    {
      "cell_type": "code",
      "metadata": {
        "id": "NhJOVPgiYTrb",
        "colab_type": "code",
        "colab": {
          "base_uri": "https://localhost:8080/",
          "height": 105
        },
        "outputId": "fd81f4fb-d7cd-49f9-ff3f-1c2ed6abfbf2"
      },
      "source": [
        "class AddRand(BaseEstimator, TransformerMixin):\n",
        "    def fit(self, q, *args):\n",
        "        return self\n",
        "    \n",
        "    def transform(self, q):\n",
        "        _q = q.copy()\n",
        "        _q['f'] = np.random.normal(size=q.shape[0])\n",
        "        f = _q.values\n",
        "        return _q.values\n",
        "\n",
        "class AddConstant(BaseEstimator, TransformerMixin):\n",
        "    def fit(self, q, *args):\n",
        "        return self\n",
        "\n",
        "    def transform(self, X):\n",
        "        f = np.random.normal(size=X.shape[0])\n",
        "        return np.random.normal(size=X.shape[0]).reshape(X.shape[0], 1)\n",
        "\n",
        "\n",
        "p1 = Pipeline([('add_rand', AddRand())])\n",
        "p2 = Pipeline([('add_constant', AddConstant())])\n",
        "\n",
        "pipe = FeatureUnion([\n",
        "    ('p1', p1),\n",
        "    ('p2', p2),\n",
        "])\n",
        "\n",
        "prep_train = pipe.transform(X_train)\n",
        "\n",
        "print('type :\\t\\t\\t', type(prep_train))\n",
        "print('example of item :\\t',)\n",
        "display(prep_train[0])"
      ],
      "execution_count": 247,
      "outputs": [
        {
          "output_type": "stream",
          "text": [
            "type :\t\t\t <class 'numpy.ndarray'>\n",
            "example of item :\t\n"
          ],
          "name": "stdout"
        },
        {
          "output_type": "display_data",
          "data": {
            "text/plain": [
              "array([1.0250607820437239, -2.3483345949230676, 0.02192360106126882,\n",
              "       -0.9866103659303194, 'x', 0.5389890191402996, 0.11735763205253363],\n",
              "      dtype=object)"
            ]
          },
          "metadata": {
            "tags": []
          }
        }
      ]
    },
    {
      "cell_type": "markdown",
      "metadata": {
        "id": "3i4mht-Pk4dn",
        "colab_type": "text"
      },
      "source": [
        "##### sklearn SimpleImputer 등을 지나면 CRS Matrix 형식이 되는 것 주의"
      ]
    },
    {
      "cell_type": "code",
      "metadata": {
        "id": "j8I7PlBhT5fC",
        "colab_type": "code",
        "colab": {
          "base_uri": "https://localhost:8080/",
          "height": 246
        },
        "outputId": "89df551e-d0c9-423a-b00a-fd8b82fd7580"
      },
      "source": [
        "class AddConstant(BaseEstimator, TransformerMixin):\n",
        "    def fit(self, X, *args):\n",
        "        return self\n",
        "    \n",
        "    def transform(self, X):\n",
        "        return sp.hstack([X, sp.csr_matrix(np.ones((X.shape[0], 1)))])\n",
        "\n",
        "\n",
        "pipe = Pipeline(steps=[\n",
        "    ('prep', preprocessor),\n",
        "    ('add_dummy', AddConstant())\n",
        "])\n",
        "\n",
        "prep_train = pipe.fit_transform(X_train)\n",
        "print('type :\\t\\t\\t', type(prep_train))\n",
        "print('example of item :\\t', prep_train.toarray()[0])"
      ],
      "execution_count": 134,
      "outputs": [
        {
          "output_type": "stream",
          "text": [
            "type :\t\t\t <class 'scipy.sparse.coo.coo_matrix'>\n",
            "example of item :\t [ 1.59835191 -0.67823669 -0.35101521  0.25688665  0.          0.\n",
            "  0.          0.          0.          0.          0.          0.\n",
            "  0.          0.          0.          0.          1.          0.\n",
            "  0.          0.          0.          0.          0.          0.\n",
            "  0.          0.          0.          0.          0.          0.\n",
            "  0.          0.          0.          0.          0.          0.\n",
            "  0.          0.          0.          0.          0.          0.\n",
            "  0.          0.          0.          0.          0.          0.\n",
            "  0.          0.          0.          0.          0.          0.\n",
            "  0.          0.          0.          0.          0.          0.\n",
            "  0.          0.          0.          0.          0.          0.\n",
            "  1.        ]\n"
          ],
          "name": "stdout"
        }
      ]
    },
    {
      "cell_type": "markdown",
      "metadata": {
        "id": "IkOh_PlGXH7x",
        "colab_type": "text"
      },
      "source": [
        "##### [make_pipeline vs Pipeline](https://stackoverflow.com/questions/40708077/what-is-the-difference-between-pipeline-and-make-pipeline-in-scikit)\n",
        "\n",
        "    ```\n",
        "    # Pipeline:\n",
        "    names are explicit, you don't have to figure them out if you need them;\n",
        "    name doesn't change if you change estimator/transformer used in a step, e.g. if you replace LogisticRegression() with LinearSVC() you can still use clf__C.\n",
        "\n",
        "    # make_pipeline:\n",
        "    shorter and arguably more readable notation;\n",
        "    names are auto-generated using a straightforward rule (lowercase name of an estimator).\n",
        "    ```\n",
        "- make_pipeline이 쓰기에 편해보이나, 이름을 가져와 사용할 일이 있을 때 더 번거로울 것.\n"
      ]
    },
    {
      "cell_type": "code",
      "metadata": {
        "id": "rO18Pkc2XH_U",
        "colab_type": "code",
        "colab": {
          "base_uri": "https://localhost:8080/",
          "height": 246
        },
        "outputId": "924bb17a-5ba9-4521-d0fd-f6c6d8d021bd"
      },
      "source": [
        "pipe = make_pipeline(\n",
        "    preprocessor,\n",
        "    AddConstant()\n",
        ")\n",
        "\n",
        "prep_train = pipe.fit_transform(X_train)\n",
        "print('type :\\t\\t\\t', type(prep_train))\n",
        "print('example of item :\\t', prep_train.toarray()[0])"
      ],
      "execution_count": 136,
      "outputs": [
        {
          "output_type": "stream",
          "text": [
            "type :\t\t\t <class 'scipy.sparse.coo.coo_matrix'>\n",
            "example of item :\t [ 1.59835191 -0.67823669 -0.35101521  0.25688665  0.          0.\n",
            "  0.          0.          0.          0.          0.          0.\n",
            "  0.          0.          0.          0.          1.          0.\n",
            "  0.          0.          0.          0.          0.          0.\n",
            "  0.          0.          0.          0.          0.          0.\n",
            "  0.          0.          0.          0.          0.          0.\n",
            "  0.          0.          0.          0.          0.          0.\n",
            "  0.          0.          0.          0.          0.          0.\n",
            "  0.          0.          0.          0.          0.          0.\n",
            "  0.          0.          0.          0.          0.          0.\n",
            "  0.          0.          0.          0.          0.          0.\n",
            "  1.        ]\n"
          ],
          "name": "stdout"
        }
      ]
    },
    {
      "cell_type": "markdown",
      "metadata": {
        "id": "yUd-uyMmXHpU",
        "colab_type": "text"
      },
      "source": [
        "#### Grid search"
      ]
    },
    {
      "cell_type": "code",
      "metadata": {
        "id": "EQAg9FxFK1Ue",
        "colab_type": "code",
        "colab": {
          "base_uri": "https://localhost:8080/",
          "height": 580
        },
        "outputId": "f50a4cc3-acb6-4ddc-fde7-199c2765ed83"
      },
      "source": [
        "pipeline = Pipeline(steps=[\n",
        "    ('preprocessor', preprocessor),\n",
        "    ('model', model)\n",
        "])\n",
        "param_grid = {\n",
        "    'model__max_depth': [2, 3, 5, 7, 10],\n",
        "    'model__n_estimators': [10, 100, 500],\n",
        "}\n",
        "\n",
        "grid = GridSearchCV(pipeline, param_grid, cv=5, n_jobs=-1)\n",
        "grid.fit(X_train, y_train)"
      ],
      "execution_count": null,
      "outputs": [
        {
          "output_type": "stream",
          "text": [
            "[17:09:47] WARNING: /workspace/src/objective/regression_obj.cu:152: reg:linear is now deprecated in favor of reg:squarederror.\n"
          ],
          "name": "stdout"
        },
        {
          "output_type": "execute_result",
          "data": {
            "text/plain": [
              "GridSearchCV(cv=5, error_score=nan,\n",
              "             estimator=Pipeline(memory=None,\n",
              "                                steps=[('preprocessor',\n",
              "                                        ColumnTransformer(n_jobs=None,\n",
              "                                                          remainder='drop',\n",
              "                                                          sparse_threshold=0.3,\n",
              "                                                          transformer_weights=None,\n",
              "                                                          transformers=[('num',\n",
              "                                                                         SimpleImputer(add_indicator=False,\n",
              "                                                                                       copy=True,\n",
              "                                                                                       fill_value=None,\n",
              "                                                                                       missing_values=nan,\n",
              "                                                                                       strategy='most_frequent',\n",
              "                                                                                       verbose=0),\n",
              "                                                                         ['MSSubClass',\n",
              "                                                                          'LotFrontage',\n",
              "                                                                          'LotA...\n",
              "                                                     n_jobs=1, nthread=None,\n",
              "                                                     objective='reg:linear',\n",
              "                                                     random_state=0,\n",
              "                                                     reg_alpha=0, reg_lambda=1,\n",
              "                                                     scale_pos_weight=1,\n",
              "                                                     seed=None, silent=None,\n",
              "                                                     subsample=1,\n",
              "                                                     verbosity=1))],\n",
              "                                verbose=False),\n",
              "             iid='deprecated', n_jobs=-1,\n",
              "             param_grid={'model__max_depth': [2, 3, 5, 7, 10],\n",
              "                         'model__n_estimators': [10, 100, 500]},\n",
              "             pre_dispatch='2*n_jobs', refit=True, return_train_score=False,\n",
              "             scoring=None, verbose=0)"
            ]
          },
          "metadata": {
            "tags": []
          },
          "execution_count": 54
        }
      ]
    },
    {
      "cell_type": "code",
      "metadata": {
        "id": "O4H4v-RJL59r",
        "colab_type": "code",
        "colab": {
          "base_uri": "https://localhost:8080/",
          "height": 457
        },
        "outputId": "3eb7f88e-f4b1-40bc-9dca-986e6c9d1915"
      },
      "source": [
        "grid.best_estimator_"
      ],
      "execution_count": null,
      "outputs": [
        {
          "output_type": "execute_result",
          "data": {
            "text/plain": [
              "Pipeline(memory=None,\n",
              "         steps=[('preprocessor',\n",
              "                 ColumnTransformer(n_jobs=None, remainder='drop',\n",
              "                                   sparse_threshold=0.3,\n",
              "                                   transformer_weights=None,\n",
              "                                   transformers=[('num',\n",
              "                                                  SimpleImputer(add_indicator=False,\n",
              "                                                                copy=True,\n",
              "                                                                fill_value=None,\n",
              "                                                                missing_values=nan,\n",
              "                                                                strategy='most_frequent',\n",
              "                                                                verbose=0),\n",
              "                                                  ['MSSubClass', 'LotFrontage',\n",
              "                                                   'LotArea', 'OverallQual',\n",
              "                                                   'OverallCond', 'YearBuilt'...\n",
              "                              colsample_bylevel=1, colsample_bynode=1,\n",
              "                              colsample_bytree=1, gamma=0,\n",
              "                              importance_type='gain', learning_rate=0.03,\n",
              "                              max_delta_step=0, max_depth=5, min_child_weight=1,\n",
              "                              missing=None, n_estimators=500, n_jobs=1,\n",
              "                              nthread=None, objective='reg:linear',\n",
              "                              random_state=0, reg_alpha=0, reg_lambda=1,\n",
              "                              scale_pos_weight=1, seed=None, silent=None,\n",
              "                              subsample=1, verbosity=1))],\n",
              "         verbose=False)"
            ]
          },
          "metadata": {
            "tags": []
          },
          "execution_count": 55
        }
      ]
    }
  ]
}