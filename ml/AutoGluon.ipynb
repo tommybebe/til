{
  "nbformat": 4,
  "nbformat_minor": 0,
  "metadata": {
    "colab": {
      "name": "AutoGluon.ipynb",
      "provenance": [],
      "authorship_tag": "ABX9TyPnA+CBgibq6tZD7e8+IxL0",
      "include_colab_link": true
    },
    "kernelspec": {
      "name": "python3",
      "display_name": "Python 3"
    },
    "accelerator": "GPU"
  },
  "cells": [
    {
      "cell_type": "markdown",
      "metadata": {
        "id": "view-in-github",
        "colab_type": "text"
      },
      "source": [
        "<a href=\"https://colab.research.google.com/github/tommybebe/til/blob/master/ml/AutoGluon.ipynb\" target=\"_parent\"><img src=\"https://colab.research.google.com/assets/colab-badge.svg\" alt=\"Open In Colab\"/></a>"
      ]
    },
    {
      "cell_type": "markdown",
      "metadata": {
        "id": "TW5SCxUDSodE",
        "colab_type": "text"
      },
      "source": [
        "### References\n",
        "- [AutoGloun - Predicting Columns in a Table - Quick Start](https://autogluon.mxnet.io/tutorials/tabular_prediction/tabular-quickstart.html)\n",
        "- [Getting Started with AutoML and AWS AutoGluon.ipynb](https://github.com/aws-samples/aws-machine-learning-university-accelerated-tab/blob/master/notebooks/MLA-TAB-Lecture3-AutoGluon.ipynb)\n",
        "- [Machine Learning Accelerator - Tabular Data - Lecture 3](https://github.com/aws-samples/aws-machine-learning-university-accelerated-tab/blob/master/notebooks/MLA-TAB-Lecture3-AutoGluon.ipynb)\n"
      ]
    },
    {
      "cell_type": "markdown",
      "metadata": {
        "id": "G-xrlRpjS-Kr",
        "colab_type": "text"
      },
      "source": [
        "### Setting"
      ]
    },
    {
      "cell_type": "code",
      "metadata": {
        "id": "IksLnsYUTG2H",
        "colab_type": "code",
        "colab": {
          "base_uri": "https://localhost:8080/",
          "height": 1000
        },
        "outputId": "e5d02298-96aa-4073-dd41-f57df22d1ef5"
      },
      "source": [
        "# Here we assume CUDA 10.0 is installed.  You should change the number\n",
        "# according to your own CUDA version (e.g. mxnet-cu101 for CUDA 10.1).\n",
        "!pip install --upgrade mxnet-cu101\n",
        "!pip install autogluon"
      ],
      "execution_count": 5,
      "outputs": [
        {
          "output_type": "stream",
          "text": [
            "Collecting mxnet-cu101\n",
            "\u001b[?25l  Downloading https://files.pythonhosted.org/packages/bf/03/02325a5de95d5cfdd43c929ea55d9cadb44d239ca3aee7e3131540c09773/mxnet_cu101-1.6.0.post0-py2.py3-none-manylinux1_x86_64.whl (711.7MB)\n",
            "\u001b[K     |████████████████████████████████| 711.7MB 25kB/s \n",
            "\u001b[?25hRequirement already satisfied, skipping upgrade: numpy<2.0.0,>1.16.0 in /usr/local/lib/python3.6/dist-packages (from mxnet-cu101) (1.18.5)\n",
            "Requirement already satisfied, skipping upgrade: requests<3,>=2.20.0 in /usr/local/lib/python3.6/dist-packages (from mxnet-cu101) (2.23.0)\n",
            "Requirement already satisfied, skipping upgrade: graphviz<0.9.0,>=0.8.1 in /usr/local/lib/python3.6/dist-packages (from mxnet-cu101) (0.8.4)\n",
            "Requirement already satisfied, skipping upgrade: urllib3!=1.25.0,!=1.25.1,<1.26,>=1.21.1 in /usr/local/lib/python3.6/dist-packages (from requests<3,>=2.20.0->mxnet-cu101) (1.24.3)\n",
            "Requirement already satisfied, skipping upgrade: certifi>=2017.4.17 in /usr/local/lib/python3.6/dist-packages (from requests<3,>=2.20.0->mxnet-cu101) (2020.6.20)\n",
            "Requirement already satisfied, skipping upgrade: idna<3,>=2.5 in /usr/local/lib/python3.6/dist-packages (from requests<3,>=2.20.0->mxnet-cu101) (2.10)\n",
            "Requirement already satisfied, skipping upgrade: chardet<4,>=3.0.2 in /usr/local/lib/python3.6/dist-packages (from requests<3,>=2.20.0->mxnet-cu101) (3.0.4)\n",
            "Installing collected packages: mxnet-cu101\n",
            "Successfully installed mxnet-cu101-1.6.0.post0\n"
          ],
          "name": "stdout"
        },
        {
          "output_type": "display_data",
          "data": {
            "application/vnd.colab-display-data+json": {
              "pip_warning": {
                "packages": [
                  "mxnet"
                ]
              }
            }
          },
          "metadata": {
            "tags": []
          }
        },
        {
          "output_type": "stream",
          "text": [
            "Requirement already satisfied: autogluon in /usr/local/lib/python3.6/dist-packages (0.0.13)\n",
            "Requirement already satisfied: numpy>=1.16.0 in /usr/local/lib/python3.6/dist-packages (from autogluon) (1.18.5)\n",
            "Requirement already satisfied: distributed>=2.6.0 in /usr/local/lib/python3.6/dist-packages (from autogluon) (2.24.0)\n",
            "Requirement already satisfied: tornado>=5.0.1 in /usr/local/lib/python3.6/dist-packages (from autogluon) (5.1.1)\n",
            "Requirement already satisfied: tqdm>=4.38.0 in /usr/local/lib/python3.6/dist-packages (from autogluon) (4.41.1)\n",
            "Requirement already satisfied: Pillow<=6.2.1 in /usr/local/lib/python3.6/dist-packages (from autogluon) (6.2.1)\n",
            "Requirement already satisfied: fastparquet==0.4.1 in /usr/local/lib/python3.6/dist-packages (from autogluon) (0.4.1)\n",
            "Requirement already satisfied: catboost<0.24 in /usr/local/lib/python3.6/dist-packages (from autogluon) (0.23.2)\n",
            "Requirement already satisfied: openml in /usr/local/lib/python3.6/dist-packages (from autogluon) (0.10.2)\n",
            "Requirement already satisfied: boto3 in /usr/local/lib/python3.6/dist-packages (from autogluon) (1.14.47)\n",
            "Requirement already satisfied: psutil<=5.7.0,>=5.0.0 in /usr/local/lib/python3.6/dist-packages (from autogluon) (5.4.8)\n",
            "Requirement already satisfied: pandas<1.0,>=0.24.0 in /usr/local/lib/python3.6/dist-packages (from autogluon) (0.25.3)\n",
            "Requirement already satisfied: networkx<3.0,>=2.3 in /usr/local/lib/python3.6/dist-packages (from autogluon) (2.4)\n",
            "Requirement already satisfied: scikit-learn<0.23,>=0.22.0 in /usr/local/lib/python3.6/dist-packages (from autogluon) (0.22.2.post1)\n",
            "Requirement already satisfied: scipy>=1.3.3 in /usr/local/lib/python3.6/dist-packages (from autogluon) (1.4.1)\n",
            "Requirement already satisfied: cryptography>=2.8 in /usr/local/lib/python3.6/dist-packages (from autogluon) (3.0)\n",
            "Requirement already satisfied: autogluon-contrib-nlp in /usr/local/lib/python3.6/dist-packages (from autogluon) (0.0.1b20200815)\n",
            "Requirement already satisfied: lightgbm<3.0,>=2.3.0 in /usr/local/lib/python3.6/dist-packages (from autogluon) (2.3.1)\n",
            "Requirement already satisfied: pyarrow<=1.0.0 in /usr/local/lib/python3.6/dist-packages (from autogluon) (0.14.1)\n",
            "Requirement already satisfied: gluoncv<1.0,>=0.5.0 in /usr/local/lib/python3.6/dist-packages (from autogluon) (0.8.0)\n",
            "Requirement already satisfied: graphviz<0.9.0,>=0.8.1 in /usr/local/lib/python3.6/dist-packages (from autogluon) (0.8.4)\n",
            "Requirement already satisfied: requests in /usr/local/lib/python3.6/dist-packages (from autogluon) (2.23.0)\n",
            "Requirement already satisfied: dask>=2.6.0 in /usr/local/lib/python3.6/dist-packages (from autogluon) (2.12.0)\n",
            "Requirement already satisfied: cython in /usr/local/lib/python3.6/dist-packages (from autogluon) (0.29.21)\n",
            "Requirement already satisfied: paramiko>=2.4 in /usr/local/lib/python3.6/dist-packages (from autogluon) (2.7.1)\n",
            "Requirement already satisfied: pytest in /usr/local/lib/python3.6/dist-packages (from autogluon) (3.6.4)\n",
            "Requirement already satisfied: scikit-optimize in /usr/local/lib/python3.6/dist-packages (from autogluon) (0.7.4)\n",
            "Requirement already satisfied: ConfigSpace<=0.4.10 in /usr/local/lib/python3.6/dist-packages (from autogluon) (0.4.10)\n",
            "Requirement already satisfied: matplotlib in /usr/local/lib/python3.6/dist-packages (from autogluon) (3.2.2)\n",
            "Requirement already satisfied: pyyaml in /usr/local/lib/python3.6/dist-packages (from distributed>=2.6.0->autogluon) (3.13)\n",
            "Requirement already satisfied: sortedcontainers!=2.0.0,!=2.0.1 in /usr/local/lib/python3.6/dist-packages (from distributed>=2.6.0->autogluon) (2.2.2)\n",
            "Requirement already satisfied: zict>=0.1.3 in /usr/local/lib/python3.6/dist-packages (from distributed>=2.6.0->autogluon) (2.0.0)\n",
            "Requirement already satisfied: toolz>=0.8.2 in /usr/local/lib/python3.6/dist-packages (from distributed>=2.6.0->autogluon) (0.10.0)\n",
            "Requirement already satisfied: setuptools in /usr/local/lib/python3.6/dist-packages (from distributed>=2.6.0->autogluon) (49.6.0)\n",
            "Requirement already satisfied: tblib>=1.6.0 in /usr/local/lib/python3.6/dist-packages (from distributed>=2.6.0->autogluon) (1.7.0)\n",
            "Requirement already satisfied: cloudpickle>=1.5.0 in /usr/local/lib/python3.6/dist-packages (from distributed>=2.6.0->autogluon) (1.6.0)\n",
            "Requirement already satisfied: contextvars; python_version < \"3.7\" in /usr/local/lib/python3.6/dist-packages (from distributed>=2.6.0->autogluon) (2.4)\n",
            "Requirement already satisfied: click>=6.6 in /usr/local/lib/python3.6/dist-packages (from distributed>=2.6.0->autogluon) (7.1.2)\n",
            "Requirement already satisfied: msgpack>=0.6.0 in /usr/local/lib/python3.6/dist-packages (from distributed>=2.6.0->autogluon) (1.0.0)\n",
            "Requirement already satisfied: packaging in /usr/local/lib/python3.6/dist-packages (from fastparquet==0.4.1->autogluon) (20.4)\n",
            "Requirement already satisfied: thrift>=0.11.0 in /usr/local/lib/python3.6/dist-packages (from fastparquet==0.4.1->autogluon) (0.13.0)\n",
            "Requirement already satisfied: six in /usr/local/lib/python3.6/dist-packages (from fastparquet==0.4.1->autogluon) (1.15.0)\n",
            "Requirement already satisfied: numba>=0.28 in /usr/local/lib/python3.6/dist-packages (from fastparquet==0.4.1->autogluon) (0.48.0)\n",
            "Requirement already satisfied: plotly in /usr/local/lib/python3.6/dist-packages (from catboost<0.24->autogluon) (4.4.1)\n",
            "Requirement already satisfied: liac-arff>=2.4.0 in /usr/local/lib/python3.6/dist-packages (from openml->autogluon) (2.4.0)\n",
            "Requirement already satisfied: python-dateutil in /usr/local/lib/python3.6/dist-packages (from openml->autogluon) (2.8.1)\n",
            "Requirement already satisfied: xmltodict in /usr/local/lib/python3.6/dist-packages (from openml->autogluon) (0.12.0)\n",
            "Requirement already satisfied: s3transfer<0.4.0,>=0.3.0 in /usr/local/lib/python3.6/dist-packages (from boto3->autogluon) (0.3.3)\n",
            "Requirement already satisfied: botocore<1.18.0,>=1.17.47 in /usr/local/lib/python3.6/dist-packages (from boto3->autogluon) (1.17.47)\n",
            "Requirement already satisfied: jmespath<1.0.0,>=0.7.1 in /usr/local/lib/python3.6/dist-packages (from boto3->autogluon) (0.10.0)\n",
            "Requirement already satisfied: pytz>=2017.2 in /usr/local/lib/python3.6/dist-packages (from pandas<1.0,>=0.24.0->autogluon) (2018.9)\n",
            "Requirement already satisfied: decorator>=4.3.0 in /usr/local/lib/python3.6/dist-packages (from networkx<3.0,>=2.3->autogluon) (4.4.2)\n",
            "Requirement already satisfied: joblib>=0.11 in /usr/local/lib/python3.6/dist-packages (from scikit-learn<0.23,>=0.22.0->autogluon) (0.16.0)\n",
            "Requirement already satisfied: cffi!=1.11.3,>=1.8 in /usr/local/lib/python3.6/dist-packages (from cryptography>=2.8->autogluon) (1.14.2)\n",
            "Requirement already satisfied: sacremoses>=0.0.38 in /usr/local/lib/python3.6/dist-packages (from autogluon-contrib-nlp->autogluon) (0.0.43)\n",
            "Requirement already satisfied: tokenizers>=0.7.0 in /usr/local/lib/python3.6/dist-packages (from autogluon-contrib-nlp->autogluon) (0.8.1)\n",
            "Requirement already satisfied: sentencepiece in /usr/local/lib/python3.6/dist-packages (from autogluon-contrib-nlp->autogluon) (0.1.91)\n",
            "Requirement already satisfied: regex in /usr/local/lib/python3.6/dist-packages (from autogluon-contrib-nlp->autogluon) (2019.12.20)\n",
            "Requirement already satisfied: protobuf in /usr/local/lib/python3.6/dist-packages (from autogluon-contrib-nlp->autogluon) (3.12.4)\n",
            "Requirement already satisfied: sacrebleu in /usr/local/lib/python3.6/dist-packages (from autogluon-contrib-nlp->autogluon) (1.4.13)\n",
            "Requirement already satisfied: yacs>=0.1.6 in /usr/local/lib/python3.6/dist-packages (from autogluon-contrib-nlp->autogluon) (0.1.8)\n",
            "Requirement already satisfied: flake8 in /usr/local/lib/python3.6/dist-packages (from autogluon-contrib-nlp->autogluon) (3.8.3)\n",
            "Requirement already satisfied: portalocker in /usr/local/lib/python3.6/dist-packages (from gluoncv<1.0,>=0.5.0->autogluon) (2.0.0)\n",
            "Requirement already satisfied: idna<3,>=2.5 in /usr/local/lib/python3.6/dist-packages (from requests->autogluon) (2.10)\n",
            "Requirement already satisfied: chardet<4,>=3.0.2 in /usr/local/lib/python3.6/dist-packages (from requests->autogluon) (3.0.4)\n",
            "Requirement already satisfied: urllib3!=1.25.0,!=1.25.1,<1.26,>=1.21.1 in /usr/local/lib/python3.6/dist-packages (from requests->autogluon) (1.24.3)\n",
            "Requirement already satisfied: certifi>=2017.4.17 in /usr/local/lib/python3.6/dist-packages (from requests->autogluon) (2020.6.20)\n",
            "Requirement already satisfied: bcrypt>=3.1.3 in /usr/local/lib/python3.6/dist-packages (from paramiko>=2.4->autogluon) (3.2.0)\n",
            "Requirement already satisfied: pynacl>=1.0.1 in /usr/local/lib/python3.6/dist-packages (from paramiko>=2.4->autogluon) (1.4.0)\n",
            "Requirement already satisfied: py>=1.5.0 in /usr/local/lib/python3.6/dist-packages (from pytest->autogluon) (1.9.0)\n",
            "Requirement already satisfied: pluggy<0.8,>=0.5 in /usr/local/lib/python3.6/dist-packages (from pytest->autogluon) (0.7.1)\n",
            "Requirement already satisfied: more-itertools>=4.0.0 in /usr/local/lib/python3.6/dist-packages (from pytest->autogluon) (8.4.0)\n",
            "Requirement already satisfied: attrs>=17.4.0 in /usr/local/lib/python3.6/dist-packages (from pytest->autogluon) (20.1.0)\n",
            "Requirement already satisfied: atomicwrites>=1.0 in /usr/local/lib/python3.6/dist-packages (from pytest->autogluon) (1.4.0)\n",
            "Requirement already satisfied: pyaml>=16.9 in /usr/local/lib/python3.6/dist-packages (from scikit-optimize->autogluon) (20.4.0)\n",
            "Requirement already satisfied: pyparsing in /usr/local/lib/python3.6/dist-packages (from ConfigSpace<=0.4.10->autogluon) (2.4.7)\n",
            "Requirement already satisfied: typing in /usr/local/lib/python3.6/dist-packages (from ConfigSpace<=0.4.10->autogluon) (3.7.4.3)\n",
            "Requirement already satisfied: kiwisolver>=1.0.1 in /usr/local/lib/python3.6/dist-packages (from matplotlib->autogluon) (1.2.0)\n",
            "Requirement already satisfied: cycler>=0.10 in /usr/local/lib/python3.6/dist-packages (from matplotlib->autogluon) (0.10.0)\n",
            "Requirement already satisfied: heapdict in /usr/local/lib/python3.6/dist-packages (from zict>=0.1.3->distributed>=2.6.0->autogluon) (1.0.1)\n",
            "Requirement already satisfied: immutables>=0.9 in /usr/local/lib/python3.6/dist-packages (from contextvars; python_version < \"3.7\"->distributed>=2.6.0->autogluon) (0.14)\n",
            "Requirement already satisfied: llvmlite<0.32.0,>=0.31.0dev0 in /usr/local/lib/python3.6/dist-packages (from numba>=0.28->fastparquet==0.4.1->autogluon) (0.31.0)\n",
            "Requirement already satisfied: retrying>=1.3.3 in /usr/local/lib/python3.6/dist-packages (from plotly->catboost<0.24->autogluon) (1.3.3)\n",
            "Requirement already satisfied: docutils<0.16,>=0.10 in /usr/local/lib/python3.6/dist-packages (from botocore<1.18.0,>=1.17.47->boto3->autogluon) (0.15.2)\n",
            "Requirement already satisfied: pycparser in /usr/local/lib/python3.6/dist-packages (from cffi!=1.11.3,>=1.8->cryptography>=2.8->autogluon) (2.20)\n",
            "Requirement already satisfied: pyflakes<2.3.0,>=2.2.0 in /usr/local/lib/python3.6/dist-packages (from flake8->autogluon-contrib-nlp->autogluon) (2.2.0)\n",
            "Requirement already satisfied: importlib-metadata; python_version < \"3.8\" in /usr/local/lib/python3.6/dist-packages (from flake8->autogluon-contrib-nlp->autogluon) (1.7.0)\n",
            "Requirement already satisfied: pycodestyle<2.7.0,>=2.6.0a1 in /usr/local/lib/python3.6/dist-packages (from flake8->autogluon-contrib-nlp->autogluon) (2.6.0)\n",
            "Requirement already satisfied: mccabe<0.7.0,>=0.6.0 in /usr/local/lib/python3.6/dist-packages (from flake8->autogluon-contrib-nlp->autogluon) (0.6.1)\n",
            "Requirement already satisfied: zipp>=0.5 in /usr/local/lib/python3.6/dist-packages (from importlib-metadata; python_version < \"3.8\"->flake8->autogluon-contrib-nlp->autogluon) (3.1.0)\n"
          ],
          "name": "stdout"
        }
      ]
    },
    {
      "cell_type": "code",
      "metadata": {
        "id": "WBgPUtDKTIzR",
        "colab_type": "code",
        "colab": {
          "base_uri": "https://localhost:8080/",
          "height": 690
        },
        "outputId": "d67cba7f-ee79-40a4-b0b6-fc58272c078b"
      },
      "source": [
        "!pip install -U ipykernel"
      ],
      "execution_count": 2,
      "outputs": [
        {
          "output_type": "stream",
          "text": [
            "Collecting ipykernel\n",
            "\u001b[?25l  Downloading https://files.pythonhosted.org/packages/52/19/c2812690d8b340987eecd2cbc18549b1d130b94c5d97fcbe49f5f8710edf/ipykernel-5.3.4-py3-none-any.whl (120kB)\n",
            "\r\u001b[K     |██▊                             | 10kB 24.5MB/s eta 0:00:01\r\u001b[K     |█████▍                          | 20kB 2.7MB/s eta 0:00:01\r\u001b[K     |████████▏                       | 30kB 3.7MB/s eta 0:00:01\r\u001b[K     |██████████▉                     | 40kB 4.0MB/s eta 0:00:01\r\u001b[K     |█████████████▋                  | 51kB 3.2MB/s eta 0:00:01\r\u001b[K     |████████████████▎               | 61kB 3.7MB/s eta 0:00:01\r\u001b[K     |███████████████████             | 71kB 3.9MB/s eta 0:00:01\r\u001b[K     |█████████████████████▊          | 81kB 4.3MB/s eta 0:00:01\r\u001b[K     |████████████████████████▌       | 92kB 4.5MB/s eta 0:00:01\r\u001b[K     |███████████████████████████▏    | 102kB 4.4MB/s eta 0:00:01\r\u001b[K     |██████████████████████████████  | 112kB 4.4MB/s eta 0:00:01\r\u001b[K     |████████████████████████████████| 122kB 4.4MB/s \n",
            "\u001b[?25hRequirement already satisfied, skipping upgrade: tornado>=4.2 in /usr/local/lib/python3.6/dist-packages (from ipykernel) (5.1.1)\n",
            "Requirement already satisfied, skipping upgrade: traitlets>=4.1.0 in /usr/local/lib/python3.6/dist-packages (from ipykernel) (4.3.3)\n",
            "Requirement already satisfied, skipping upgrade: ipython>=5.0.0 in /usr/local/lib/python3.6/dist-packages (from ipykernel) (5.5.0)\n",
            "Requirement already satisfied, skipping upgrade: jupyter-client in /usr/local/lib/python3.6/dist-packages (from ipykernel) (5.3.5)\n",
            "Requirement already satisfied, skipping upgrade: six in /usr/local/lib/python3.6/dist-packages (from traitlets>=4.1.0->ipykernel) (1.15.0)\n",
            "Requirement already satisfied, skipping upgrade: decorator in /usr/local/lib/python3.6/dist-packages (from traitlets>=4.1.0->ipykernel) (4.4.2)\n",
            "Requirement already satisfied, skipping upgrade: ipython-genutils in /usr/local/lib/python3.6/dist-packages (from traitlets>=4.1.0->ipykernel) (0.2.0)\n",
            "Requirement already satisfied, skipping upgrade: simplegeneric>0.8 in /usr/local/lib/python3.6/dist-packages (from ipython>=5.0.0->ipykernel) (0.8.1)\n",
            "Requirement already satisfied, skipping upgrade: prompt-toolkit<2.0.0,>=1.0.4 in /usr/local/lib/python3.6/dist-packages (from ipython>=5.0.0->ipykernel) (1.0.18)\n",
            "Requirement already satisfied, skipping upgrade: setuptools>=18.5 in /usr/local/lib/python3.6/dist-packages (from ipython>=5.0.0->ipykernel) (49.6.0)\n",
            "Requirement already satisfied, skipping upgrade: pygments in /usr/local/lib/python3.6/dist-packages (from ipython>=5.0.0->ipykernel) (2.1.3)\n",
            "Requirement already satisfied, skipping upgrade: pickleshare in /usr/local/lib/python3.6/dist-packages (from ipython>=5.0.0->ipykernel) (0.7.5)\n",
            "Requirement already satisfied, skipping upgrade: pexpect; sys_platform != \"win32\" in /usr/local/lib/python3.6/dist-packages (from ipython>=5.0.0->ipykernel) (4.8.0)\n",
            "Requirement already satisfied, skipping upgrade: pyzmq>=13 in /usr/local/lib/python3.6/dist-packages (from jupyter-client->ipykernel) (19.0.2)\n",
            "Requirement already satisfied, skipping upgrade: python-dateutil>=2.1 in /usr/local/lib/python3.6/dist-packages (from jupyter-client->ipykernel) (2.8.1)\n",
            "Requirement already satisfied, skipping upgrade: jupyter-core>=4.6.0 in /usr/local/lib/python3.6/dist-packages (from jupyter-client->ipykernel) (4.6.3)\n",
            "Requirement already satisfied, skipping upgrade: wcwidth in /usr/local/lib/python3.6/dist-packages (from prompt-toolkit<2.0.0,>=1.0.4->ipython>=5.0.0->ipykernel) (0.2.5)\n",
            "Requirement already satisfied, skipping upgrade: ptyprocess>=0.5 in /usr/local/lib/python3.6/dist-packages (from pexpect; sys_platform != \"win32\"->ipython>=5.0.0->ipykernel) (0.6.0)\n",
            "\u001b[31mERROR: google-colab 1.0.0 has requirement ipykernel~=4.10, but you'll have ipykernel 5.3.4 which is incompatible.\u001b[0m\n",
            "\u001b[31mERROR: google-colab 1.0.0 has requirement pandas~=1.0.0; python_version >= \"3.0\", but you'll have pandas 0.25.3 which is incompatible.\u001b[0m\n",
            "Installing collected packages: ipykernel\n",
            "  Found existing installation: ipykernel 4.10.1\n",
            "    Uninstalling ipykernel-4.10.1:\n",
            "      Successfully uninstalled ipykernel-4.10.1\n",
            "Successfully installed ipykernel-5.3.4\n"
          ],
          "name": "stdout"
        },
        {
          "output_type": "display_data",
          "data": {
            "application/vnd.colab-display-data+json": {
              "pip_warning": {
                "packages": [
                  "ipykernel"
                ]
              }
            }
          },
          "metadata": {
            "tags": []
          }
        }
      ]
    },
    {
      "cell_type": "markdown",
      "metadata": {
        "id": "g-C4C6TGSgKI",
        "colab_type": "text"
      },
      "source": [
        "### Example 1. Income classification"
      ]
    },
    {
      "cell_type": "markdown",
      "metadata": {
        "id": "ngM0sP6ZVjSH",
        "colab_type": "text"
      },
      "source": [
        "#### Data"
      ]
    },
    {
      "cell_type": "code",
      "metadata": {
        "id": "dvnk0U9PTKu1",
        "colab_type": "code",
        "colab": {}
      },
      "source": [
        "import autogluon as ag\n",
        "from autogluon import TabularPrediction as task"
      ],
      "execution_count": 1,
      "outputs": []
    },
    {
      "cell_type": "code",
      "metadata": {
        "id": "IQA8K929TO5h",
        "colab_type": "code",
        "colab": {
          "base_uri": "https://localhost:8080/",
          "height": 296
        },
        "outputId": "76b0defb-41b8-43eb-ff2f-de4f780f3c01"
      },
      "source": [
        "train_data = task.Dataset(file_path='https://autogluon.s3.amazonaws.com/datasets/Inc/train.csv')\n",
        "train_data = train_data.head(500) # subsample 500 data points for faster demo\n",
        "train_data.head()"
      ],
      "execution_count": 4,
      "outputs": [
        {
          "output_type": "execute_result",
          "data": {
            "text/html": [
              "<div>\n",
              "<style scoped>\n",
              "    .dataframe tbody tr th:only-of-type {\n",
              "        vertical-align: middle;\n",
              "    }\n",
              "\n",
              "    .dataframe tbody tr th {\n",
              "        vertical-align: top;\n",
              "    }\n",
              "\n",
              "    .dataframe thead th {\n",
              "        text-align: right;\n",
              "    }\n",
              "</style>\n",
              "<table border=\"1\" class=\"dataframe\">\n",
              "  <thead>\n",
              "    <tr style=\"text-align: right;\">\n",
              "      <th></th>\n",
              "      <th>age</th>\n",
              "      <th>workclass</th>\n",
              "      <th>fnlwgt</th>\n",
              "      <th>education</th>\n",
              "      <th>education-num</th>\n",
              "      <th>marital-status</th>\n",
              "      <th>occupation</th>\n",
              "      <th>relationship</th>\n",
              "      <th>race</th>\n",
              "      <th>sex</th>\n",
              "      <th>capital-gain</th>\n",
              "      <th>capital-loss</th>\n",
              "      <th>hours-per-week</th>\n",
              "      <th>native-country</th>\n",
              "      <th>class</th>\n",
              "    </tr>\n",
              "  </thead>\n",
              "  <tbody>\n",
              "    <tr>\n",
              "      <th>0</th>\n",
              "      <td>25</td>\n",
              "      <td>Private</td>\n",
              "      <td>178478</td>\n",
              "      <td>Bachelors</td>\n",
              "      <td>13</td>\n",
              "      <td>Never-married</td>\n",
              "      <td>Tech-support</td>\n",
              "      <td>Own-child</td>\n",
              "      <td>White</td>\n",
              "      <td>Female</td>\n",
              "      <td>0</td>\n",
              "      <td>0</td>\n",
              "      <td>40</td>\n",
              "      <td>United-States</td>\n",
              "      <td>&lt;=50K</td>\n",
              "    </tr>\n",
              "    <tr>\n",
              "      <th>1</th>\n",
              "      <td>23</td>\n",
              "      <td>State-gov</td>\n",
              "      <td>61743</td>\n",
              "      <td>5th-6th</td>\n",
              "      <td>3</td>\n",
              "      <td>Never-married</td>\n",
              "      <td>Transport-moving</td>\n",
              "      <td>Not-in-family</td>\n",
              "      <td>White</td>\n",
              "      <td>Male</td>\n",
              "      <td>0</td>\n",
              "      <td>0</td>\n",
              "      <td>35</td>\n",
              "      <td>United-States</td>\n",
              "      <td>&lt;=50K</td>\n",
              "    </tr>\n",
              "    <tr>\n",
              "      <th>2</th>\n",
              "      <td>46</td>\n",
              "      <td>Private</td>\n",
              "      <td>376789</td>\n",
              "      <td>HS-grad</td>\n",
              "      <td>9</td>\n",
              "      <td>Never-married</td>\n",
              "      <td>Other-service</td>\n",
              "      <td>Not-in-family</td>\n",
              "      <td>White</td>\n",
              "      <td>Male</td>\n",
              "      <td>0</td>\n",
              "      <td>0</td>\n",
              "      <td>15</td>\n",
              "      <td>United-States</td>\n",
              "      <td>&lt;=50K</td>\n",
              "    </tr>\n",
              "    <tr>\n",
              "      <th>3</th>\n",
              "      <td>55</td>\n",
              "      <td>?</td>\n",
              "      <td>200235</td>\n",
              "      <td>HS-grad</td>\n",
              "      <td>9</td>\n",
              "      <td>Married-civ-spouse</td>\n",
              "      <td>?</td>\n",
              "      <td>Husband</td>\n",
              "      <td>White</td>\n",
              "      <td>Male</td>\n",
              "      <td>0</td>\n",
              "      <td>0</td>\n",
              "      <td>50</td>\n",
              "      <td>United-States</td>\n",
              "      <td>&gt;50K</td>\n",
              "    </tr>\n",
              "    <tr>\n",
              "      <th>4</th>\n",
              "      <td>36</td>\n",
              "      <td>Private</td>\n",
              "      <td>224541</td>\n",
              "      <td>7th-8th</td>\n",
              "      <td>4</td>\n",
              "      <td>Married-civ-spouse</td>\n",
              "      <td>Handlers-cleaners</td>\n",
              "      <td>Husband</td>\n",
              "      <td>White</td>\n",
              "      <td>Male</td>\n",
              "      <td>0</td>\n",
              "      <td>0</td>\n",
              "      <td>40</td>\n",
              "      <td>El-Salvador</td>\n",
              "      <td>&lt;=50K</td>\n",
              "    </tr>\n",
              "  </tbody>\n",
              "</table>\n",
              "</div>"
            ],
            "text/plain": [
              "   age   workclass  fnlwgt  ... hours-per-week  native-country   class\n",
              "0   25     Private  178478  ...             40   United-States   <=50K\n",
              "1   23   State-gov   61743  ...             35   United-States   <=50K\n",
              "2   46     Private  376789  ...             15   United-States   <=50K\n",
              "3   55           ?  200235  ...             50   United-States    >50K\n",
              "4   36     Private  224541  ...             40     El-Salvador   <=50K\n",
              "\n",
              "[5 rows x 15 columns]"
            ]
          },
          "metadata": {
            "tags": []
          },
          "execution_count": 4
        }
      ]
    },
    {
      "cell_type": "code",
      "metadata": {
        "id": "ggCskOYeTdMY",
        "colab_type": "code",
        "colab": {
          "base_uri": "https://localhost:8080/",
          "height": 122
        },
        "outputId": "64fa7feb-490f-402c-817a-9efd381093d3"
      },
      "source": [
        "label_column = 'class'\n",
        "print(\"Summary of class variable: \\n\", train_data[label_column].describe())"
      ],
      "execution_count": 3,
      "outputs": [
        {
          "output_type": "stream",
          "text": [
            "Summary of class variable: \n",
            " count        500\n",
            "unique         2\n",
            "top        <=50K\n",
            "freq         394\n",
            "Name: class, dtype: object\n"
          ],
          "name": "stdout"
        }
      ]
    },
    {
      "cell_type": "markdown",
      "metadata": {
        "id": "9VxBLkJUVO2m",
        "colab_type": "text"
      },
      "source": [
        "#### Fit"
      ]
    },
    {
      "cell_type": "code",
      "metadata": {
        "id": "e5Dh5W9dUrWX",
        "colab_type": "code",
        "colab": {
          "base_uri": "https://localhost:8080/",
          "height": 1000
        },
        "outputId": "9aa6a602-cedb-4d86-9037-7888e9fdfd2a"
      },
      "source": [
        "dir = 'agModels-predictClass' # specifies folder where to store trained models\n",
        "predictor = task.fit(train_data=train_data, label=label_column, output_directory=dir)"
      ],
      "execution_count": 5,
      "outputs": [
        {
          "output_type": "stream",
          "text": [
            "Beginning AutoGluon training ...\n",
            "AutoGluon will save models to agModels-predictClass/\n",
            "AutoGluon Version:  0.0.13\n",
            "Train Data Rows:    500\n",
            "Train Data Columns: 15\n",
            "Preprocessing data ...\n",
            "Here are the 2 unique label values in your data:  [' <=50K', ' >50K']\n",
            "AutoGluon infers your prediction problem is: binary  (because only two unique label-values observed).\n",
            "If this is wrong, please specify `problem_type` argument in fit() instead (You may specify problem_type as one of: ['binary', 'multiclass', 'regression'])\n",
            "\n",
            "Selected class <--> label mapping:  class 1 =  >50K, class 0 =  <=50K\n",
            "Train Data Class Count: 2\n",
            "NumExpr defaulting to 2 threads.\n",
            "Feature Generator processed 500 data points with 14 features\n",
            "Original Features (raw dtypes):\n",
            "\tint64 features: 6\n",
            "\tobject features: 8\n",
            "Original Features (inferred dtypes):\n",
            "\tint features: 6\n",
            "\tobject features: 8\n",
            "Generated Features (special dtypes):\n",
            "Processed Features (raw dtypes):\n",
            "\tint features: 6\n",
            "\tcategory features: 8\n",
            "Processed Features:\n",
            "\tint features: 6\n",
            "\tcategory features: 8\n",
            "\tData preprocessing and feature engineering runtime = 0.13s ...\n",
            "AutoGluon will gauge predictive performance using evaluation metric: accuracy\n",
            "To change this, specify the eval_metric argument of fit()\n",
            "AutoGluon will early stop models using evaluation metric: accuracy\n",
            "Fitting model: RandomForestClassifierGini ...\n",
            "\t0.83\t = Validation accuracy score\n",
            "\t0.63s\t = Training runtime\n",
            "\t0.11s\t = Validation runtime\n",
            "Fitting model: RandomForestClassifierEntr ...\n",
            "\t0.82\t = Validation accuracy score\n",
            "\t0.62s\t = Training runtime\n",
            "\t0.11s\t = Validation runtime\n",
            "Fitting model: ExtraTreesClassifierGini ...\n",
            "\t0.83\t = Validation accuracy score\n",
            "\t0.52s\t = Training runtime\n",
            "\t0.11s\t = Validation runtime\n",
            "Fitting model: ExtraTreesClassifierEntr ...\n",
            "\t0.82\t = Validation accuracy score\n",
            "\t0.52s\t = Training runtime\n",
            "\t0.11s\t = Validation runtime\n",
            "Fitting model: KNeighborsClassifierUnif ...\n",
            "\t0.8\t = Validation accuracy score\n",
            "\t0.01s\t = Training runtime\n",
            "\t0.11s\t = Validation runtime\n",
            "Fitting model: KNeighborsClassifierDist ...\n",
            "\t0.75\t = Validation accuracy score\n",
            "\t0.01s\t = Training runtime\n",
            "\t0.11s\t = Validation runtime\n",
            "Fitting model: LightGBMClassifier ...\n",
            "\t0.86\t = Validation accuracy score\n",
            "\t0.17s\t = Training runtime\n",
            "\t0.01s\t = Validation runtime\n",
            "Fitting model: CatboostClassifier ...\n",
            "\t0.85\t = Validation accuracy score\n",
            "\t1.48s\t = Training runtime\n",
            "\t0.01s\t = Validation runtime\n",
            "Fitting model: NeuralNetClassifier ...\n",
            "\t0.86\t = Validation accuracy score\n",
            "\t4.37s\t = Training runtime\n",
            "\t0.02s\t = Validation runtime\n",
            "Fitting model: LightGBMClassifierCustom ...\n",
            "\t0.84\t = Validation accuracy score\n",
            "\t0.38s\t = Training runtime\n",
            "\t0.01s\t = Validation runtime\n",
            "Fitting model: weighted_ensemble_k0_l1 ...\n",
            "\t0.87\t = Validation accuracy score\n",
            "\t0.38s\t = Training runtime\n",
            "\t0.0s\t = Validation runtime\n",
            "AutoGluon training complete, total runtime = 11.09s ...\n"
          ],
          "name": "stderr"
        }
      ]
    },
    {
      "cell_type": "markdown",
      "metadata": {
        "id": "Q517Fgc3VstU",
        "colab_type": "text"
      },
      "source": [
        "#### Inference"
      ]
    },
    {
      "cell_type": "code",
      "metadata": {
        "id": "iC-PKnXaTgjl",
        "colab_type": "code",
        "colab": {
          "base_uri": "https://localhost:8080/",
          "height": 686
        },
        "outputId": "8a5bd574-f02b-4748-c2c5-082fb0131b78"
      },
      "source": [
        "predictor = task.load(dir) # unnecessary, just demonstrates how to load previously-trained predictor from file\n",
        "\n",
        "y_pred = predictor.predict(test_data_nolab)\n",
        "print(\"Predictions:  \", y_pred)\n",
        "perf = predictor.evaluate_predictions(y_true=y_test, y_pred=y_pred, auxiliary_metrics=True)"
      ],
      "execution_count": 8,
      "outputs": [
        {
          "output_type": "stream",
          "text": [
            "Evaluation: accuracy on test data: 0.8249564950353158\n",
            "Evaluations on test data:\n",
            "{\n",
            "    \"accuracy\": 0.8249564950353158,\n",
            "    \"accuracy_score\": 0.8249564950353158,\n",
            "    \"balanced_accuracy_score\": 0.6792933272763128,\n",
            "    \"matthews_corrcoef\": 0.45574507440667816,\n",
            "    \"f1_score\": 0.8249564950353158\n",
            "}\n"
          ],
          "name": "stderr"
        },
        {
          "output_type": "stream",
          "text": [
            "Predictions:   [' <=50K' ' <=50K' ' >50K' ... ' <=50K' ' <=50K' ' <=50K']\n"
          ],
          "name": "stdout"
        },
        {
          "output_type": "stream",
          "text": [
            "Detailed (per-class) classification report:\n",
            "{\n",
            "    \" <=50K\": {\n",
            "        \"precision\": 0.8371901797251263,\n",
            "        \"recall\": 0.956515903905516,\n",
            "        \"f1-score\": 0.8928839889751942,\n",
            "        \"support\": 7451\n",
            "    },\n",
            "    \" >50K\": {\n",
            "        \"precision\": 0.7420382165605095,\n",
            "        \"recall\": 0.40207075064710956,\n",
            "        \"f1-score\": 0.5215444879686626,\n",
            "        \"support\": 2318\n",
            "    },\n",
            "    \"accuracy\": 0.8249564950353158,\n",
            "    \"macro avg\": {\n",
            "        \"precision\": 0.789614198142818,\n",
            "        \"recall\": 0.6792933272763128,\n",
            "        \"f1-score\": 0.7072142384719284,\n",
            "        \"support\": 9769\n",
            "    },\n",
            "    \"weighted avg\": {\n",
            "        \"precision\": 0.8146124081399505,\n",
            "        \"recall\": 0.8249564950353158,\n",
            "        \"f1-score\": 0.8047721081958779,\n",
            "        \"support\": 9769\n",
            "    }\n",
            "}\n"
          ],
          "name": "stderr"
        }
      ]
    },
    {
      "cell_type": "code",
      "metadata": {
        "id": "OMvHovQbTfMb",
        "colab_type": "code",
        "colab": {
          "base_uri": "https://localhost:8080/",
          "height": 297
        },
        "outputId": "0568140e-6930-44e3-9ffa-25d7ef5ca9ff"
      },
      "source": [
        "test_data = task.Dataset(file_path='https://autogluon.s3.amazonaws.com/datasets/Inc/test.csv')\n",
        "y_test = test_data[label_column]  # values to predict\n",
        "test_data_nolab = test_data.drop(labels=[label_column],axis=1) # delete label column to prove we're not cheating\n",
        "test_data_nolab.head()"
      ],
      "execution_count": 7,
      "outputs": [
        {
          "output_type": "stream",
          "text": [
            "Loaded data from: https://autogluon.s3.amazonaws.com/datasets/Inc/test.csv | Columns = 15 / 15 | Rows = 9769 -> 9769\n"
          ],
          "name": "stderr"
        },
        {
          "output_type": "execute_result",
          "data": {
            "text/html": [
              "<div>\n",
              "<style scoped>\n",
              "    .dataframe tbody tr th:only-of-type {\n",
              "        vertical-align: middle;\n",
              "    }\n",
              "\n",
              "    .dataframe tbody tr th {\n",
              "        vertical-align: top;\n",
              "    }\n",
              "\n",
              "    .dataframe thead th {\n",
              "        text-align: right;\n",
              "    }\n",
              "</style>\n",
              "<table border=\"1\" class=\"dataframe\">\n",
              "  <thead>\n",
              "    <tr style=\"text-align: right;\">\n",
              "      <th></th>\n",
              "      <th>age</th>\n",
              "      <th>workclass</th>\n",
              "      <th>fnlwgt</th>\n",
              "      <th>education</th>\n",
              "      <th>education-num</th>\n",
              "      <th>marital-status</th>\n",
              "      <th>occupation</th>\n",
              "      <th>relationship</th>\n",
              "      <th>race</th>\n",
              "      <th>sex</th>\n",
              "      <th>capital-gain</th>\n",
              "      <th>capital-loss</th>\n",
              "      <th>hours-per-week</th>\n",
              "      <th>native-country</th>\n",
              "    </tr>\n",
              "  </thead>\n",
              "  <tbody>\n",
              "    <tr>\n",
              "      <th>0</th>\n",
              "      <td>31</td>\n",
              "      <td>Private</td>\n",
              "      <td>169085</td>\n",
              "      <td>11th</td>\n",
              "      <td>7</td>\n",
              "      <td>Married-civ-spouse</td>\n",
              "      <td>Sales</td>\n",
              "      <td>Wife</td>\n",
              "      <td>White</td>\n",
              "      <td>Female</td>\n",
              "      <td>0</td>\n",
              "      <td>0</td>\n",
              "      <td>20</td>\n",
              "      <td>United-States</td>\n",
              "    </tr>\n",
              "    <tr>\n",
              "      <th>1</th>\n",
              "      <td>17</td>\n",
              "      <td>Self-emp-not-inc</td>\n",
              "      <td>226203</td>\n",
              "      <td>12th</td>\n",
              "      <td>8</td>\n",
              "      <td>Never-married</td>\n",
              "      <td>Sales</td>\n",
              "      <td>Own-child</td>\n",
              "      <td>White</td>\n",
              "      <td>Male</td>\n",
              "      <td>0</td>\n",
              "      <td>0</td>\n",
              "      <td>45</td>\n",
              "      <td>United-States</td>\n",
              "    </tr>\n",
              "    <tr>\n",
              "      <th>2</th>\n",
              "      <td>47</td>\n",
              "      <td>Private</td>\n",
              "      <td>54260</td>\n",
              "      <td>Assoc-voc</td>\n",
              "      <td>11</td>\n",
              "      <td>Married-civ-spouse</td>\n",
              "      <td>Exec-managerial</td>\n",
              "      <td>Husband</td>\n",
              "      <td>White</td>\n",
              "      <td>Male</td>\n",
              "      <td>0</td>\n",
              "      <td>1887</td>\n",
              "      <td>60</td>\n",
              "      <td>United-States</td>\n",
              "    </tr>\n",
              "    <tr>\n",
              "      <th>3</th>\n",
              "      <td>21</td>\n",
              "      <td>Private</td>\n",
              "      <td>176262</td>\n",
              "      <td>Some-college</td>\n",
              "      <td>10</td>\n",
              "      <td>Never-married</td>\n",
              "      <td>Exec-managerial</td>\n",
              "      <td>Own-child</td>\n",
              "      <td>White</td>\n",
              "      <td>Female</td>\n",
              "      <td>0</td>\n",
              "      <td>0</td>\n",
              "      <td>30</td>\n",
              "      <td>United-States</td>\n",
              "    </tr>\n",
              "    <tr>\n",
              "      <th>4</th>\n",
              "      <td>17</td>\n",
              "      <td>Private</td>\n",
              "      <td>241185</td>\n",
              "      <td>12th</td>\n",
              "      <td>8</td>\n",
              "      <td>Never-married</td>\n",
              "      <td>Prof-specialty</td>\n",
              "      <td>Own-child</td>\n",
              "      <td>White</td>\n",
              "      <td>Male</td>\n",
              "      <td>0</td>\n",
              "      <td>0</td>\n",
              "      <td>20</td>\n",
              "      <td>United-States</td>\n",
              "    </tr>\n",
              "  </tbody>\n",
              "</table>\n",
              "</div>"
            ],
            "text/plain": [
              "   age          workclass  fnlwgt  ... capital-loss  hours-per-week  native-country\n",
              "0   31            Private  169085  ...            0              20   United-States\n",
              "1   17   Self-emp-not-inc  226203  ...            0              45   United-States\n",
              "2   47            Private   54260  ...         1887              60   United-States\n",
              "3   21            Private  176262  ...            0              30   United-States\n",
              "4   17            Private  241185  ...            0              20   United-States\n",
              "\n",
              "[5 rows x 14 columns]"
            ]
          },
          "metadata": {
            "tags": []
          },
          "execution_count": 7
        }
      ]
    },
    {
      "cell_type": "markdown",
      "metadata": {
        "id": "p1h7dcEEVxVG",
        "colab_type": "text"
      },
      "source": [
        "#### Check model summary"
      ]
    },
    {
      "cell_type": "code",
      "metadata": {
        "id": "9Xn5chDoU5vz",
        "colab_type": "code",
        "colab": {
          "base_uri": "https://localhost:8080/",
          "height": 459
        },
        "outputId": "f5829322-ddfa-41b6-9dd2-44332b697a54"
      },
      "source": [
        "results = predictor.fit_summary()"
      ],
      "execution_count": 10,
      "outputs": [
        {
          "output_type": "stream",
          "text": [
            "*** Summary of fit() ***\n",
            "Estimated performance of each model:\n",
            "                         model  score_val  pred_time_val  fit_time  pred_time_val_marginal  fit_time_marginal  stack_level  can_infer  fit_order\n",
            "0      weighted_ensemble_k0_l1       0.87       0.387214  8.178858                0.001337           0.380271            1       True         11\n",
            "1           LightGBMClassifier       0.86       0.011454  0.174834                0.011454           0.174834            0       True          7\n",
            "2          NeuralNetClassifier       0.86       0.024859  4.372865                0.024859           4.372865            0       True          9\n",
            "3           CatboostClassifier       0.85       0.011435  1.483190                0.011435           1.483190            0       True          8\n",
            "4     LightGBMClassifierCustom       0.84       0.014230  0.377960                0.014230           0.377960            0       True         10\n",
            "5     ExtraTreesClassifierGini       0.83       0.112609  0.520672                0.112609           0.520672            0       True          3\n",
            "6   RandomForestClassifierGini       0.83       0.113148  0.631851                0.113148           0.631851            0       True          1\n",
            "7     ExtraTreesClassifierEntr       0.82       0.112066  0.521707                0.112066           0.521707            0       True          4\n",
            "8   RandomForestClassifierEntr       0.82       0.112372  0.615175                0.112372           0.615175            0       True          2\n",
            "9     KNeighborsClassifierUnif       0.80       0.105789  0.005851                0.105789           0.005851            0       True          5\n",
            "10    KNeighborsClassifierDist       0.75       0.106367  0.005582                0.106367           0.005582            0       True          6\n",
            "Number of models trained: 11\n",
            "Types of models trained:\n",
            "{'KNNModel', 'XTModel', 'WeightedEnsembleModel', 'RFModel', 'LGBModel', 'TabularNeuralNetModel', 'CatboostModel'}\n",
            "Bagging used: False \n",
            "Stack-ensembling used: False \n",
            "Hyperparameter-tuning used: False \n",
            "User-specified hyperparameters:\n",
            "{'default': {'NN': [{}], 'GBM': [{}], 'CAT': [{}], 'RF': [{'criterion': 'gini', 'AG_args': {'name_suffix': 'Gini', 'problem_types': ['binary', 'multiclass']}}, {'criterion': 'entropy', 'AG_args': {'name_suffix': 'Entr', 'problem_types': ['binary', 'multiclass']}}], 'XT': [{'criterion': 'gini', 'AG_args': {'name_suffix': 'Gini', 'problem_types': ['binary', 'multiclass']}}, {'criterion': 'entropy', 'AG_args': {'name_suffix': 'Entr', 'problem_types': ['binary', 'multiclass']}}], 'KNN': [{'weights': 'uniform', 'AG_args': {'name_suffix': 'Unif'}}, {'weights': 'distance', 'AG_args': {'name_suffix': 'Dist'}}], 'custom': [{'num_boost_round': 10000, 'num_threads': -1, 'objective': 'binary', 'verbose': -1, 'boosting_type': 'gbdt', 'learning_rate': 0.03, 'num_leaves': 128, 'feature_fraction': 0.9, 'min_data_in_leaf': 5, 'two_round': True, 'seed_value': 0, 'AG_args': {'model_type': 'GBM', 'name_suffix': 'Custom', 'disable_in_hpo': True}}]}}\n",
            "Plot summary of models saved to file: agModels-predictClass/SummaryOfModels.html\n",
            "*** End of fit() summary ***\n"
          ],
          "name": "stdout"
        }
      ]
    },
    {
      "cell_type": "markdown",
      "metadata": {
        "id": "lTz2AGjRWbSU",
        "colab_type": "text"
      },
      "source": [
        "#### Save model"
      ]
    },
    {
      "cell_type": "code",
      "metadata": {
        "id": "mVZz_U0BWK6s",
        "colab_type": "code",
        "colab": {
          "base_uri": "https://localhost:8080/",
          "height": 34
        },
        "outputId": "d00b6325-a320-43ff-d9e8-54effd416de0"
      },
      "source": [
        "predictor.save()"
      ],
      "execution_count": 12,
      "outputs": [
        {
          "output_type": "stream",
          "text": [
            "TabularPredictor saved. To load, use: TabularPredictor.load(\"agModels-predictClass/\")\n"
          ],
          "name": "stderr"
        }
      ]
    },
    {
      "cell_type": "code",
      "metadata": {
        "id": "ZMAy_ErjWV0J",
        "colab_type": "code",
        "colab": {
          "base_uri": "https://localhost:8080/",
          "height": 34
        },
        "outputId": "360da621-6c86-4334-fef6-6193d0ec51d6"
      },
      "source": [
        "!ls agModels-predictClass"
      ],
      "execution_count": 14,
      "outputs": [
        {
          "output_type": "stream",
          "text": [
            "learner.pkl  models  SummaryOfModels.html  utils\n"
          ],
          "name": "stdout"
        }
      ]
    },
    {
      "cell_type": "markdown",
      "metadata": {
        "id": "ToEazGHCVEQW",
        "colab_type": "text"
      },
      "source": [
        "### Example 2. IMage "
      ]
    },
    {
      "cell_type": "markdown",
      "metadata": {
        "id": "ubHVukF_WlxA",
        "colab_type": "text"
      },
      "source": [
        "#### Data"
      ]
    },
    {
      "cell_type": "code",
      "metadata": {
        "id": "rrQnhnsaWfxk",
        "colab_type": "code",
        "colab": {}
      },
      "source": [
        "import pandas as pd\n",
        "from sklearn.model_selection import train_test_split\n",
        "\n",
        "\n",
        "file_uri = 'https://github.com/aws-samples/aws-machine-learning-university-accelerated-tab/blob/master/data/review/review_dataset.csv?raw=true'\n",
        "df = pd.read_csv(file_uri)\n",
        "train_data, test_data = train_test_split(df, test_size=0.1, shuffle=True, random_state=23)"
      ],
      "execution_count": 15,
      "outputs": []
    },
    {
      "cell_type": "markdown",
      "metadata": {
        "id": "pFodxWrlXOxG",
        "colab_type": "text"
      },
      "source": [
        "#### Fit"
      ]
    },
    {
      "cell_type": "code",
      "metadata": {
        "id": "ipQl2PyiXGyE",
        "colab_type": "code",
        "colab": {
          "base_uri": "https://localhost:8080/",
          "height": 1000
        },
        "outputId": "c279d496-415a-46f5-f327-77c4aea4b510"
      },
      "source": [
        "from autogluon import TabularPrediction as task\n",
        "\n",
        "k = 10000 # grab less data for a quick demo\n",
        "#k = train_data.shape[0] # grad the whole dataset; \n",
        "\n",
        "predictor = task.fit(train_data=train_data.head(k), label='Outcome Type')"
      ],
      "execution_count": 17,
      "outputs": [
        {
          "output_type": "stream",
          "text": [
            "No output_directory specified. Models will be saved in: AutogluonModels/ag-20200826_152210/\n",
            "Beginning AutoGluon training ...\n",
            "AutoGluon will save models to AutogluonModels/ag-20200826_152210/\n",
            "AutoGluon Version:  0.0.13\n",
            "Train Data Rows:    10000\n",
            "Train Data Columns: 13\n",
            "Preprocessing data ...\n",
            "Here are the 2 unique label values in your data:  [1.0, 0.0]\n",
            "AutoGluon infers your prediction problem is: binary  (because only two unique label-values observed).\n",
            "If this is wrong, please specify `problem_type` argument in fit() instead (You may specify problem_type as one of: ['binary', 'multiclass', 'regression'])\n",
            "\n",
            "Selected class <--> label mapping:  class 1 = 1, class 0 = 0\n",
            "Train Data Class Count: 2\n",
            "Feature Generator processed 10000 data points with 230 features\n",
            "Original Features (raw dtypes):\n",
            "\tobject features: 10\n",
            "\tint64 features: 2\n",
            "Original Features (inferred dtypes):\n",
            "\tobject features: 9\n",
            "\ttext features: 1\n",
            "\tint features: 2\n",
            "Generated Features (special dtypes):\n",
            "\ttext_as_category features: 1\n",
            "\ttext_special features: 20\n",
            "\ttext_ngram features: 199\n",
            "Processed Features (raw dtypes):\n",
            "\tint features: 221\n",
            "\tcategory features: 9\n",
            "Processed Features:\n",
            "\ttext_as_category features: 1\n",
            "\ttext_special features: 20\n",
            "\ttext_ngram features: 199\n",
            "\tint features: 2\n",
            "\tcategory features: 8\n",
            "\tData preprocessing and feature engineering runtime = 3.16s ...\n",
            "AutoGluon will gauge predictive performance using evaluation metric: accuracy\n",
            "To change this, specify the eval_metric argument of fit()\n",
            "AutoGluon will early stop models using evaluation metric: accuracy\n",
            "Fitting model: RandomForestClassifierGini ...\n",
            "\t0.869\t = Validation accuracy score\n",
            "\t4.37s\t = Training runtime\n",
            "\t0.24s\t = Validation runtime\n",
            "Fitting model: RandomForestClassifierEntr ...\n",
            "\t0.866\t = Validation accuracy score\n",
            "\t4.97s\t = Training runtime\n",
            "\t0.24s\t = Validation runtime\n",
            "Fitting model: ExtraTreesClassifierGini ...\n",
            "\t0.846\t = Validation accuracy score\n",
            "\t4.98s\t = Training runtime\n",
            "\t0.25s\t = Validation runtime\n",
            "Fitting model: ExtraTreesClassifierEntr ...\n",
            "\t0.848\t = Validation accuracy score\n",
            "\t5.58s\t = Training runtime\n",
            "\t0.24s\t = Validation runtime\n",
            "Fitting model: KNeighborsClassifierUnif ...\n",
            "\t0.615\t = Validation accuracy score\n",
            "\t0.03s\t = Training runtime\n",
            "\t0.11s\t = Validation runtime\n",
            "Fitting model: KNeighborsClassifierDist ...\n",
            "\t0.615\t = Validation accuracy score\n",
            "\t0.02s\t = Training runtime\n",
            "\t0.11s\t = Validation runtime\n",
            "Fitting model: LightGBMClassifier ...\n",
            "\t0.849\t = Validation accuracy score\n",
            "\t1.14s\t = Training runtime\n",
            "\t0.05s\t = Validation runtime\n",
            "Fitting model: CatboostClassifier ...\n",
            "\t0.857\t = Validation accuracy score\n",
            "\t10.44s\t = Training runtime\n",
            "\t0.06s\t = Validation runtime\n",
            "Fitting model: NeuralNetClassifier ...\n",
            "\t0.846\t = Validation accuracy score\n",
            "\t51.63s\t = Training runtime\n",
            "\t0.21s\t = Validation runtime\n",
            "Fitting model: LightGBMClassifierCustom ...\n",
            "\t0.844\t = Validation accuracy score\n",
            "\t1.45s\t = Training runtime\n",
            "\t0.05s\t = Validation runtime\n",
            "Fitting model: weighted_ensemble_k0_l1 ...\n",
            "\t0.877\t = Validation accuracy score\n",
            "\t0.73s\t = Training runtime\n",
            "\t0.0s\t = Validation runtime\n",
            "AutoGluon training complete, total runtime = 93.75s ...\n"
          ],
          "name": "stderr"
        }
      ]
    },
    {
      "cell_type": "code",
      "metadata": {
        "id": "rYFiG8T3XIDU",
        "colab_type": "code",
        "colab": {
          "base_uri": "https://localhost:8080/",
          "height": 1000
        },
        "outputId": "1c0ad55b-1a6e-4276-89cf-4289b4a30be0"
      },
      "source": [
        "predictor.fit_summary()"
      ],
      "execution_count": 18,
      "outputs": [
        {
          "output_type": "stream",
          "text": [
            "*** Summary of fit() ***\n",
            "Estimated performance of each model:\n",
            "                         model  score_val  pred_time_val   fit_time  pred_time_val_marginal  fit_time_marginal  stack_level  can_infer  fit_order\n",
            "0      weighted_ensemble_k0_l1      0.877       1.320798  79.765735                0.003705           0.730549            1       True         11\n",
            "1   RandomForestClassifierGini      0.869       0.243101   4.365239                0.243101           4.365239            0       True          1\n",
            "2   RandomForestClassifierEntr      0.866       0.243715   4.967941                0.243715           4.967941            0       True          2\n",
            "3           CatboostClassifier      0.857       0.060184  10.444251                0.060184          10.444251            0       True          8\n",
            "4           LightGBMClassifier      0.849       0.050409   1.142792                0.050409           1.142792            0       True          7\n",
            "5     ExtraTreesClassifierEntr      0.848       0.240790   5.577982                0.240790           5.577982            0       True          4\n",
            "6          NeuralNetClassifier      0.846       0.205497  51.634784                0.205497          51.634784            0       True          9\n",
            "7     ExtraTreesClassifierGini      0.846       0.254310   4.982640                0.254310           4.982640            0       True          3\n",
            "8     LightGBMClassifierCustom      0.844       0.045197   1.448081                0.045197           1.448081            0       True         10\n",
            "9     KNeighborsClassifierUnif      0.615       0.105861   0.029533                0.105861           0.029533            0       True          5\n",
            "10    KNeighborsClassifierDist      0.615       0.108820   0.019926                0.108820           0.019926            0       True          6\n",
            "Number of models trained: 11\n",
            "Types of models trained:\n",
            "{'KNNModel', 'XTModel', 'WeightedEnsembleModel', 'RFModel', 'LGBModel', 'TabularNeuralNetModel', 'CatboostModel'}\n",
            "Bagging used: False \n",
            "Stack-ensembling used: False \n",
            "Hyperparameter-tuning used: False \n",
            "User-specified hyperparameters:\n",
            "{'default': {'NN': [{}], 'GBM': [{}], 'CAT': [{}], 'RF': [{'criterion': 'gini', 'AG_args': {'name_suffix': 'Gini', 'problem_types': ['binary', 'multiclass']}}, {'criterion': 'entropy', 'AG_args': {'name_suffix': 'Entr', 'problem_types': ['binary', 'multiclass']}}], 'XT': [{'criterion': 'gini', 'AG_args': {'name_suffix': 'Gini', 'problem_types': ['binary', 'multiclass']}}, {'criterion': 'entropy', 'AG_args': {'name_suffix': 'Entr', 'problem_types': ['binary', 'multiclass']}}], 'KNN': [{'weights': 'uniform', 'AG_args': {'name_suffix': 'Unif'}}, {'weights': 'distance', 'AG_args': {'name_suffix': 'Dist'}}], 'custom': [{'num_boost_round': 10000, 'num_threads': -1, 'objective': 'binary', 'verbose': -1, 'boosting_type': 'gbdt', 'learning_rate': 0.03, 'num_leaves': 128, 'feature_fraction': 0.9, 'min_data_in_leaf': 5, 'two_round': True, 'seed_value': 0, 'AG_args': {'model_type': 'GBM', 'name_suffix': 'Custom', 'disable_in_hpo': True}}]}}\n",
            "Plot summary of models saved to file: AutogluonModels/ag-20200826_152210/SummaryOfModels.html\n",
            "*** End of fit() summary ***\n"
          ],
          "name": "stdout"
        },
        {
          "output_type": "execute_result",
          "data": {
            "text/plain": [
              "{'feature_prune': False,\n",
              " 'hyperparameter_tune': False,\n",
              " 'hyperparameters_userspecified': {'default': {'CAT': [{}],\n",
              "   'GBM': [{}],\n",
              "   'KNN': [{'AG_args': {'name_suffix': 'Unif'}, 'weights': 'uniform'},\n",
              "    {'AG_args': {'name_suffix': 'Dist'}, 'weights': 'distance'}],\n",
              "   'NN': [{}],\n",
              "   'RF': [{'AG_args': {'name_suffix': 'Gini',\n",
              "      'problem_types': ['binary', 'multiclass']},\n",
              "     'criterion': 'gini'},\n",
              "    {'AG_args': {'name_suffix': 'Entr',\n",
              "      'problem_types': ['binary', 'multiclass']},\n",
              "     'criterion': 'entropy'}],\n",
              "   'XT': [{'AG_args': {'name_suffix': 'Gini',\n",
              "      'problem_types': ['binary', 'multiclass']},\n",
              "     'criterion': 'gini'},\n",
              "    {'AG_args': {'name_suffix': 'Entr',\n",
              "      'problem_types': ['binary', 'multiclass']},\n",
              "     'criterion': 'entropy'}],\n",
              "   'custom': [{'AG_args': {'disable_in_hpo': True,\n",
              "      'model_type': 'GBM',\n",
              "      'name_suffix': 'Custom'},\n",
              "     'boosting_type': 'gbdt',\n",
              "     'feature_fraction': 0.9,\n",
              "     'learning_rate': 0.03,\n",
              "     'min_data_in_leaf': 5,\n",
              "     'num_boost_round': 10000,\n",
              "     'num_leaves': 128,\n",
              "     'num_threads': -1,\n",
              "     'objective': 'binary',\n",
              "     'seed_value': 0,\n",
              "     'two_round': True,\n",
              "     'verbose': -1}]}},\n",
              " 'leaderboard':                          model  score_val  ...  can_infer  fit_order\n",
              " 0      weighted_ensemble_k0_l1      0.877  ...       True         11\n",
              " 1   RandomForestClassifierGini      0.869  ...       True          1\n",
              " 2   RandomForestClassifierEntr      0.866  ...       True          2\n",
              " 3           CatboostClassifier      0.857  ...       True          8\n",
              " 4           LightGBMClassifier      0.849  ...       True          7\n",
              " 5     ExtraTreesClassifierEntr      0.848  ...       True          4\n",
              " 6          NeuralNetClassifier      0.846  ...       True          9\n",
              " 7     ExtraTreesClassifierGini      0.846  ...       True          3\n",
              " 8     LightGBMClassifierCustom      0.844  ...       True         10\n",
              " 9     KNeighborsClassifierUnif      0.615  ...       True          5\n",
              " 10    KNeighborsClassifierDist      0.615  ...       True          6\n",
              " \n",
              " [11 rows x 9 columns],\n",
              " 'model_best': 'weighted_ensemble_k0_l1',\n",
              " 'model_fit_times': {'CatboostClassifier': 10.44425082206726,\n",
              "  'ExtraTreesClassifierEntr': 5.577981948852539,\n",
              "  'ExtraTreesClassifierGini': 4.98263955116272,\n",
              "  'KNeighborsClassifierDist': 0.019925594329833984,\n",
              "  'KNeighborsClassifierUnif': 0.02953314781188965,\n",
              "  'LightGBMClassifier': 1.142791986465454,\n",
              "  'LightGBMClassifierCustom': 1.4480807781219482,\n",
              "  'NeuralNetClassifier': 51.63478446006775,\n",
              "  'RandomForestClassifierEntr': 4.967940807342529,\n",
              "  'RandomForestClassifierGini': 4.365238666534424,\n",
              "  'weighted_ensemble_k0_l1': 0.7305488586425781},\n",
              " 'model_hyperparams': {'CatboostClassifier': {'allow_writing_files': False,\n",
              "   'eval_metric': 'Accuracy',\n",
              "   'iterations': 10000,\n",
              "   'learning_rate': 0.1,\n",
              "   'random_seed': 0},\n",
              "  'ExtraTreesClassifierEntr': {'criterion': 'entropy',\n",
              "   'n_estimators': 300,\n",
              "   'n_jobs': -1},\n",
              "  'ExtraTreesClassifierGini': {'criterion': 'gini',\n",
              "   'n_estimators': 300,\n",
              "   'n_jobs': -1},\n",
              "  'KNeighborsClassifierDist': {'n_jobs': -1, 'weights': 'distance'},\n",
              "  'KNeighborsClassifierUnif': {'n_jobs': -1, 'weights': 'uniform'},\n",
              "  'LightGBMClassifier': {'boosting_type': 'gbdt',\n",
              "   'num_boost_round': 10000,\n",
              "   'num_threads': -1,\n",
              "   'objective': 'binary',\n",
              "   'two_round': True,\n",
              "   'verbose': -1},\n",
              "  'LightGBMClassifierCustom': {'boosting_type': 'gbdt',\n",
              "   'feature_fraction': 0.9,\n",
              "   'learning_rate': 0.03,\n",
              "   'min_data_in_leaf': 5,\n",
              "   'num_boost_round': 10000,\n",
              "   'num_leaves': 128,\n",
              "   'num_threads': -1,\n",
              "   'objective': 'binary',\n",
              "   'seed_value': 0,\n",
              "   'two_round': True,\n",
              "   'verbose': -1},\n",
              "  'NeuralNetClassifier': {'activation': 'relu',\n",
              "   'base_lr': 3e-05,\n",
              "   'batch_size': 512,\n",
              "   'clip_gradient': 100.0,\n",
              "   'dropout_prob': 0.1,\n",
              "   'embed_exponent': 0.56,\n",
              "   'embedding_size_factor': 1.0,\n",
              "   'epochs_wo_improve': 20,\n",
              "   'layers': None,\n",
              "   'learning_rate': 0.0003,\n",
              "   'loss_function': None,\n",
              "   'lr_decay': 0.1,\n",
              "   'lr_scheduler': None,\n",
              "   'max_embedding_dim': 100,\n",
              "   'max_layer_width': 2056,\n",
              "   'momentum': 0.9,\n",
              "   'network_type': 'widedeep',\n",
              "   'num_epochs': 500,\n",
              "   'numeric_embed_dim': None,\n",
              "   'optimizer': 'adam',\n",
              "   'proc.embed_min_categories': 4,\n",
              "   'proc.impute_strategy': 'median',\n",
              "   'proc.max_category_levels': 100,\n",
              "   'proc.skew_threshold': 0.99,\n",
              "   'seed_value': None,\n",
              "   'target_lr': 1.0,\n",
              "   'use_batchnorm': True,\n",
              "   'use_ngram_features': False,\n",
              "   'warmup_epochs': 10,\n",
              "   'weight_decay': 1e-06,\n",
              "   'y_range': None,\n",
              "   'y_range_extend': 0.05},\n",
              "  'RandomForestClassifierEntr': {'criterion': 'entropy',\n",
              "   'n_estimators': 300,\n",
              "   'n_jobs': -1},\n",
              "  'RandomForestClassifierGini': {'criterion': 'gini',\n",
              "   'n_estimators': 300,\n",
              "   'n_jobs': -1},\n",
              "  'weighted_ensemble_k0_l1': {'max_models': 25, 'max_models_per_type': 5}},\n",
              " 'model_paths': {'CatboostClassifier': 'AutogluonModels/ag-20200826_152210/models/CatboostClassifier/',\n",
              "  'ExtraTreesClassifierEntr': 'AutogluonModels/ag-20200826_152210/models/ExtraTreesClassifierEntr/',\n",
              "  'ExtraTreesClassifierGini': 'AutogluonModels/ag-20200826_152210/models/ExtraTreesClassifierGini/',\n",
              "  'KNeighborsClassifierDist': 'AutogluonModels/ag-20200826_152210/models/KNeighborsClassifierDist/',\n",
              "  'KNeighborsClassifierUnif': 'AutogluonModels/ag-20200826_152210/models/KNeighborsClassifierUnif/',\n",
              "  'LightGBMClassifier': 'AutogluonModels/ag-20200826_152210/models/LightGBMClassifier/',\n",
              "  'LightGBMClassifierCustom': 'AutogluonModels/ag-20200826_152210/models/LightGBMClassifierCustom/',\n",
              "  'NeuralNetClassifier': 'AutogluonModels/ag-20200826_152210/models/NeuralNetClassifier/',\n",
              "  'RandomForestClassifierEntr': 'AutogluonModels/ag-20200826_152210/models/RandomForestClassifierEntr/',\n",
              "  'RandomForestClassifierGini': 'AutogluonModels/ag-20200826_152210/models/RandomForestClassifierGini/',\n",
              "  'weighted_ensemble_k0_l1': 'AutogluonModels/ag-20200826_152210/models/weighted_ensemble_k0_l1/'},\n",
              " 'model_performance': {'CatboostClassifier': 0.857,\n",
              "  'ExtraTreesClassifierEntr': 0.848,\n",
              "  'ExtraTreesClassifierGini': 0.846,\n",
              "  'KNeighborsClassifierDist': 0.615,\n",
              "  'KNeighborsClassifierUnif': 0.615,\n",
              "  'LightGBMClassifier': 0.849,\n",
              "  'LightGBMClassifierCustom': 0.844,\n",
              "  'NeuralNetClassifier': 0.846,\n",
              "  'RandomForestClassifierEntr': 0.866,\n",
              "  'RandomForestClassifierGini': 0.869,\n",
              "  'weighted_ensemble_k0_l1': 0.877},\n",
              " 'model_pred_times': {'CatboostClassifier': 0.06018400192260742,\n",
              "  'ExtraTreesClassifierEntr': 0.24078965187072754,\n",
              "  'ExtraTreesClassifierGini': 0.25430989265441895,\n",
              "  'KNeighborsClassifierDist': 0.10881972312927246,\n",
              "  'KNeighborsClassifierUnif': 0.10586118698120117,\n",
              "  'LightGBMClassifier': 0.05040860176086426,\n",
              "  'LightGBMClassifierCustom': 0.045197248458862305,\n",
              "  'NeuralNetClassifier': 0.20549654960632324,\n",
              "  'RandomForestClassifierEntr': 0.2437150478363037,\n",
              "  'RandomForestClassifierGini': 0.24310064315795898,\n",
              "  'weighted_ensemble_k0_l1': 0.0037047863006591797},\n",
              " 'model_types': {'CatboostClassifier': 'CatboostModel',\n",
              "  'ExtraTreesClassifierEntr': 'XTModel',\n",
              "  'ExtraTreesClassifierGini': 'XTModel',\n",
              "  'KNeighborsClassifierDist': 'KNNModel',\n",
              "  'KNeighborsClassifierUnif': 'KNNModel',\n",
              "  'LightGBMClassifier': 'LGBModel',\n",
              "  'LightGBMClassifierCustom': 'LGBModel',\n",
              "  'NeuralNetClassifier': 'TabularNeuralNetModel',\n",
              "  'RandomForestClassifierEntr': 'RFModel',\n",
              "  'RandomForestClassifierGini': 'RFModel',\n",
              "  'weighted_ensemble_k0_l1': 'WeightedEnsembleModel'},\n",
              " 'num_bagging_folds': 0,\n",
              " 'num_classes': 2,\n",
              " 'stack_ensemble_levels': 0}"
            ]
          },
          "metadata": {
            "tags": []
          },
          "execution_count": 18
        }
      ]
    },
    {
      "cell_type": "markdown",
      "metadata": {
        "id": "lc3-uS0xXyjq",
        "colab_type": "text"
      },
      "source": [
        "### Summary\n",
        "- Simple! Nice."
      ]
    },
    {
      "cell_type": "code",
      "metadata": {
        "id": "SkMpmgMnX93O",
        "colab_type": "code",
        "colab": {}
      },
      "source": [
        ""
      ],
      "execution_count": null,
      "outputs": []
    }
  ]
}