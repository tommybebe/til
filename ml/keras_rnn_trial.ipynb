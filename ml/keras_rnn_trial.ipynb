{
  "nbformat": 4,
  "nbformat_minor": 0,
  "metadata": {
    "colab": {
      "name": "keras_rnn_trial.ipynb",
      "version": "0.3.2",
      "provenance": [],
      "include_colab_link": true
    }
  },
  "cells": [
    {
      "cell_type": "markdown",
      "metadata": {
        "id": "view-in-github",
        "colab_type": "text"
      },
      "source": [
        "[View in Colaboratory](https://colab.research.google.com/github/tommybebe/til/blob/master/ml/keras_rnn_trial.ipynb)"
      ]
    },
    {
      "metadata": {
        "id": "7iDiH0X5BqzX",
        "colab_type": "code",
        "colab": {
          "base_uri": "https://localhost:8080/",
          "height": 35
        },
        "outputId": "773f985d-c9f0-4eff-a321-828045759fc2"
      },
      "cell_type": "code",
      "source": [
        "# 0. 사용할 패키지 불러오기\n",
        "import keras\n",
        "import numpy as np\n",
        "from keras.models import Sequential\n",
        "from keras.layers import Dense, LSTM, Dropout\n",
        "from sklearn.preprocessing import MinMaxScaler\n",
        "import matplotlib.pyplot as plt\n",
        "%matplotlib inline\n",
        "\n",
        "def create_dataset(signal_data, look_back=1):\n",
        "    dataX, dataY = [], []\n",
        "    for i in range(len(signal_data)-look_back):\n",
        "        dataX.append(signal_data[i:(i+look_back), 0])\n",
        "        dataY.append(signal_data[i + look_back, 0])\n",
        "    return np.array(dataX), np.array(dataY)\n",
        "\n",
        "class CustomHistory(keras.callbacks.Callback):\n",
        "    def init(self):\n",
        "        self.train_loss = []\n",
        "        self.val_loss = []\n",
        "        \n",
        "    def on_epoch_end(self, batch, logs={}):\n",
        "        self.train_loss.append(logs.get('loss'))\n",
        "        self.val_loss.append(logs.get('val_loss'))"
      ],
      "execution_count": 1,
      "outputs": [
        {
          "output_type": "stream",
          "text": [
            "Using TensorFlow backend.\n"
          ],
          "name": "stderr"
        }
      ]
    },
    {
      "metadata": {
        "id": "eNCCSEzVBzWO",
        "colab_type": "code",
        "colab": {}
      },
      "cell_type": "code",
      "source": [
        "look_back = 40\n",
        "\n",
        "# 1. 데이터셋 생성하기\n",
        "signal_data = np.cos(np.arange(1600)*(20*np.pi/1000))[:,None]\n",
        "\n",
        "# 데이터 전처리\n",
        "scaler = MinMaxScaler(feature_range=(0, 1))\n",
        "signal_data = scaler.fit_transform(signal_data)\n",
        "\n",
        "# 데이터 분리\n",
        "train = signal_data[0:800]\n",
        "val = signal_data[800:1200]\n",
        "test = signal_data[1200:]\n",
        "\n",
        "# 데이터셋 생성\n",
        "x_train, y_train = create_dataset(train, look_back)\n",
        "x_val, y_val = create_dataset(val, look_back)\n",
        "x_test, y_test = create_dataset(test, look_back)\n",
        "\n",
        "# 데이터셋 전처리\n",
        "x_train = np.reshape(x_train, (x_train.shape[0], x_train.shape[1], 1))\n",
        "x_val = np.reshape(x_val, (x_val.shape[0], x_val.shape[1], 1))\n",
        "x_test = np.reshape(x_test, (x_test.shape[0], x_test.shape[1], 1))"
      ],
      "execution_count": 0,
      "outputs": []
    },
    {
      "metadata": {
        "id": "PPEiXSEyB4pn",
        "colab_type": "code",
        "colab": {}
      },
      "cell_type": "code",
      "source": [
        "# 2. 모델 구성하기\n",
        "model = Sequential()\n",
        "for i in range(2):\n",
        "    model.add(LSTM(32, batch_input_shape=(1, look_back, 1), stateful=True, return_sequences=True))\n",
        "    model.add(Dropout(0.3))\n",
        "model.add(LSTM(32, batch_input_shape=(1, look_back, 1), stateful=True))\n",
        "model.add(Dropout(0.3))\n",
        "model.add(Dense(1))\n",
        "\n",
        "# 3. 모델 학습과정 설정하기\n",
        "model.compile(loss='mean_squared_error', optimizer='adam')\n",
        "\n",
        "# 4. 모델 학습시키기\n",
        "custom_hist = CustomHistory()\n",
        "custom_hist.init()\n",
        "\n",
        "for i in range(200):\n",
        "    model.fit(x_train, y_train, epochs=1, batch_size=1, shuffle=False, callbacks=[custom_hist], validation_data=(x_val, y_val))\n",
        "    model.reset_states()\n",
        "\n",
        "# 5. 학습과정 살펴보기\n",
        "plt.plot(custom_hist.train_loss)\n",
        "plt.plot(custom_hist.val_loss)\n",
        "plt.ylim(0.0, 0.15)\n",
        "plt.ylabel('loss')\n",
        "plt.xlabel('epoch')\n",
        "plt.legend(['train', 'val'], loc='upper left')\n",
        "plt.show()"
      ],
      "execution_count": 0,
      "outputs": []
    },
    {
      "metadata": {
        "id": "mUX7Txc9CyXE",
        "colab_type": "code",
        "colab": {}
      },
      "cell_type": "code",
      "source": [
        "# 6. 모델 평가하기\n",
        "trainScore = model.evaluate(x_train, y_train, batch_size=1, verbose=0)\n",
        "model.reset_states()\n",
        "print('Train Score: ', trainScore)\n",
        "valScore = model.evaluate(x_val, y_val, batch_size=1, verbose=0)\n",
        "model.reset_states()\n",
        "print('Validataion Score: ', valScore)\n",
        "testScore = model.evaluate(x_test, y_test, batch_size=1, verbose=0)\n",
        "model.reset_states()\n",
        "print('Test Score: ', testScore)\n",
        "\n",
        "# 7. 모델 사용하기\n",
        "look_ahead = 250\n",
        "xhat = x_test[0]\n",
        "predictions = np.zeros((look_ahead,1))\n",
        "for i in range(look_ahead):\n",
        "    prediction = model.predict(np.array([xhat]), batch_size=1)\n",
        "    predictions[i] = prediction\n",
        "    xhat = np.vstack([xhat[1:],prediction])\n",
        "    \n",
        "plt.figure(figsize=(12,5))\n",
        "plt.plot(np.arange(look_ahead),predictions,'r',label=\"prediction\")\n",
        "plt.plot(np.arange(look_ahead),y_test[:look_ahead],label=\"test function\")\n",
        "plt.legend()\n",
        "plt.show()"
      ],
      "execution_count": 0,
      "outputs": []
    }
  ]
}