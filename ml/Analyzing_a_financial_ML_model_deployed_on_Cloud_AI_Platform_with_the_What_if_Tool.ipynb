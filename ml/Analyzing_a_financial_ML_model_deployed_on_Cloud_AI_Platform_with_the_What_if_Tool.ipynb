{
  "nbformat": 4,
  "nbformat_minor": 0,
  "metadata": {
    "environment": {
      "name": "tf-gpu.1-15.m54",
      "type": "gcloud",
      "uri": "gcr.io/deeplearning-platform-release/tf-gpu.1-15:m54"
    },
    "kernelspec": {
      "display_name": "Python 3",
      "language": "python",
      "name": "python3"
    },
    "language_info": {
      "codemirror_mode": {
        "name": "ipython",
        "version": 3
      },
      "file_extension": ".py",
      "mimetype": "text/x-python",
      "name": "python",
      "nbconvert_exporter": "python",
      "pygments_lexer": "ipython3",
      "version": "3.7.8"
    },
    "colab": {
      "name": "Analyzing a financial ML model deployed on Cloud AI Platform with the What-if Tool.ipynb",
      "provenance": [],
      "collapsed_sections": [
        "hu2LjXf3GVSu",
        "BV5Tsyp-GN86",
        "SW0_g_DRGN9J",
        "uzqjM_XZGN9S",
        "iqURkKPaGN9k"
      ],
      "include_colab_link": true
    }
  },
  "cells": [
    {
      "cell_type": "markdown",
      "metadata": {
        "id": "view-in-github",
        "colab_type": "text"
      },
      "source": [
        "<a href=\"https://colab.research.google.com/github/tommybebe/til/blob/master/ml/Analyzing_a_financial_ML_model_deployed_on_Cloud_AI_Platform_with_the_What_if_Tool.ipynb\" target=\"_parent\"><img src=\"https://colab.research.google.com/assets/colab-badge.svg\" alt=\"Open In Colab\"/></a>"
      ]
    },
    {
      "cell_type": "markdown",
      "metadata": {
        "id": "hu2LjXf3GVSu",
        "colab_type": "text"
      },
      "source": [
        "### Reference\n",
        "- [Analyzing a financial ML model deployed on Cloud AI Platform with the What-if Tool\n",
        "](https://codelabs.developers.google.com/codelabs/xgb-wit-caip/index.html)"
      ]
    },
    {
      "cell_type": "code",
      "metadata": {
        "id": "ZOkNLCkxGN82",
        "colab_type": "code",
        "colab": {}
      },
      "source": [
        "import pandas as pd\n",
        "import xgboost as xgb\n",
        "import numpy as np\n",
        "import collections\n",
        "import witwidget\n",
        "\n",
        "from sklearn.model_selection import train_test_split\n",
        "from sklearn.metrics import accuracy_score, confusion_matrix\n",
        "from sklearn.utils import shuffle\n",
        "from witwidget.notebook.visualization import WitWidget, WitConfigBuilder"
      ],
      "execution_count": null,
      "outputs": []
    },
    {
      "cell_type": "markdown",
      "metadata": {
        "id": "BV5Tsyp-GN86",
        "colab_type": "text"
      },
      "source": [
        "### 4. Download and process data"
      ]
    },
    {
      "cell_type": "code",
      "metadata": {
        "id": "9SmMXTheGN86",
        "colab_type": "code",
        "colab": {},
        "outputId": "e2e72e9e-0771-4b85-be37-89ae33b8c4fa"
      },
      "source": [
        "!gsutil cp 'gs://mortgage_dataset_files/mortgage-small.csv' ."
      ],
      "execution_count": null,
      "outputs": [
        {
          "output_type": "stream",
          "text": [
            "Copying gs://mortgage_dataset_files/mortgage-small.csv...\n",
            "| [1 files][330.8 MiB/330.8 MiB]                                                \n",
            "Operation completed over 1 objects/330.8 MiB.                                    \n"
          ],
          "name": "stdout"
        }
      ]
    },
    {
      "cell_type": "code",
      "metadata": {
        "id": "KZqKswKbGN89",
        "colab_type": "code",
        "colab": {}
      },
      "source": [
        "COLUMN_NAMES = collections.OrderedDict({\n",
        "    'as_of_year': np.int16,\n",
        "    'agency_code': 'category',\n",
        "    'loan_type': 'category',\n",
        "    'property_type': 'category',\n",
        "    'loan_purpose': 'category',\n",
        "    'occupancy': np.int8,\n",
        "    'loan_amt_thousands': np.float64,\n",
        "    'preapproval': 'category',\n",
        "    'county_code': np.float64,\n",
        "    'applicant_income_thousands': np.float64,\n",
        "    'purchaser_type': 'category',\n",
        "    'hoepa_status': 'category',\n",
        "    'lien_status': 'category',\n",
        "    'population': np.float64,\n",
        "    'ffiec_median_fam_income': np.float64,\n",
        "    'tract_to_msa_income_pct': np.float64,\n",
        "    'num_owner_occupied_units': np.float64,\n",
        "    'num_1_to_4_family_units': np.float64,\n",
        "    'approved': np.int8\n",
        "})"
      ],
      "execution_count": null,
      "outputs": []
    },
    {
      "cell_type": "code",
      "metadata": {
        "id": "Mc-pKwatGN8_",
        "colab_type": "code",
        "colab": {},
        "outputId": "c8af1b71-613e-409f-dd59-98976eb032ba"
      },
      "source": [
        "data = pd.read_csv(\n",
        "    'mortgage-small.csv',\n",
        "    index_col=False,\n",
        "    dtype=COLUMN_NAMES\n",
        ")\n",
        "data = data.dropna()\n",
        "data = shuffle(data, random_state=2)\n",
        "data.head()"
      ],
      "execution_count": null,
      "outputs": [
        {
          "output_type": "execute_result",
          "data": {
            "text/html": [
              "<div>\n",
              "<style scoped>\n",
              "    .dataframe tbody tr th:only-of-type {\n",
              "        vertical-align: middle;\n",
              "    }\n",
              "\n",
              "    .dataframe tbody tr th {\n",
              "        vertical-align: top;\n",
              "    }\n",
              "\n",
              "    .dataframe thead th {\n",
              "        text-align: right;\n",
              "    }\n",
              "</style>\n",
              "<table border=\"1\" class=\"dataframe\">\n",
              "  <thead>\n",
              "    <tr style=\"text-align: right;\">\n",
              "      <th></th>\n",
              "      <th>as_of_year</th>\n",
              "      <th>agency_code</th>\n",
              "      <th>loan_type</th>\n",
              "      <th>property_type</th>\n",
              "      <th>loan_purpose</th>\n",
              "      <th>occupancy</th>\n",
              "      <th>loan_amt_thousands</th>\n",
              "      <th>preapproval</th>\n",
              "      <th>county_code</th>\n",
              "      <th>applicant_income_thousands</th>\n",
              "      <th>purchaser_type</th>\n",
              "      <th>hoepa_status</th>\n",
              "      <th>lien_status</th>\n",
              "      <th>population</th>\n",
              "      <th>ffiec_median_fam_income</th>\n",
              "      <th>tract_to_msa_income_pct</th>\n",
              "      <th>num_owner_occupied_units</th>\n",
              "      <th>num_1_to_4_family_units</th>\n",
              "      <th>approved</th>\n",
              "    </tr>\n",
              "  </thead>\n",
              "  <tbody>\n",
              "    <tr>\n",
              "      <th>310650</th>\n",
              "      <td>2016</td>\n",
              "      <td>Consumer Financial Protection Bureau (CFPB)</td>\n",
              "      <td>Conventional (any loan other than FHA, VA, FSA...</td>\n",
              "      <td>One to four-family (other than manufactured ho...</td>\n",
              "      <td>Refinancing</td>\n",
              "      <td>1</td>\n",
              "      <td>110.0</td>\n",
              "      <td>Not applicable</td>\n",
              "      <td>119.0</td>\n",
              "      <td>55.0</td>\n",
              "      <td>Freddie Mac (FHLMC)</td>\n",
              "      <td>Not a HOEPA loan</td>\n",
              "      <td>Secured by a first lien</td>\n",
              "      <td>5930.0</td>\n",
              "      <td>64100.0</td>\n",
              "      <td>98.81</td>\n",
              "      <td>1305.0</td>\n",
              "      <td>1631.0</td>\n",
              "      <td>1</td>\n",
              "    </tr>\n",
              "    <tr>\n",
              "      <th>630129</th>\n",
              "      <td>2016</td>\n",
              "      <td>Department of Housing and Urban Development (HUD)</td>\n",
              "      <td>Conventional (any loan other than FHA, VA, FSA...</td>\n",
              "      <td>One to four-family (other than manufactured ho...</td>\n",
              "      <td>Home purchase</td>\n",
              "      <td>1</td>\n",
              "      <td>480.0</td>\n",
              "      <td>Not applicable</td>\n",
              "      <td>33.0</td>\n",
              "      <td>270.0</td>\n",
              "      <td>Loan was not originated or was not sold in cal...</td>\n",
              "      <td>Not a HOEPA loan</td>\n",
              "      <td>Secured by a first lien</td>\n",
              "      <td>4791.0</td>\n",
              "      <td>90300.0</td>\n",
              "      <td>144.06</td>\n",
              "      <td>1420.0</td>\n",
              "      <td>1450.0</td>\n",
              "      <td>0</td>\n",
              "    </tr>\n",
              "    <tr>\n",
              "      <th>715484</th>\n",
              "      <td>2016</td>\n",
              "      <td>Federal Deposit Insurance Corporation (FDIC)</td>\n",
              "      <td>Conventional (any loan other than FHA, VA, FSA...</td>\n",
              "      <td>One to four-family (other than manufactured ho...</td>\n",
              "      <td>Refinancing</td>\n",
              "      <td>2</td>\n",
              "      <td>240.0</td>\n",
              "      <td>Not applicable</td>\n",
              "      <td>59.0</td>\n",
              "      <td>96.0</td>\n",
              "      <td>Commercial bank, savings bank or savings assoc...</td>\n",
              "      <td>Not a HOEPA loan</td>\n",
              "      <td>Secured by a first lien</td>\n",
              "      <td>3439.0</td>\n",
              "      <td>105700.0</td>\n",
              "      <td>104.62</td>\n",
              "      <td>853.0</td>\n",
              "      <td>1076.0</td>\n",
              "      <td>1</td>\n",
              "    </tr>\n",
              "    <tr>\n",
              "      <th>887708</th>\n",
              "      <td>2016</td>\n",
              "      <td>Office of the Comptroller of the Currency (OCC)</td>\n",
              "      <td>Conventional (any loan other than FHA, VA, FSA...</td>\n",
              "      <td>One to four-family (other than manufactured ho...</td>\n",
              "      <td>Refinancing</td>\n",
              "      <td>1</td>\n",
              "      <td>76.0</td>\n",
              "      <td>Not applicable</td>\n",
              "      <td>65.0</td>\n",
              "      <td>85.0</td>\n",
              "      <td>Loan was not originated or was not sold in cal...</td>\n",
              "      <td>Not a HOEPA loan</td>\n",
              "      <td>Secured by a subordinate lien</td>\n",
              "      <td>3952.0</td>\n",
              "      <td>61300.0</td>\n",
              "      <td>90.93</td>\n",
              "      <td>1272.0</td>\n",
              "      <td>1666.0</td>\n",
              "      <td>1</td>\n",
              "    </tr>\n",
              "    <tr>\n",
              "      <th>719598</th>\n",
              "      <td>2016</td>\n",
              "      <td>National Credit Union Administration (NCUA)</td>\n",
              "      <td>Conventional (any loan other than FHA, VA, FSA...</td>\n",
              "      <td>One to four-family (other than manufactured ho...</td>\n",
              "      <td>Refinancing</td>\n",
              "      <td>1</td>\n",
              "      <td>100.0</td>\n",
              "      <td>Not applicable</td>\n",
              "      <td>127.0</td>\n",
              "      <td>70.0</td>\n",
              "      <td>Loan was not originated or was not sold in cal...</td>\n",
              "      <td>Not a HOEPA loan</td>\n",
              "      <td>Secured by a first lien</td>\n",
              "      <td>2422.0</td>\n",
              "      <td>46400.0</td>\n",
              "      <td>88.37</td>\n",
              "      <td>650.0</td>\n",
              "      <td>1006.0</td>\n",
              "      <td>1</td>\n",
              "    </tr>\n",
              "  </tbody>\n",
              "</table>\n",
              "</div>"
            ],
            "text/plain": [
              "        as_of_year                                        agency_code  \\\n",
              "310650        2016        Consumer Financial Protection Bureau (CFPB)   \n",
              "630129        2016  Department of Housing and Urban Development (HUD)   \n",
              "715484        2016       Federal Deposit Insurance Corporation (FDIC)   \n",
              "887708        2016    Office of the Comptroller of the Currency (OCC)   \n",
              "719598        2016        National Credit Union Administration (NCUA)   \n",
              "\n",
              "                                                loan_type  \\\n",
              "310650  Conventional (any loan other than FHA, VA, FSA...   \n",
              "630129  Conventional (any loan other than FHA, VA, FSA...   \n",
              "715484  Conventional (any loan other than FHA, VA, FSA...   \n",
              "887708  Conventional (any loan other than FHA, VA, FSA...   \n",
              "719598  Conventional (any loan other than FHA, VA, FSA...   \n",
              "\n",
              "                                            property_type   loan_purpose  \\\n",
              "310650  One to four-family (other than manufactured ho...    Refinancing   \n",
              "630129  One to four-family (other than manufactured ho...  Home purchase   \n",
              "715484  One to four-family (other than manufactured ho...    Refinancing   \n",
              "887708  One to four-family (other than manufactured ho...    Refinancing   \n",
              "719598  One to four-family (other than manufactured ho...    Refinancing   \n",
              "\n",
              "        occupancy  loan_amt_thousands     preapproval  county_code  \\\n",
              "310650          1               110.0  Not applicable        119.0   \n",
              "630129          1               480.0  Not applicable         33.0   \n",
              "715484          2               240.0  Not applicable         59.0   \n",
              "887708          1                76.0  Not applicable         65.0   \n",
              "719598          1               100.0  Not applicable        127.0   \n",
              "\n",
              "        applicant_income_thousands  \\\n",
              "310650                        55.0   \n",
              "630129                       270.0   \n",
              "715484                        96.0   \n",
              "887708                        85.0   \n",
              "719598                        70.0   \n",
              "\n",
              "                                           purchaser_type      hoepa_status  \\\n",
              "310650                                Freddie Mac (FHLMC)  Not a HOEPA loan   \n",
              "630129  Loan was not originated or was not sold in cal...  Not a HOEPA loan   \n",
              "715484  Commercial bank, savings bank or savings assoc...  Not a HOEPA loan   \n",
              "887708  Loan was not originated or was not sold in cal...  Not a HOEPA loan   \n",
              "719598  Loan was not originated or was not sold in cal...  Not a HOEPA loan   \n",
              "\n",
              "                          lien_status  population  ffiec_median_fam_income  \\\n",
              "310650        Secured by a first lien      5930.0                  64100.0   \n",
              "630129        Secured by a first lien      4791.0                  90300.0   \n",
              "715484        Secured by a first lien      3439.0                 105700.0   \n",
              "887708  Secured by a subordinate lien      3952.0                  61300.0   \n",
              "719598        Secured by a first lien      2422.0                  46400.0   \n",
              "\n",
              "        tract_to_msa_income_pct  num_owner_occupied_units  \\\n",
              "310650                    98.81                    1305.0   \n",
              "630129                   144.06                    1420.0   \n",
              "715484                   104.62                     853.0   \n",
              "887708                    90.93                    1272.0   \n",
              "719598                    88.37                     650.0   \n",
              "\n",
              "        num_1_to_4_family_units  approved  \n",
              "310650                   1631.0         1  \n",
              "630129                   1450.0         0  \n",
              "715484                   1076.0         1  \n",
              "887708                   1666.0         1  \n",
              "719598                   1006.0         1  "
            ]
          },
          "metadata": {
            "tags": []
          },
          "execution_count": 4
        }
      ]
    },
    {
      "cell_type": "code",
      "metadata": {
        "id": "iuAkb-oZGN9C",
        "colab_type": "code",
        "colab": {},
        "outputId": "dacf7900-3ee9-43e8-d7ac-a0c920ba19db"
      },
      "source": [
        "# Class labels - 0: denied, 1: approved\n",
        "print(data['approved'].value_counts())\n",
        "\n",
        "labels = data['approved'].values\n",
        "data = data.drop(columns=['approved'])"
      ],
      "execution_count": null,
      "outputs": [
        {
          "output_type": "stream",
          "text": [
            "1    665389\n",
            "0    334610\n",
            "Name: approved, dtype: int64\n"
          ],
          "name": "stdout"
        }
      ]
    },
    {
      "cell_type": "code",
      "metadata": {
        "id": "EqxNScdSGN9E",
        "colab_type": "code",
        "colab": {},
        "outputId": "09122df4-4667-4b77-ae77-02362fb13279"
      },
      "source": [
        "dummy_columns = list(data.dtypes[data.dtypes == 'category'].index)\n",
        "data = pd.get_dummies(data, columns=dummy_columns)\n",
        "\n",
        "data.head()"
      ],
      "execution_count": null,
      "outputs": [
        {
          "output_type": "execute_result",
          "data": {
            "text/html": [
              "<div>\n",
              "<style scoped>\n",
              "    .dataframe tbody tr th:only-of-type {\n",
              "        vertical-align: middle;\n",
              "    }\n",
              "\n",
              "    .dataframe tbody tr th {\n",
              "        vertical-align: top;\n",
              "    }\n",
              "\n",
              "    .dataframe thead th {\n",
              "        text-align: right;\n",
              "    }\n",
              "</style>\n",
              "<table border=\"1\" class=\"dataframe\">\n",
              "  <thead>\n",
              "    <tr style=\"text-align: right;\">\n",
              "      <th></th>\n",
              "      <th>as_of_year</th>\n",
              "      <th>occupancy</th>\n",
              "      <th>loan_amt_thousands</th>\n",
              "      <th>county_code</th>\n",
              "      <th>applicant_income_thousands</th>\n",
              "      <th>population</th>\n",
              "      <th>ffiec_median_fam_income</th>\n",
              "      <th>tract_to_msa_income_pct</th>\n",
              "      <th>num_owner_occupied_units</th>\n",
              "      <th>num_1_to_4_family_units</th>\n",
              "      <th>...</th>\n",
              "      <th>purchaser_type_Life insurance company, credit union, mortgage bank, or finance company</th>\n",
              "      <th>purchaser_type_Loan was not originated or was not sold in calendar year covered by register</th>\n",
              "      <th>purchaser_type_Other type of purchaser</th>\n",
              "      <th>purchaser_type_Private securitization</th>\n",
              "      <th>hoepa_status_HOEPA loan</th>\n",
              "      <th>hoepa_status_Not a HOEPA loan</th>\n",
              "      <th>lien_status_Not applicable (purchased loans)</th>\n",
              "      <th>lien_status_Not secured by a lien</th>\n",
              "      <th>lien_status_Secured by a first lien</th>\n",
              "      <th>lien_status_Secured by a subordinate lien</th>\n",
              "    </tr>\n",
              "  </thead>\n",
              "  <tbody>\n",
              "    <tr>\n",
              "      <th>310650</th>\n",
              "      <td>2016</td>\n",
              "      <td>1</td>\n",
              "      <td>110.0</td>\n",
              "      <td>119.0</td>\n",
              "      <td>55.0</td>\n",
              "      <td>5930.0</td>\n",
              "      <td>64100.0</td>\n",
              "      <td>98.81</td>\n",
              "      <td>1305.0</td>\n",
              "      <td>1631.0</td>\n",
              "      <td>...</td>\n",
              "      <td>0</td>\n",
              "      <td>0</td>\n",
              "      <td>0</td>\n",
              "      <td>0</td>\n",
              "      <td>0</td>\n",
              "      <td>1</td>\n",
              "      <td>0</td>\n",
              "      <td>0</td>\n",
              "      <td>1</td>\n",
              "      <td>0</td>\n",
              "    </tr>\n",
              "    <tr>\n",
              "      <th>630129</th>\n",
              "      <td>2016</td>\n",
              "      <td>1</td>\n",
              "      <td>480.0</td>\n",
              "      <td>33.0</td>\n",
              "      <td>270.0</td>\n",
              "      <td>4791.0</td>\n",
              "      <td>90300.0</td>\n",
              "      <td>144.06</td>\n",
              "      <td>1420.0</td>\n",
              "      <td>1450.0</td>\n",
              "      <td>...</td>\n",
              "      <td>0</td>\n",
              "      <td>1</td>\n",
              "      <td>0</td>\n",
              "      <td>0</td>\n",
              "      <td>0</td>\n",
              "      <td>1</td>\n",
              "      <td>0</td>\n",
              "      <td>0</td>\n",
              "      <td>1</td>\n",
              "      <td>0</td>\n",
              "    </tr>\n",
              "    <tr>\n",
              "      <th>715484</th>\n",
              "      <td>2016</td>\n",
              "      <td>2</td>\n",
              "      <td>240.0</td>\n",
              "      <td>59.0</td>\n",
              "      <td>96.0</td>\n",
              "      <td>3439.0</td>\n",
              "      <td>105700.0</td>\n",
              "      <td>104.62</td>\n",
              "      <td>853.0</td>\n",
              "      <td>1076.0</td>\n",
              "      <td>...</td>\n",
              "      <td>0</td>\n",
              "      <td>0</td>\n",
              "      <td>0</td>\n",
              "      <td>0</td>\n",
              "      <td>0</td>\n",
              "      <td>1</td>\n",
              "      <td>0</td>\n",
              "      <td>0</td>\n",
              "      <td>1</td>\n",
              "      <td>0</td>\n",
              "    </tr>\n",
              "    <tr>\n",
              "      <th>887708</th>\n",
              "      <td>2016</td>\n",
              "      <td>1</td>\n",
              "      <td>76.0</td>\n",
              "      <td>65.0</td>\n",
              "      <td>85.0</td>\n",
              "      <td>3952.0</td>\n",
              "      <td>61300.0</td>\n",
              "      <td>90.93</td>\n",
              "      <td>1272.0</td>\n",
              "      <td>1666.0</td>\n",
              "      <td>...</td>\n",
              "      <td>0</td>\n",
              "      <td>1</td>\n",
              "      <td>0</td>\n",
              "      <td>0</td>\n",
              "      <td>0</td>\n",
              "      <td>1</td>\n",
              "      <td>0</td>\n",
              "      <td>0</td>\n",
              "      <td>0</td>\n",
              "      <td>1</td>\n",
              "    </tr>\n",
              "    <tr>\n",
              "      <th>719598</th>\n",
              "      <td>2016</td>\n",
              "      <td>1</td>\n",
              "      <td>100.0</td>\n",
              "      <td>127.0</td>\n",
              "      <td>70.0</td>\n",
              "      <td>2422.0</td>\n",
              "      <td>46400.0</td>\n",
              "      <td>88.37</td>\n",
              "      <td>650.0</td>\n",
              "      <td>1006.0</td>\n",
              "      <td>...</td>\n",
              "      <td>0</td>\n",
              "      <td>1</td>\n",
              "      <td>0</td>\n",
              "      <td>0</td>\n",
              "      <td>0</td>\n",
              "      <td>1</td>\n",
              "      <td>0</td>\n",
              "      <td>0</td>\n",
              "      <td>1</td>\n",
              "      <td>0</td>\n",
              "    </tr>\n",
              "  </tbody>\n",
              "</table>\n",
              "<p>5 rows × 44 columns</p>\n",
              "</div>"
            ],
            "text/plain": [
              "        as_of_year  occupancy  loan_amt_thousands  county_code  \\\n",
              "310650        2016          1               110.0        119.0   \n",
              "630129        2016          1               480.0         33.0   \n",
              "715484        2016          2               240.0         59.0   \n",
              "887708        2016          1                76.0         65.0   \n",
              "719598        2016          1               100.0        127.0   \n",
              "\n",
              "        applicant_income_thousands  population  ffiec_median_fam_income  \\\n",
              "310650                        55.0      5930.0                  64100.0   \n",
              "630129                       270.0      4791.0                  90300.0   \n",
              "715484                        96.0      3439.0                 105700.0   \n",
              "887708                        85.0      3952.0                  61300.0   \n",
              "719598                        70.0      2422.0                  46400.0   \n",
              "\n",
              "        tract_to_msa_income_pct  num_owner_occupied_units  \\\n",
              "310650                    98.81                    1305.0   \n",
              "630129                   144.06                    1420.0   \n",
              "715484                   104.62                     853.0   \n",
              "887708                    90.93                    1272.0   \n",
              "719598                    88.37                     650.0   \n",
              "\n",
              "        num_1_to_4_family_units  ...  \\\n",
              "310650                   1631.0  ...   \n",
              "630129                   1450.0  ...   \n",
              "715484                   1076.0  ...   \n",
              "887708                   1666.0  ...   \n",
              "719598                   1006.0  ...   \n",
              "\n",
              "        purchaser_type_Life insurance company, credit union, mortgage bank, or finance company  \\\n",
              "310650                                                  0                                        \n",
              "630129                                                  0                                        \n",
              "715484                                                  0                                        \n",
              "887708                                                  0                                        \n",
              "719598                                                  0                                        \n",
              "\n",
              "        purchaser_type_Loan was not originated or was not sold in calendar year covered by register  \\\n",
              "310650                                                  0                                             \n",
              "630129                                                  1                                             \n",
              "715484                                                  0                                             \n",
              "887708                                                  1                                             \n",
              "719598                                                  1                                             \n",
              "\n",
              "        purchaser_type_Other type of purchaser  \\\n",
              "310650                                       0   \n",
              "630129                                       0   \n",
              "715484                                       0   \n",
              "887708                                       0   \n",
              "719598                                       0   \n",
              "\n",
              "        purchaser_type_Private securitization  hoepa_status_HOEPA loan  \\\n",
              "310650                                      0                        0   \n",
              "630129                                      0                        0   \n",
              "715484                                      0                        0   \n",
              "887708                                      0                        0   \n",
              "719598                                      0                        0   \n",
              "\n",
              "        hoepa_status_Not a HOEPA loan  \\\n",
              "310650                              1   \n",
              "630129                              1   \n",
              "715484                              1   \n",
              "887708                              1   \n",
              "719598                              1   \n",
              "\n",
              "        lien_status_Not applicable (purchased loans)  \\\n",
              "310650                                             0   \n",
              "630129                                             0   \n",
              "715484                                             0   \n",
              "887708                                             0   \n",
              "719598                                             0   \n",
              "\n",
              "        lien_status_Not secured by a lien  \\\n",
              "310650                                  0   \n",
              "630129                                  0   \n",
              "715484                                  0   \n",
              "887708                                  0   \n",
              "719598                                  0   \n",
              "\n",
              "        lien_status_Secured by a first lien  \\\n",
              "310650                                    1   \n",
              "630129                                    1   \n",
              "715484                                    1   \n",
              "887708                                    0   \n",
              "719598                                    1   \n",
              "\n",
              "        lien_status_Secured by a subordinate lien  \n",
              "310650                                          0  \n",
              "630129                                          0  \n",
              "715484                                          0  \n",
              "887708                                          1  \n",
              "719598                                          0  \n",
              "\n",
              "[5 rows x 44 columns]"
            ]
          },
          "metadata": {
            "tags": []
          },
          "execution_count": 6
        }
      ]
    },
    {
      "cell_type": "code",
      "metadata": {
        "id": "Rmc6zqGhGN9G",
        "colab_type": "code",
        "colab": {}
      },
      "source": [
        "x,y = data,labels\n",
        "x_train,x_test,y_train,y_test = train_test_split(x,y)"
      ],
      "execution_count": null,
      "outputs": []
    },
    {
      "cell_type": "markdown",
      "metadata": {
        "id": "SW0_g_DRGN9J",
        "colab_type": "text"
      },
      "source": [
        "### 5. Build, train, and evaluate an XGBoost model"
      ]
    },
    {
      "cell_type": "code",
      "metadata": {
        "id": "2-2WkUXJGN9J",
        "colab_type": "code",
        "colab": {}
      },
      "source": [
        "model = xgb.XGBClassifier(\n",
        "    objective='reg:logistic'\n",
        ")"
      ],
      "execution_count": null,
      "outputs": []
    },
    {
      "cell_type": "code",
      "metadata": {
        "id": "iKW8IA4bGN9L",
        "colab_type": "code",
        "colab": {},
        "outputId": "e4a99b18-7d82-4c47-f52e-42b74bd4a973"
      },
      "source": [
        "model.fit(x_train, y_train)"
      ],
      "execution_count": null,
      "outputs": [
        {
          "output_type": "execute_result",
          "data": {
            "text/plain": [
              "XGBClassifier(objective='reg:logistic')"
            ]
          },
          "metadata": {
            "tags": []
          },
          "execution_count": 11
        }
      ]
    },
    {
      "cell_type": "code",
      "metadata": {
        "id": "M6VwYSevGN9O",
        "colab_type": "code",
        "colab": {},
        "outputId": "f4721a71-2c11-4e17-d2e4-0987720e84ef"
      },
      "source": [
        "y_pred = model.predict(x_test)\n",
        "acc = accuracy_score(y_test, y_pred.round())\n",
        "print(acc, '\\n')"
      ],
      "execution_count": null,
      "outputs": [
        {
          "output_type": "stream",
          "text": [
            "0.869992 \n",
            "\n"
          ],
          "name": "stdout"
        }
      ]
    },
    {
      "cell_type": "code",
      "metadata": {
        "id": "QPFbFdSrGN9Q",
        "colab_type": "code",
        "colab": {}
      },
      "source": [
        "model.save_model('model.bst')"
      ],
      "execution_count": null,
      "outputs": []
    },
    {
      "cell_type": "markdown",
      "metadata": {
        "id": "uzqjM_XZGN9S",
        "colab_type": "text"
      },
      "source": [
        "### 6. Deploy model to Cloud AI Platform"
      ]
    },
    {
      "cell_type": "markdown",
      "metadata": {
        "id": "CXpHF6S_GN9T",
        "colab_type": "text"
      },
      "source": [
        "#### Step 1: Create a Cloud Storage bucket for our model"
      ]
    },
    {
      "cell_type": "code",
      "metadata": {
        "id": "LtsoIWjrGN9T",
        "colab_type": "code",
        "colab": {}
      },
      "source": [
        "# Update these to your own GCP project, model, and version names\n",
        "GCP_PROJECT = 'vibrant-airship-281001'\n",
        "MODEL_BUCKET = 'gs://vibrant-airship-281001'\n",
        "VERSION_NAME = 'v1'\n",
        "MODEL_NAME = 'xgb_mortgage'"
      ],
      "execution_count": null,
      "outputs": []
    },
    {
      "cell_type": "code",
      "metadata": {
        "id": "tGsfCy-VGN9V",
        "colab_type": "code",
        "colab": {},
        "outputId": "a6c6bd7a-89eb-40f6-e514-51011d489cd8"
      },
      "source": [
        "!gsutil mb $MODEL_BUCKET"
      ],
      "execution_count": null,
      "outputs": [
        {
          "output_type": "stream",
          "text": [
            "Creating gs://vibrant-airship-281001/...\n"
          ],
          "name": "stdout"
        }
      ]
    },
    {
      "cell_type": "markdown",
      "metadata": {
        "id": "iPCrr5ZXGN9X",
        "colab_type": "text"
      },
      "source": [
        "#### Step 2: Copy the model file to Cloud Storage"
      ]
    },
    {
      "cell_type": "code",
      "metadata": {
        "id": "IwZfv61IGN9X",
        "colab_type": "code",
        "colab": {},
        "outputId": "d87edde1-630e-4577-c4e7-16436ac13136"
      },
      "source": [
        "!gsutil cp ./model.bst $MODEL_BUCKET"
      ],
      "execution_count": null,
      "outputs": [
        {
          "output_type": "stream",
          "text": [
            "Copying file://./model.bst [Content-Type=application/octet-stream]...\n",
            "/ [1 files][ 49.1 KiB/ 49.1 KiB]                                                \n",
            "Operation completed over 1 objects/49.1 KiB.                                     \n"
          ],
          "name": "stdout"
        }
      ]
    },
    {
      "cell_type": "code",
      "metadata": {
        "id": "46fg4R9eGN9Z",
        "colab_type": "code",
        "colab": {},
        "outputId": "b607949d-3f61-43f9-fca4-1e002f619d20"
      },
      "source": [
        "!gcloud config set project $GCP_PROJECT"
      ],
      "execution_count": null,
      "outputs": [
        {
          "output_type": "stream",
          "text": [
            "Updated property [core/project].\n",
            "\u001b[1;33mWARNING:\u001b[0m You do not appear to have access to project [vibrant-airship-281001] or it does not exist.\n"
          ],
          "name": "stdout"
        }
      ]
    },
    {
      "cell_type": "markdown",
      "metadata": {
        "id": "zApoTQAgGN9b",
        "colab_type": "text"
      },
      "source": [
        "#### Step 3: Create and deploy the model"
      ]
    },
    {
      "cell_type": "code",
      "metadata": {
        "id": "dlL7VnYwGN9b",
        "colab_type": "code",
        "colab": {},
        "outputId": "421f950c-b3c7-4fc2-bcc7-422f7898ee8a"
      },
      "source": [
        "!gcloud ai-platform models create $MODEL_NAME"
      ],
      "execution_count": null,
      "outputs": [
        {
          "output_type": "stream",
          "text": [
            "Using endpoint [https://ml.googleapis.com/]\n",
            "\u001b[1;33mWARNING:\u001b[0m Please explicitly specify a region. Using [us-central1] by default on https://ml.googleapis.com. Please note that your model will be inaccessible from https://us-central1-ml.googelapis.com\n",
            "\n",
            "Learn more about regional endpoints and see a list of available regions: https://cloud.google.com/ai-platform/prediction/docs/regional-endpoints\n",
            "Created ml engine model [projects/vibrant-airship-281001/models/xgb_mortgage].\n"
          ],
          "name": "stdout"
        }
      ]
    },
    {
      "cell_type": "code",
      "metadata": {
        "id": "I1Vfa895GN9e",
        "colab_type": "code",
        "colab": {},
        "outputId": "a8d90770-41de-4809-990d-d06b1acad4fc"
      },
      "source": [
        "!gcloud ai-platform versions create $VERSION_NAME \\\n",
        "--model=$MODEL_NAME \\\n",
        "--framework='XGBOOST' \\\n",
        "--runtime-version=1.15 \\\n",
        "--origin=$MODEL_BUCKET \\\n",
        "--python-version=3.7 \\\n",
        "--project=$GCP_PROJECT"
      ],
      "execution_count": null,
      "outputs": [
        {
          "output_type": "stream",
          "text": [
            "Using endpoint [https://ml.googleapis.com/]\n",
            "Creating version (this might take a few minutes)......done.                    \n"
          ],
          "name": "stdout"
        }
      ]
    },
    {
      "cell_type": "markdown",
      "metadata": {
        "id": "ViMFxnfvGN9g",
        "colab_type": "text"
      },
      "source": [
        "#### Step 4: Test the deployed model"
      ]
    },
    {
      "cell_type": "code",
      "metadata": {
        "id": "q2YWWK8-GN9g",
        "colab_type": "code",
        "colab": {},
        "outputId": "478d6014-7ccb-4841-f0a3-aa39e247170e"
      },
      "source": [
        "%%writefile predictions.json\n",
        "[2016.0, 1.0, 346.0, 27.0, 211.0, 4530.0, 86700.0, 132.13, 1289.0, 1408.0, 0.0, 0.0, 0.0, 0.0, 1.0, 0.0, 1.0, 0.0, 0.0, 0.0, 0.0, 1.0, 0.0, 1.0, 0.0, 1.0, 0.0, 0.0, 0.0, 1.0, 0.0, 0.0, 0.0, 0.0, 0.0, 0.0, 0.0, 0.0, 0.0, 1.0, 0.0, 0.0, 1.0, 0.0]"
      ],
      "execution_count": null,
      "outputs": [
        {
          "output_type": "stream",
          "text": [
            "Writing predictions.json\n"
          ],
          "name": "stdout"
        }
      ]
    },
    {
      "cell_type": "code",
      "metadata": {
        "id": "bQFIrICJGN9i",
        "colab_type": "code",
        "colab": {},
        "outputId": "258ecf5a-d5e0-4b6e-c943-88364b074f51"
      },
      "source": [
        "prediction = !gcloud ai-platform predict --model=xgb_mortgage --json-instances=predictions.json --version=$VERSION_NAME --verbosity=none\n",
        "\n",
        "print(prediction) "
      ],
      "execution_count": null,
      "outputs": [
        {
          "output_type": "stream",
          "text": [
            "['Using endpoint [https://ml.googleapis.com/]', '[0.9997743964195251]']\n"
          ],
          "name": "stdout"
        }
      ]
    },
    {
      "cell_type": "markdown",
      "metadata": {
        "id": "iqURkKPaGN9k",
        "colab_type": "text"
      },
      "source": [
        "### 7. Use the What-if Tool to interpret your model"
      ]
    },
    {
      "cell_type": "code",
      "metadata": {
        "id": "hp5sgz0VGN9l",
        "colab_type": "code",
        "colab": {}
      },
      "source": [
        "num_wit_examples = 500\n",
        "test_examples = np.hstack((x_test[:num_wit_examples].values,y_test[:num_wit_examples].reshape(-1,1)))"
      ],
      "execution_count": null,
      "outputs": []
    },
    {
      "cell_type": "code",
      "metadata": {
        "id": "XGfFY9nZGN9m",
        "colab_type": "code",
        "colab": {
          "referenced_widgets": [
            "114afcc7a6c44229b1fbcf98658f2dc4"
          ]
        },
        "outputId": "1c1c0ab4-3841-4c41-9115-d2ffeffd89cf"
      },
      "source": [
        "def adjust_prediction(pred):\n",
        "  return [1 - pred, pred]\n",
        "\n",
        "config_builder = (WitConfigBuilder(test_examples.tolist(), data.columns.tolist() + ['mortgage_status'])\n",
        "  .set_ai_platform_model(GCP_PROJECT, MODEL_NAME, VERSION_NAME, adjust_prediction=adjust_prediction)\n",
        "  .set_target_feature('mortgage_status')\n",
        "  .set_label_vocab(['denied', 'approved']))\n",
        "WitWidget(config_builder, height=800)"
      ],
      "execution_count": null,
      "outputs": [
        {
          "output_type": "display_data",
          "data": {
            "text/html": [
              "<style>.container { width:100% !important; }</style>"
            ],
            "text/plain": [
              "<IPython.core.display.HTML object>"
            ]
          },
          "metadata": {
            "tags": []
          }
        },
        {
          "output_type": "display_data",
          "data": {
            "application/vnd.jupyter.widget-view+json": {
              "model_id": "114afcc7a6c44229b1fbcf98658f2dc4",
              "version_major": 2,
              "version_minor": 0
            },
            "text/plain": [
              "WitWidget(config={'model_type': 'classification', 'label_vocab': ['denied', 'approved'], 'feature_names': ['as…"
            ]
          },
          "metadata": {
            "tags": []
          }
        }
      ]
    },
    {
      "cell_type": "code",
      "metadata": {
        "id": "6Di1mcGIGN9o",
        "colab_type": "code",
        "colab": {}
      },
      "source": [
        ""
      ],
      "execution_count": null,
      "outputs": []
    }
  ]
}