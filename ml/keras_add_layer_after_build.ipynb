{
  "nbformat": 4,
  "nbformat_minor": 0,
  "metadata": {
    "colab": {
      "name": "keras - add layer after build.ipynb",
      "provenance": [],
      "authorship_tag": "ABX9TyPDfIxffiyHvt4cp6C02bI6",
      "include_colab_link": true
    },
    "kernelspec": {
      "name": "python3",
      "display_name": "Python 3"
    },
    "accelerator": "GPU"
  },
  "cells": [
    {
      "cell_type": "markdown",
      "metadata": {
        "id": "view-in-github",
        "colab_type": "text"
      },
      "source": [
        "<a href=\"https://colab.research.google.com/github/tommybebe/til/blob/master/ml/keras_add_layer_after_build.ipynb\" target=\"_parent\"><img src=\"https://colab.research.google.com/assets/colab-badge.svg\" alt=\"Open In Colab\"/></a>"
      ]
    },
    {
      "cell_type": "markdown",
      "metadata": {
        "id": "gdqaAC7OSUco"
      },
      "source": [
        "### References\n",
        "- [Unsupervised Visual Representation Learning Overview： Toward Self-Supervision](https://hoya012.github.io/blog/Self-Supervised-Learning-Overview/)\n",
        "- [Keras Fashion MNIST](https://colab.research.google.com/github/tensorflow/tpu/blob/master/tools/colab/fashion_mnist.ipynb#scrollTo=SaYPv_aKId2d)"
      ]
    },
    {
      "cell_type": "markdown",
      "metadata": {
        "id": "2IpmJS2IUm9P"
      },
      "source": [
        "### Setup"
      ]
    },
    {
      "cell_type": "code",
      "metadata": {
        "id": "qHBYlqkDAHKx"
      },
      "source": [
        "import tensorflow as tf\n",
        "import numpy as np\n",
        "import os"
      ],
      "execution_count": 1,
      "outputs": []
    },
    {
      "cell_type": "code",
      "metadata": {
        "colab": {
          "base_uri": "https://localhost:8080/"
        },
        "id": "0DqU_Qc-ARCH",
        "outputId": "30740e6b-d858-41fc-f1d3-1f257d8ffcb4"
      },
      "source": [
        "(x_train, y_train), (x_test, y_test) = tf.keras.datasets.fashion_mnist.load_data()\n",
        "\n",
        "x_train = np.expand_dims(x_train, -1)\n",
        "x_test = np.expand_dims(x_test, -1)"
      ],
      "execution_count": 2,
      "outputs": [
        {
          "output_type": "stream",
          "text": [
            "Downloading data from https://storage.googleapis.com/tensorflow/tf-keras-datasets/train-labels-idx1-ubyte.gz\n",
            "32768/29515 [=================================] - 0s 0us/step\n",
            "Downloading data from https://storage.googleapis.com/tensorflow/tf-keras-datasets/train-images-idx3-ubyte.gz\n",
            "26427392/26421880 [==============================] - 0s 0us/step\n",
            "Downloading data from https://storage.googleapis.com/tensorflow/tf-keras-datasets/t10k-labels-idx1-ubyte.gz\n",
            "8192/5148 [===============================================] - 0s 0us/step\n",
            "Downloading data from https://storage.googleapis.com/tensorflow/tf-keras-datasets/t10k-images-idx3-ubyte.gz\n",
            "4423680/4422102 [==============================] - 0s 0us/step\n"
          ],
          "name": "stdout"
        }
      ]
    },
    {
      "cell_type": "markdown",
      "metadata": {
        "id": "q2tIvxaxUqar"
      },
      "source": [
        "### create initial model"
      ]
    },
    {
      "cell_type": "code",
      "metadata": {
        "id": "doBKMJtK_fHH"
      },
      "source": [
        "input_shape = x_train.shape[1:]\n",
        "\n",
        "def create_model():\n",
        "    model = tf.keras.models.Sequential()\n",
        "    model.add(tf.keras.layers.BatchNormalization(input_shape=input_shape))\n",
        "    model.add(tf.keras.layers.Conv2D(64, (5, 5), padding='same', activation='elu'))\n",
        "    model.add(tf.keras.layers.MaxPooling2D(pool_size=(2, 2), strides=(2,2)))\n",
        "    model.add(tf.keras.layers.Dropout(0.25))\n",
        "\n",
        "    model.add(tf.keras.layers.Flatten())\n",
        "    model.add(tf.keras.layers.Dense(10))\n",
        "    model.add(tf.keras.layers.Activation('softmax'))\n",
        "    return model"
      ],
      "execution_count": 21,
      "outputs": []
    },
    {
      "cell_type": "code",
      "metadata": {
        "id": "dfioJg-GAwZ6"
      },
      "source": [
        "with tf.device('/device:GPU:0'):\n",
        "    model = create_model()\n",
        "    model.compile(\n",
        "        optimizer=tf.keras.optimizers.Adam(learning_rate=1e-3, ),\n",
        "        loss='sparse_categorical_crossentropy',\n",
        "        metrics=['sparse_categorical_accuracy'])"
      ],
      "execution_count": 22,
      "outputs": []
    },
    {
      "cell_type": "code",
      "metadata": {
        "colab": {
          "base_uri": "https://localhost:8080/"
        },
        "id": "65fF-bGlA2zq",
        "outputId": "35272dc7-c549-4c7e-b4ec-136593790b41"
      },
      "source": [
        "model.fit(\n",
        "    x_train, \n",
        "    y_train,\n",
        "    epochs=15,\n",
        "    steps_per_epoch=60,\n",
        "    validation_data=(x_test, y_test),\n",
        "    validation_freq=15\n",
        ")"
      ],
      "execution_count": 23,
      "outputs": [
        {
          "output_type": "stream",
          "text": [
            "Epoch 1/15\n",
            " 1/60 [..............................] - ETA: 0s - loss: 2.3287 - sparse_categorical_accuracy: 0.1250WARNING:tensorflow:Callbacks method `on_train_batch_end` is slow compared to the batch time (batch time: 0.0042s vs `on_train_batch_end` time: 0.0215s). Check your callbacks.\n",
            "60/60 [==============================] - 2s 26ms/step - loss: 0.6204 - sparse_categorical_accuracy: 0.7879\n",
            "Epoch 2/15\n",
            "60/60 [==============================] - 2s 26ms/step - loss: 0.4009 - sparse_categorical_accuracy: 0.8620\n",
            "Epoch 3/15\n",
            "60/60 [==============================] - 2s 26ms/step - loss: 0.3579 - sparse_categorical_accuracy: 0.8753\n",
            "Epoch 4/15\n",
            "60/60 [==============================] - 2s 26ms/step - loss: 0.3291 - sparse_categorical_accuracy: 0.8862\n",
            "Epoch 5/15\n",
            "60/60 [==============================] - 2s 26ms/step - loss: 0.3083 - sparse_categorical_accuracy: 0.8921\n",
            "Epoch 6/15\n",
            "60/60 [==============================] - 2s 26ms/step - loss: 0.2937 - sparse_categorical_accuracy: 0.8970\n",
            "Epoch 7/15\n",
            "60/60 [==============================] - 2s 26ms/step - loss: 0.2811 - sparse_categorical_accuracy: 0.9022\n",
            "Epoch 8/15\n",
            "60/60 [==============================] - 2s 26ms/step - loss: 0.2698 - sparse_categorical_accuracy: 0.9058\n",
            "Epoch 9/15\n",
            "60/60 [==============================] - 2s 26ms/step - loss: 0.2585 - sparse_categorical_accuracy: 0.9088\n",
            "Epoch 10/15\n",
            "60/60 [==============================] - 2s 26ms/step - loss: 0.2507 - sparse_categorical_accuracy: 0.9113\n",
            "Epoch 11/15\n",
            "60/60 [==============================] - 2s 26ms/step - loss: 0.2408 - sparse_categorical_accuracy: 0.9153\n",
            "Epoch 12/15\n",
            "60/60 [==============================] - 2s 26ms/step - loss: 0.2422 - sparse_categorical_accuracy: 0.9141\n",
            "Epoch 13/15\n",
            "60/60 [==============================] - 2s 26ms/step - loss: 0.2307 - sparse_categorical_accuracy: 0.9189\n",
            "Epoch 14/15\n",
            "60/60 [==============================] - 2s 26ms/step - loss: 0.2235 - sparse_categorical_accuracy: 0.9198\n",
            "Epoch 15/15\n",
            "60/60 [==============================] - 2s 36ms/step - loss: 0.2196 - sparse_categorical_accuracy: 0.9217 - val_loss: 0.2760 - val_sparse_categorical_accuracy: 0.9027\n"
          ],
          "name": "stdout"
        },
        {
          "output_type": "execute_result",
          "data": {
            "text/plain": [
              "<tensorflow.python.keras.callbacks.History at 0x7ff5c3bb0630>"
            ]
          },
          "metadata": {
            "tags": []
          },
          "execution_count": 23
        }
      ]
    },
    {
      "cell_type": "code",
      "metadata": {
        "colab": {
          "base_uri": "https://localhost:8080/",
          "height": 274
        },
        "id": "iz8cBw_ENbGc",
        "outputId": "e5874665-a9ff-41c5-f7ef-4018e59462ae"
      },
      "source": [
        "from matplotlib import pyplot as plt\n",
        "%matplotlib inline\n",
        "\n",
        "def plot_predictions(images, predictions):\n",
        "  n = images.shape[0]\n",
        "  nc = int(np.ceil(n / 4))\n",
        "  \n",
        "  f, axes = plt.subplots(nc, 4)\n",
        "  for i in range(nc * 4):\n",
        "    y = i // 4\n",
        "    x = i % 4\n",
        "    axes[x, y].axis('off')\n",
        "    \n",
        "    label = LABEL_NAMES[np.argmax(predictions[i])]\n",
        "    confidence = np.max(predictions[i])\n",
        "    if i > n:\n",
        "      continue\n",
        "    axes[x, y].imshow(images[i])\n",
        "    axes[x, y].text(0.5, 0.5, label + '\\n%.3f' % confidence, fontsize=14)\n",
        "\n",
        "plot_predictions(np.squeeze(x_test[:16]), model.predict(x_test[:16]))\n",
        "plt.subplots_adjust(hspace=0.5)"
      ],
      "execution_count": 33,
      "outputs": [
        {
          "output_type": "display_data",
          "data": {
            "image/png": "[encoded data removed]",
            "text/plain": [
              "<Figure size 432x288 with 16 Axes>"
            ]
          },
          "metadata": {
            "tags": [],
            "needs_background": "light"
          }
        }
      ]
    },
    {
      "cell_type": "markdown",
      "metadata": {
        "id": "iRUHWqPNTuhW"
      },
      "source": [
        "### add more layers\n",
        "- [recreate model without last layer](https://stackoverflow.com/a/59304656)\n",
        "    ```\n",
        "model = Sequential()\n",
        "for layer in source_model.layers[:-1]: # go through until last layer\n",
        "    model.add(layer)\n",
        "model.add(Dense(3, activation='softmax'))\n",
        "model.compile(optimizer='adam', loss='categorical_crossentropy')\n",
        "    ```\n",
        "\n",
        "- layer freeze\n",
        "\n",
        "    > 그래서 unsupervised pretraining의 효과를 확인하기 위해 논문 들에서는 Self-Supervised Learning으로 Network를 pretraining 시킨 뒤 모든 weight들을 freeze 시킵니다. Pretraining을 통해 얻은 weight들이 얼마나 feature를 잘 뽑는지, representation을 얼마나 잘 배웠는지 에 초점을 두기 때문입니다.\n",
        "\n"
      ]
    },
    {
      "cell_type": "code",
      "metadata": {
        "id": "WqY1U3X7B2kK"
      },
      "source": [
        "# ..\n",
        "# ...\n",
        "# model.layers[:-3] : model.add(tf.keras.layers.Flatten())\n",
        "# model.layers[:-2] : model.add(tf.keras.layers.Dense(10))\n",
        "# model.layers[:-1] : model.add(tf.keras.layers.Activation('softmax'))\n",
        "\n",
        "with tf.device('/device:GPU:0'):\n",
        "    m = tf.keras.models.Sequential()\n",
        "    for layer in model.layers[:-2]:\n",
        "        m.add(layer)\n",
        "    \n",
        "    for layer in m.layers:\n",
        "        layer.trainable = False\n",
        "\n",
        "    m.add(tf.keras.layers.Dense(1024,activation=\"relu\"))\n",
        "    m.add(tf.keras.layers.BatchNormalization())\n",
        "    m.add(tf.keras.layers.Dropout(rate=0.4))\n",
        "    m.add(tf.keras.layers.Dense(10))\n",
        "    m.add(tf.keras.layers.Activation('softmax'))\n",
        "\n",
        "    m.compile(\n",
        "        optimizer=tf.keras.optimizers.Adam(learning_rate=1e-3, ),\n",
        "        loss='sparse_categorical_crossentropy',\n",
        "        metrics=['sparse_categorical_accuracy'])"
      ],
      "execution_count": 54,
      "outputs": []
    },
    {
      "cell_type": "code",
      "metadata": {
        "id": "Hs0IcRbyCHbl",
        "colab": {
          "base_uri": "https://localhost:8080/"
        },
        "outputId": "fee35abc-462b-4765-8b26-e25a40ab1dff"
      },
      "source": [
        "m.fit(\n",
        "    x_train, \n",
        "    y_train,\n",
        "    epochs=15,\n",
        "    steps_per_epoch=60,\n",
        "    validation_data=(x_test, y_test),\n",
        "    validation_freq=15\n",
        ")"
      ],
      "execution_count": 55,
      "outputs": [
        {
          "output_type": "stream",
          "text": [
            "Epoch 1/15\n",
            " 1/60 [..............................] - ETA: 1s - loss: 3.4766 - sparse_categorical_accuracy: 0.0930WARNING:tensorflow:Callbacks method `on_train_batch_end` is slow compared to the batch time (batch time: 0.0052s vs `on_train_batch_end` time: 0.0290s). Check your callbacks.\n",
            "60/60 [==============================] - 1s 25ms/step - loss: 0.5340 - sparse_categorical_accuracy: 0.8406\n",
            "Epoch 2/15\n",
            "60/60 [==============================] - 1s 24ms/step - loss: 0.2915 - sparse_categorical_accuracy: 0.8954\n",
            "Epoch 3/15\n",
            "60/60 [==============================] - 1s 24ms/step - loss: 0.2420 - sparse_categorical_accuracy: 0.9121\n",
            "Epoch 4/15\n",
            "60/60 [==============================] - 1s 24ms/step - loss: 0.2072 - sparse_categorical_accuracy: 0.9244\n",
            "Epoch 5/15\n",
            "60/60 [==============================] - 1s 24ms/step - loss: 0.1816 - sparse_categorical_accuracy: 0.9332\n",
            "Epoch 6/15\n",
            "60/60 [==============================] - 1s 24ms/step - loss: 0.1660 - sparse_categorical_accuracy: 0.9390\n",
            "Epoch 7/15\n",
            "60/60 [==============================] - 1s 24ms/step - loss: 0.1504 - sparse_categorical_accuracy: 0.9444\n",
            "Epoch 8/15\n",
            "60/60 [==============================] - 1s 24ms/step - loss: 0.1378 - sparse_categorical_accuracy: 0.9490\n",
            "Epoch 9/15\n",
            "60/60 [==============================] - 1s 24ms/step - loss: 0.1287 - sparse_categorical_accuracy: 0.9537\n",
            "Epoch 10/15\n",
            "60/60 [==============================] - 1s 24ms/step - loss: 0.1198 - sparse_categorical_accuracy: 0.9567\n",
            "Epoch 11/15\n",
            "60/60 [==============================] - 1s 25ms/step - loss: 0.1116 - sparse_categorical_accuracy: 0.9593\n",
            "Epoch 12/15\n",
            "60/60 [==============================] - 1s 24ms/step - loss: 0.1052 - sparse_categorical_accuracy: 0.9612\n",
            "Epoch 13/15\n",
            "60/60 [==============================] - 1s 24ms/step - loss: 0.1008 - sparse_categorical_accuracy: 0.9638\n",
            "Epoch 14/15\n",
            "60/60 [==============================] - 1s 24ms/step - loss: 0.0904 - sparse_categorical_accuracy: 0.9671\n",
            "Epoch 15/15\n",
            "60/60 [==============================] - 2s 36ms/step - loss: 0.0876 - sparse_categorical_accuracy: 0.9679 - val_loss: 0.2527 - val_sparse_categorical_accuracy: 0.9215\n"
          ],
          "name": "stdout"
        },
        {
          "output_type": "execute_result",
          "data": {
            "text/plain": [
              "<tensorflow.python.keras.callbacks.History at 0x7ff5c02b4cc0>"
            ]
          },
          "metadata": {
            "tags": []
          },
          "execution_count": 55
        }
      ]
    },
    {
      "cell_type": "code",
      "metadata": {
        "id": "EQRhZHKfCHed"
      },
      "source": [
        ""
      ],
      "execution_count": null,
      "outputs": []
    },
    {
      "cell_type": "code",
      "metadata": {
        "id": "kkfsBgArCHg5"
      },
      "source": [
        ""
      ],
      "execution_count": null,
      "outputs": []
    },
    {
      "cell_type": "code",
      "metadata": {
        "id": "Z5GQbWePCPyi"
      },
      "source": [
        ""
      ],
      "execution_count": null,
      "outputs": []
    }
  ]
}