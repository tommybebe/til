{
  "cells": [
    {
      "cell_type": "markdown",
      "metadata": {
        "id": "CzQyyWkFP5UW"
      },
      "source": [
        "# A Quick Introduction to Optuna\n",
        "\n",
        "This Jupyter notebook goes through the basic usage of Optuna.\n",
        "\n",
        "- Install Optuna\n",
        "- Write a training algorithm that involves hyperparameters\n",
        "  - Read train/valid data\n",
        "  - Define and train model\n",
        "  - Evaluate model\n",
        "- Use Optuna to tune the hyperparameters (hyperparameter optimization, HPO)\n",
        "- Visualize HPO"
      ]
    },
    {
      "cell_type": "markdown",
      "metadata": {
        "id": "PJuB8YcLP5UZ"
      },
      "source": [
        "## Install `optuna`\n",
        "\n",
        "Optuna can be installed via `pip` or `conda`."
      ]
    },
    {
      "cell_type": "code",
      "execution_count": 1,
      "metadata": {
        "id": "i1H-TU31P5Ua",
        "outputId": "eefe266f-d2a8-4e0a-8ebb-07bc185f2de7",
        "colab": {
          "base_uri": "https://localhost:8080/"
        }
      },
      "outputs": [
        {
          "output_type": "stream",
          "name": "stdout",
          "text": [
            "\u001b[K     |████████████████████████████████| 308 kB 4.4 MB/s \n",
            "\u001b[K     |████████████████████████████████| 81 kB 8.3 MB/s \n",
            "\u001b[K     |████████████████████████████████| 210 kB 56.5 MB/s \n",
            "\u001b[K     |████████████████████████████████| 75 kB 4.4 MB/s \n",
            "\u001b[K     |████████████████████████████████| 150 kB 55.6 MB/s \n",
            "\u001b[K     |████████████████████████████████| 49 kB 5.1 MB/s \n",
            "\u001b[K     |████████████████████████████████| 113 kB 57.5 MB/s \n",
            "\u001b[?25h  Building wheel for pyperclip (setup.py) ... \u001b[?25l\u001b[?25hdone\n"
          ]
        }
      ],
      "source": [
        "!pip install --quiet optuna"
      ]
    },
    {
      "cell_type": "code",
      "execution_count": 2,
      "metadata": {
        "id": "0aKgTrswP5Ub",
        "outputId": "95cf866f-bb3c-4739-dec0-8f1c4b6f70f2",
        "colab": {
          "base_uri": "https://localhost:8080/",
          "height": 36
        }
      },
      "outputs": [
        {
          "output_type": "execute_result",
          "data": {
            "application/vnd.google.colaboratory.intrinsic+json": {
              "type": "string"
            },
            "text/plain": [
              "'2.10.0'"
            ]
          },
          "metadata": {},
          "execution_count": 2
        }
      ],
      "source": [
        "import optuna\n",
        "\n",
        "optuna.__version__"
      ]
    },
    {
      "cell_type": "markdown",
      "metadata": {
        "id": "aO2_0SRNP5Ub"
      },
      "source": [
        "## Optimize Hyperparameters\n",
        "\n",
        "### Define a simple scikit-learn model\n",
        "\n",
        "We start with a simple random forest model to classify flowers in the Iris dataset. We define a function called `objective` that encapsulates the whole training process and outputs the accuracy of the model."
      ]
    },
    {
      "cell_type": "code",
      "execution_count": 3,
      "metadata": {
        "id": "qQQ_y35TP5Uc",
        "outputId": "0278c455-fff6-4c96-81e4-c2d11a172df5",
        "colab": {
          "base_uri": "https://localhost:8080/"
        }
      },
      "outputs": [
        {
          "output_type": "stream",
          "name": "stdout",
          "text": [
            "Accuracy: 0.9466666666666667\n"
          ]
        }
      ],
      "source": [
        "import sklearn.datasets\n",
        "import sklearn.ensemble\n",
        "import sklearn.model_selection\n",
        "\n",
        "def objective():\n",
        "    iris = sklearn.datasets.load_iris()  # Prepare the data.\n",
        "    \n",
        "    clf = sklearn.ensemble.RandomForestClassifier(    \n",
        "        n_estimators=5, max_depth=3)  # Define the model.\n",
        "    \n",
        "    return sklearn.model_selection.cross_val_score(\n",
        "        clf, iris.data, iris.target, n_jobs=-1, cv=3).mean()  # Train and evaluate the model.\n",
        "\n",
        "print('Accuracy: {}'.format(objective()))"
      ]
    },
    {
      "cell_type": "markdown",
      "metadata": {
        "id": "2EeCqZQ2P5Uc"
      },
      "source": [
        "### Optimize hyperparameters of the model\n",
        "\n",
        "The hyperparameters of the above algorithm are `n_estimators` and `max_depth` for which we can try different values to see if the model accuracy can be improved. The `objective` function is modified to accept a trial object. This trial has several methods for sampling hyperparameters. We create a study to run the hyperparameter optimization and finally read the best hyperparameters."
      ]
    },
    {
      "cell_type": "code",
      "execution_count": 4,
      "metadata": {
        "id": "Uh1cQqkOP5Ud",
        "outputId": "a7df24b6-2b0d-4d80-9e8d-44b304167507",
        "colab": {
          "base_uri": "https://localhost:8080/"
        }
      },
      "outputs": [
        {
          "output_type": "stream",
          "name": "stderr",
          "text": [
            "\u001b[32m[I 2022-03-07 16:39:47,538]\u001b[0m A new study created in memory with name: no-name-3e3a9d71-cc80-4311-8186-cc7e5aef197e\u001b[0m\n",
            "\u001b[32m[I 2022-03-07 16:39:47,658]\u001b[0m Trial 0 finished with value: 0.9666666666666667 and parameters: {'n_estimators': 13, 'max_depth': 4.656141687679648}. Best is trial 0 with value: 0.9666666666666667.\u001b[0m\n",
            "\u001b[32m[I 2022-03-07 16:39:47,801]\u001b[0m Trial 1 finished with value: 0.96 and parameters: {'n_estimators': 12, 'max_depth': 4.54553028378252}. Best is trial 0 with value: 0.9666666666666667.\u001b[0m\n",
            "\u001b[32m[I 2022-03-07 16:39:47,886]\u001b[0m Trial 2 finished with value: 0.9533333333333333 and parameters: {'n_estimators': 12, 'max_depth': 3.4440977779431448}. Best is trial 0 with value: 0.9666666666666667.\u001b[0m\n",
            "\u001b[32m[I 2022-03-07 16:39:47,952]\u001b[0m Trial 3 finished with value: 0.9533333333333333 and parameters: {'n_estimators': 10, 'max_depth': 26.017873193949292}. Best is trial 0 with value: 0.9666666666666667.\u001b[0m\n",
            "\u001b[32m[I 2022-03-07 16:39:47,998]\u001b[0m Trial 4 finished with value: 0.94 and parameters: {'n_estimators': 6, 'max_depth': 10.709772769926696}. Best is trial 0 with value: 0.9666666666666667.\u001b[0m\n",
            "\u001b[32m[I 2022-03-07 16:39:48,044]\u001b[0m Trial 5 finished with value: 0.6866666666666666 and parameters: {'n_estimators': 6, 'max_depth': 1.7936906878038827}. Best is trial 0 with value: 0.9666666666666667.\u001b[0m\n",
            "\u001b[32m[I 2022-03-07 16:39:48,146]\u001b[0m Trial 6 finished with value: 0.9533333333333333 and parameters: {'n_estimators': 15, 'max_depth': 1.201443265789287}. Best is trial 0 with value: 0.9666666666666667.\u001b[0m\n",
            "\u001b[32m[I 2022-03-07 16:39:48,246]\u001b[0m Trial 7 finished with value: 0.8533333333333334 and parameters: {'n_estimators': 19, 'max_depth': 1.2800151138317581}. Best is trial 0 with value: 0.9666666666666667.\u001b[0m\n",
            "\u001b[32m[I 2022-03-07 16:39:48,300]\u001b[0m Trial 8 finished with value: 0.9533333333333333 and parameters: {'n_estimators': 8, 'max_depth': 7.548840947789779}. Best is trial 0 with value: 0.9666666666666667.\u001b[0m\n",
            "\u001b[32m[I 2022-03-07 16:39:48,343]\u001b[0m Trial 9 finished with value: 0.9466666666666667 and parameters: {'n_estimators': 5, 'max_depth': 5.488635272133106}. Best is trial 0 with value: 0.9666666666666667.\u001b[0m\n",
            "\u001b[32m[I 2022-03-07 16:39:48,441]\u001b[0m Trial 10 finished with value: 0.9533333333333333 and parameters: {'n_estimators': 17, 'max_depth': 15.938360848175964}. Best is trial 0 with value: 0.9666666666666667.\u001b[0m\n",
            "\u001b[32m[I 2022-03-07 16:39:48,523]\u001b[0m Trial 11 finished with value: 0.96 and parameters: {'n_estimators': 13, 'max_depth': 3.2163534748026015}. Best is trial 0 with value: 0.9666666666666667.\u001b[0m\n",
            "\u001b[32m[I 2022-03-07 16:39:48,554]\u001b[0m Trial 12 finished with value: 0.96 and parameters: {'n_estimators': 2, 'max_depth': 3.9103912493262536}. Best is trial 0 with value: 0.9666666666666667.\u001b[0m\n",
            "\u001b[32m[I 2022-03-07 16:39:48,648]\u001b[0m Trial 13 finished with value: 0.9466666666666667 and parameters: {'n_estimators': 15, 'max_depth': 2.2253474335759953}. Best is trial 0 with value: 0.9666666666666667.\u001b[0m\n",
            "\u001b[32m[I 2022-03-07 16:39:48,712]\u001b[0m Trial 14 finished with value: 0.96 and parameters: {'n_estimators': 9, 'max_depth': 6.928507636440697}. Best is trial 0 with value: 0.9666666666666667.\u001b[0m\n",
            "\u001b[32m[I 2022-03-07 16:39:48,794]\u001b[0m Trial 15 finished with value: 0.96 and parameters: {'n_estimators': 13, 'max_depth': 13.730322487483189}. Best is trial 0 with value: 0.9666666666666667.\u001b[0m\n",
            "\u001b[32m[I 2022-03-07 16:39:48,922]\u001b[0m Trial 16 finished with value: 0.9666666666666667 and parameters: {'n_estimators': 20, 'max_depth': 4.92229101141786}. Best is trial 0 with value: 0.9666666666666667.\u001b[0m\n",
            "\u001b[32m[I 2022-03-07 16:39:49,031]\u001b[0m Trial 17 finished with value: 0.9533333333333333 and parameters: {'n_estimators': 20, 'max_depth': 2.3031841879445016}. Best is trial 0 with value: 0.9666666666666667.\u001b[0m\n",
            "\u001b[32m[I 2022-03-07 16:39:49,137]\u001b[0m Trial 18 finished with value: 0.9666666666666667 and parameters: {'n_estimators': 17, 'max_depth': 8.164461902322422}. Best is trial 0 with value: 0.9666666666666667.\u001b[0m\n",
            "\u001b[32m[I 2022-03-07 16:39:49,237]\u001b[0m Trial 19 finished with value: 0.9466666666666667 and parameters: {'n_estimators': 18, 'max_depth': 20.480563798662683}. Best is trial 0 with value: 0.9666666666666667.\u001b[0m\n",
            "\u001b[32m[I 2022-03-07 16:39:49,324]\u001b[0m Trial 20 finished with value: 0.96 and parameters: {'n_estimators': 15, 'max_depth': 5.539324787935368}. Best is trial 0 with value: 0.9666666666666667.\u001b[0m\n",
            "\u001b[32m[I 2022-03-07 16:39:49,421]\u001b[0m Trial 21 finished with value: 0.96 and parameters: {'n_estimators': 17, 'max_depth': 9.324372964829307}. Best is trial 0 with value: 0.9666666666666667.\u001b[0m\n",
            "\u001b[32m[I 2022-03-07 16:39:49,598]\u001b[0m Trial 22 finished with value: 0.9666666666666667 and parameters: {'n_estimators': 20, 'max_depth': 7.712148424773278}. Best is trial 0 with value: 0.9666666666666667.\u001b[0m\n",
            "\u001b[32m[I 2022-03-07 16:39:49,730]\u001b[0m Trial 23 finished with value: 0.9466666666666667 and parameters: {'n_estimators': 16, 'max_depth': 2.896788563873662}. Best is trial 0 with value: 0.9666666666666667.\u001b[0m\n",
            "\u001b[32m[I 2022-03-07 16:39:49,879]\u001b[0m Trial 24 finished with value: 0.9666666666666667 and parameters: {'n_estimators': 18, 'max_depth': 11.384470626829117}. Best is trial 0 with value: 0.9666666666666667.\u001b[0m\n",
            "\u001b[32m[I 2022-03-07 16:39:49,986]\u001b[0m Trial 25 finished with value: 0.9466666666666667 and parameters: {'n_estimators': 14, 'max_depth': 7.311587876418324}. Best is trial 0 with value: 0.9666666666666667.\u001b[0m\n",
            "\u001b[32m[I 2022-03-07 16:39:50,087]\u001b[0m Trial 26 finished with value: 0.9533333333333333 and parameters: {'n_estimators': 18, 'max_depth': 8.876426893329661}. Best is trial 0 with value: 0.9666666666666667.\u001b[0m\n",
            "\u001b[32m[I 2022-03-07 16:39:50,211]\u001b[0m Trial 27 finished with value: 0.9533333333333333 and parameters: {'n_estimators': 20, 'max_depth': 11.577461773183561}. Best is trial 0 with value: 0.9666666666666667.\u001b[0m\n",
            "\u001b[32m[I 2022-03-07 16:39:50,317]\u001b[0m Trial 28 finished with value: 0.96 and parameters: {'n_estimators': 18, 'max_depth': 16.31072898509743}. Best is trial 0 with value: 0.9666666666666667.\u001b[0m\n",
            "\u001b[32m[I 2022-03-07 16:39:50,394]\u001b[0m Trial 29 finished with value: 0.9666666666666667 and parameters: {'n_estimators': 12, 'max_depth': 29.996004665196878}. Best is trial 0 with value: 0.9666666666666667.\u001b[0m\n",
            "\u001b[32m[I 2022-03-07 16:39:50,468]\u001b[0m Trial 30 finished with value: 0.9666666666666667 and parameters: {'n_estimators': 11, 'max_depth': 4.171678064355451}. Best is trial 0 with value: 0.9666666666666667.\u001b[0m\n",
            "\u001b[32m[I 2022-03-07 16:39:50,565]\u001b[0m Trial 31 finished with value: 0.96 and parameters: {'n_estimators': 17, 'max_depth': 6.4327121986906315}. Best is trial 0 with value: 0.9666666666666667.\u001b[0m\n",
            "\u001b[32m[I 2022-03-07 16:39:50,644]\u001b[0m Trial 32 finished with value: 0.9466666666666667 and parameters: {'n_estimators': 12, 'max_depth': 28.624297479327193}. Best is trial 0 with value: 0.9666666666666667.\u001b[0m\n",
            "\u001b[32m[I 2022-03-07 16:39:50,714]\u001b[0m Trial 33 finished with value: 0.9666666666666667 and parameters: {'n_estimators': 11, 'max_depth': 4.012298746860111}. Best is trial 0 with value: 0.9666666666666667.\u001b[0m\n",
            "\u001b[32m[I 2022-03-07 16:39:50,788]\u001b[0m Trial 34 finished with value: 0.9666666666666667 and parameters: {'n_estimators': 11, 'max_depth': 23.109744518179287}. Best is trial 0 with value: 0.9666666666666667.\u001b[0m\n",
            "\u001b[32m[I 2022-03-07 16:39:50,851]\u001b[0m Trial 35 finished with value: 0.9466666666666667 and parameters: {'n_estimators': 8, 'max_depth': 19.359940341285075}. Best is trial 0 with value: 0.9666666666666667.\u001b[0m\n",
            "\u001b[32m[I 2022-03-07 16:39:50,973]\u001b[0m Trial 36 finished with value: 0.9533333333333333 and parameters: {'n_estimators': 20, 'max_depth': 4.955896733937107}. Best is trial 0 with value: 0.9666666666666667.\u001b[0m\n",
            "\u001b[32m[I 2022-03-07 16:39:51,041]\u001b[0m Trial 37 finished with value: 0.9666666666666667 and parameters: {'n_estimators': 10, 'max_depth': 4.074641544233625}. Best is trial 0 with value: 0.9666666666666667.\u001b[0m\n",
            "\u001b[32m[I 2022-03-07 16:39:51,120]\u001b[0m Trial 38 finished with value: 0.9466666666666667 and parameters: {'n_estimators': 11, 'max_depth': 2.593821977240514}. Best is trial 0 with value: 0.9666666666666667.\u001b[0m\n",
            "\u001b[32m[I 2022-03-07 16:39:51,227]\u001b[0m Trial 39 finished with value: 0.9466666666666667 and parameters: {'n_estimators': 19, 'max_depth': 11.174130761926188}. Best is trial 0 with value: 0.9666666666666667.\u001b[0m\n",
            "\u001b[32m[I 2022-03-07 16:39:51,320]\u001b[0m Trial 40 finished with value: 0.82 and parameters: {'n_estimators': 14, 'max_depth': 1.57323394408248}. Best is trial 0 with value: 0.9666666666666667.\u001b[0m\n",
            "\u001b[32m[I 2022-03-07 16:39:51,391]\u001b[0m Trial 41 finished with value: 0.9533333333333333 and parameters: {'n_estimators': 10, 'max_depth': 3.925952341759108}. Best is trial 0 with value: 0.9666666666666667.\u001b[0m\n",
            "\u001b[32m[I 2022-03-07 16:39:51,458]\u001b[0m Trial 42 finished with value: 0.96 and parameters: {'n_estimators': 10, 'max_depth': 4.084926487665196}. Best is trial 0 with value: 0.9666666666666667.\u001b[0m\n",
            "\u001b[32m[I 2022-03-07 16:39:51,529]\u001b[0m Trial 43 finished with value: 0.96 and parameters: {'n_estimators': 11, 'max_depth': 3.445235793435283}. Best is trial 0 with value: 0.9666666666666667.\u001b[0m\n",
            "\u001b[32m[I 2022-03-07 16:39:51,586]\u001b[0m Trial 44 finished with value: 0.9533333333333333 and parameters: {'n_estimators': 7, 'max_depth': 5.954336526597355}. Best is trial 0 with value: 0.9666666666666667.\u001b[0m\n",
            "\u001b[32m[I 2022-03-07 16:39:51,648]\u001b[0m Trial 45 finished with value: 0.9533333333333333 and parameters: {'n_estimators': 9, 'max_depth': 4.363383766238024}. Best is trial 0 with value: 0.9666666666666667.\u001b[0m\n",
            "\u001b[32m[I 2022-03-07 16:39:51,729]\u001b[0m Trial 46 finished with value: 0.9666666666666667 and parameters: {'n_estimators': 13, 'max_depth': 3.3976833511272337}. Best is trial 0 with value: 0.9666666666666667.\u001b[0m\n",
            "\u001b[32m[I 2022-03-07 16:39:51,796]\u001b[0m Trial 47 finished with value: 0.8666666666666667 and parameters: {'n_estimators': 9, 'max_depth': 1.9171202930698232}. Best is trial 0 with value: 0.9666666666666667.\u001b[0m\n",
            "\u001b[32m[I 2022-03-07 16:39:51,889]\u001b[0m Trial 48 finished with value: 0.96 and parameters: {'n_estimators': 16, 'max_depth': 13.212726406006716}. Best is trial 0 with value: 0.9666666666666667.\u001b[0m\n",
            "\u001b[32m[I 2022-03-07 16:39:51,983]\u001b[0m Trial 49 finished with value: 0.9666666666666667 and parameters: {'n_estimators': 13, 'max_depth': 3.257058215050574}. Best is trial 0 with value: 0.9666666666666667.\u001b[0m\n",
            "\u001b[32m[I 2022-03-07 16:39:52,072]\u001b[0m Trial 50 finished with value: 0.9466666666666667 and parameters: {'n_estimators': 13, 'max_depth': 2.6987008377403736}. Best is trial 0 with value: 0.9666666666666667.\u001b[0m\n",
            "\u001b[32m[I 2022-03-07 16:39:52,173]\u001b[0m Trial 51 finished with value: 0.9466666666666667 and parameters: {'n_estimators': 12, 'max_depth': 23.370374404069796}. Best is trial 0 with value: 0.9666666666666667.\u001b[0m\n",
            "\u001b[32m[I 2022-03-07 16:39:52,340]\u001b[0m Trial 52 finished with value: 0.9666666666666667 and parameters: {'n_estimators': 11, 'max_depth': 31.703792528709975}. Best is trial 0 with value: 0.9666666666666667.\u001b[0m\n",
            "\u001b[32m[I 2022-03-07 16:39:52,499]\u001b[0m Trial 53 finished with value: 0.96 and parameters: {'n_estimators': 13, 'max_depth': 3.3587940046978777}. Best is trial 0 with value: 0.9666666666666667.\u001b[0m\n",
            "\u001b[32m[I 2022-03-07 16:39:52,626]\u001b[0m Trial 54 finished with value: 0.9533333333333333 and parameters: {'n_estimators': 14, 'max_depth': 5.050066337629561}. Best is trial 0 with value: 0.9666666666666667.\u001b[0m\n",
            "\u001b[32m[I 2022-03-07 16:39:52,755]\u001b[0m Trial 55 finished with value: 0.9666666666666667 and parameters: {'n_estimators': 8, 'max_depth': 6.307386547712894}. Best is trial 0 with value: 0.9666666666666667.\u001b[0m\n",
            "\u001b[32m[I 2022-03-07 16:39:52,903]\u001b[0m Trial 56 finished with value: 0.9533333333333333 and parameters: {'n_estimators': 10, 'max_depth': 23.860926855272965}. Best is trial 0 with value: 0.9666666666666667.\u001b[0m\n",
            "\u001b[32m[I 2022-03-07 16:39:52,963]\u001b[0m Trial 57 finished with value: 0.9533333333333333 and parameters: {'n_estimators': 3, 'max_depth': 9.555598934849138}. Best is trial 0 with value: 0.9666666666666667.\u001b[0m\n",
            "\u001b[32m[I 2022-03-07 16:39:53,165]\u001b[0m Trial 58 finished with value: 0.8666666666666667 and parameters: {'n_estimators': 19, 'max_depth': 1.0062227834789739}. Best is trial 0 with value: 0.9666666666666667.\u001b[0m\n",
            "\u001b[32m[I 2022-03-07 16:39:53,257]\u001b[0m Trial 59 finished with value: 0.94 and parameters: {'n_estimators': 5, 'max_depth': 3.0335166549739094}. Best is trial 0 with value: 0.9666666666666667.\u001b[0m\n",
            "\u001b[32m[I 2022-03-07 16:39:53,377]\u001b[0m Trial 60 finished with value: 0.9533333333333333 and parameters: {'n_estimators': 8, 'max_depth': 2.2358141580393704}. Best is trial 0 with value: 0.9666666666666667.\u001b[0m\n",
            "\u001b[32m[I 2022-03-07 16:39:53,529]\u001b[0m Trial 61 finished with value: 0.9533333333333333 and parameters: {'n_estimators': 13, 'max_depth': 3.673730715908941}. Best is trial 0 with value: 0.9666666666666667.\u001b[0m\n",
            "\u001b[32m[I 2022-03-07 16:39:53,657]\u001b[0m Trial 62 finished with value: 0.96 and parameters: {'n_estimators': 10, 'max_depth': 27.79335624718882}. Best is trial 0 with value: 0.9666666666666667.\u001b[0m\n",
            "\u001b[32m[I 2022-03-07 16:39:53,871]\u001b[0m Trial 63 finished with value: 0.9666666666666667 and parameters: {'n_estimators': 20, 'max_depth': 4.680476201214124}. Best is trial 0 with value: 0.9666666666666667.\u001b[0m\n",
            "\u001b[32m[I 2022-03-07 16:39:54,075]\u001b[0m Trial 64 finished with value: 0.94 and parameters: {'n_estimators': 14, 'max_depth': 2.480457636811257}. Best is trial 0 with value: 0.9666666666666667.\u001b[0m\n",
            "\u001b[32m[I 2022-03-07 16:39:54,241]\u001b[0m Trial 65 finished with value: 0.9666666666666667 and parameters: {'n_estimators': 16, 'max_depth': 7.696938167002066}. Best is trial 0 with value: 0.9666666666666667.\u001b[0m\n",
            "\u001b[32m[I 2022-03-07 16:39:54,316]\u001b[0m Trial 66 finished with value: 0.96 and parameters: {'n_estimators': 6, 'max_depth': 6.374336284740656}. Best is trial 0 with value: 0.9666666666666667.\u001b[0m\n",
            "\u001b[32m[I 2022-03-07 16:39:54,478]\u001b[0m Trial 67 finished with value: 0.96 and parameters: {'n_estimators': 15, 'max_depth': 4.708045955693253}. Best is trial 0 with value: 0.9666666666666667.\u001b[0m\n",
            "\u001b[32m[I 2022-03-07 16:39:54,660]\u001b[0m Trial 68 finished with value: 0.96 and parameters: {'n_estimators': 16, 'max_depth': 5.623800148099272}. Best is trial 0 with value: 0.9666666666666667.\u001b[0m\n",
            "\u001b[32m[I 2022-03-07 16:39:54,859]\u001b[0m Trial 69 finished with value: 0.9466666666666667 and parameters: {'n_estimators': 16, 'max_depth': 6.7748293029975}. Best is trial 0 with value: 0.9666666666666667.\u001b[0m\n",
            "\u001b[32m[I 2022-03-07 16:39:55,005]\u001b[0m Trial 70 finished with value: 0.9733333333333333 and parameters: {'n_estimators': 15, 'max_depth': 3.0427512131209546}. Best is trial 70 with value: 0.9733333333333333.\u001b[0m\n",
            "\u001b[32m[I 2022-03-07 16:39:55,247]\u001b[0m Trial 71 finished with value: 0.9533333333333333 and parameters: {'n_estimators': 12, 'max_depth': 3.017854584646358}. Best is trial 70 with value: 0.9733333333333333.\u001b[0m\n",
            "\u001b[32m[I 2022-03-07 16:39:55,531]\u001b[0m Trial 72 finished with value: 0.9533333333333333 and parameters: {'n_estimators': 18, 'max_depth': 9.662343841945896}. Best is trial 70 with value: 0.9733333333333333.\u001b[0m\n",
            "\u001b[32m[I 2022-03-07 16:39:55,701]\u001b[0m Trial 73 finished with value: 0.96 and parameters: {'n_estimators': 17, 'max_depth': 8.469854758823306}. Best is trial 70 with value: 0.9733333333333333.\u001b[0m\n",
            "\u001b[32m[I 2022-03-07 16:39:55,881]\u001b[0m Trial 74 finished with value: 0.9666666666666667 and parameters: {'n_estimators': 19, 'max_depth': 12.298901281092594}. Best is trial 70 with value: 0.9733333333333333.\u001b[0m\n",
            "\u001b[32m[I 2022-03-07 16:39:56,094]\u001b[0m Trial 75 finished with value: 0.9533333333333333 and parameters: {'n_estimators': 15, 'max_depth': 1.8893762469402247}. Best is trial 70 with value: 0.9733333333333333.\u001b[0m\n",
            "\u001b[32m[I 2022-03-07 16:39:56,265]\u001b[0m Trial 76 finished with value: 0.9666666666666667 and parameters: {'n_estimators': 13, 'max_depth': 3.2926891942656855}. Best is trial 70 with value: 0.9733333333333333.\u001b[0m\n",
            "\u001b[32m[I 2022-03-07 16:39:56,406]\u001b[0m Trial 77 finished with value: 0.9666666666666667 and parameters: {'n_estimators': 11, 'max_depth': 20.28960094540444}. Best is trial 70 with value: 0.9733333333333333.\u001b[0m\n",
            "\u001b[32m[I 2022-03-07 16:39:56,556]\u001b[0m Trial 78 finished with value: 0.9666666666666667 and parameters: {'n_estimators': 12, 'max_depth': 15.907039101174506}. Best is trial 70 with value: 0.9733333333333333.\u001b[0m\n",
            "\u001b[32m[I 2022-03-07 16:39:56,713]\u001b[0m Trial 79 finished with value: 0.96 and parameters: {'n_estimators': 11, 'max_depth': 17.801599186435627}. Best is trial 70 with value: 0.9733333333333333.\u001b[0m\n",
            "\u001b[32m[I 2022-03-07 16:39:56,815]\u001b[0m Trial 80 finished with value: 0.9466666666666667 and parameters: {'n_estimators': 9, 'max_depth': 15.030520459358222}. Best is trial 70 with value: 0.9733333333333333.\u001b[0m\n",
            "\u001b[32m[I 2022-03-07 16:39:56,989]\u001b[0m Trial 81 finished with value: 0.9533333333333333 and parameters: {'n_estimators': 14, 'max_depth': 3.6040358900988925}. Best is trial 70 with value: 0.9733333333333333.\u001b[0m\n",
            "\u001b[32m[I 2022-03-07 16:39:57,202]\u001b[0m Trial 82 finished with value: 0.96 and parameters: {'n_estimators': 19, 'max_depth': 4.21752000636533}. Best is trial 70 with value: 0.9733333333333333.\u001b[0m\n",
            "\u001b[32m[I 2022-03-07 16:39:57,368]\u001b[0m Trial 83 finished with value: 0.9666666666666667 and parameters: {'n_estimators': 12, 'max_depth': 3.8498618304868013}. Best is trial 70 with value: 0.9733333333333333.\u001b[0m\n",
            "\u001b[32m[I 2022-03-07 16:39:57,488]\u001b[0m Trial 84 finished with value: 0.9533333333333333 and parameters: {'n_estimators': 10, 'max_depth': 5.124058288639441}. Best is trial 70 with value: 0.9733333333333333.\u001b[0m\n",
            "\u001b[32m[I 2022-03-07 16:39:57,608]\u001b[0m Trial 85 finished with value: 0.94 and parameters: {'n_estimators': 12, 'max_depth': 2.8278125675159194}. Best is trial 70 with value: 0.9733333333333333.\u001b[0m\n",
            "\u001b[32m[I 2022-03-07 16:39:57,796]\u001b[0m Trial 86 finished with value: 0.9733333333333333 and parameters: {'n_estimators': 13, 'max_depth': 24.178774211021537}. Best is trial 70 with value: 0.9733333333333333.\u001b[0m\n",
            "\u001b[32m[I 2022-03-07 16:39:57,931]\u001b[0m Trial 87 finished with value: 0.96 and parameters: {'n_estimators': 12, 'max_depth': 23.452966994830746}. Best is trial 70 with value: 0.9733333333333333.\u001b[0m\n",
            "\u001b[32m[I 2022-03-07 16:39:58,069]\u001b[0m Trial 88 finished with value: 0.9533333333333333 and parameters: {'n_estimators': 14, 'max_depth': 26.62242233744598}. Best is trial 70 with value: 0.9733333333333333.\u001b[0m\n",
            "\u001b[32m[I 2022-03-07 16:39:58,234]\u001b[0m Trial 89 finished with value: 0.96 and parameters: {'n_estimators': 11, 'max_depth': 29.400025144596604}. Best is trial 70 with value: 0.9733333333333333.\u001b[0m\n",
            "\u001b[32m[I 2022-03-07 16:39:58,460]\u001b[0m Trial 90 finished with value: 0.9666666666666667 and parameters: {'n_estimators': 13, 'max_depth': 4.383032703606284}. Best is trial 70 with value: 0.9733333333333333.\u001b[0m\n",
            "\u001b[32m[I 2022-03-07 16:39:58,710]\u001b[0m Trial 91 finished with value: 0.9666666666666667 and parameters: {'n_estimators': 13, 'max_depth': 3.931226446915686}. Best is trial 70 with value: 0.9733333333333333.\u001b[0m\n",
            "\u001b[32m[I 2022-03-07 16:39:58,853]\u001b[0m Trial 92 finished with value: 0.9533333333333333 and parameters: {'n_estimators': 11, 'max_depth': 4.3741232526878955}. Best is trial 70 with value: 0.9733333333333333.\u001b[0m\n",
            "\u001b[32m[I 2022-03-07 16:39:59,094]\u001b[0m Trial 93 finished with value: 0.9466666666666667 and parameters: {'n_estimators': 10, 'max_depth': 3.9619374240017056}. Best is trial 70 with value: 0.9733333333333333.\u001b[0m\n",
            "\u001b[32m[I 2022-03-07 16:39:59,274]\u001b[0m Trial 94 finished with value: 0.96 and parameters: {'n_estimators': 11, 'max_depth': 26.063722453127216}. Best is trial 70 with value: 0.9733333333333333.\u001b[0m\n",
            "\u001b[32m[I 2022-03-07 16:39:59,486]\u001b[0m Trial 95 finished with value: 0.9666666666666667 and parameters: {'n_estimators': 13, 'max_depth': 29.677193947685996}. Best is trial 70 with value: 0.9733333333333333.\u001b[0m\n",
            "\u001b[32m[I 2022-03-07 16:39:59,630]\u001b[0m Trial 96 finished with value: 0.94 and parameters: {'n_estimators': 11, 'max_depth': 2.4407290936011106}. Best is trial 70 with value: 0.9733333333333333.\u001b[0m\n",
            "\u001b[32m[I 2022-03-07 16:39:59,904]\u001b[0m Trial 97 finished with value: 0.9533333333333333 and parameters: {'n_estimators': 20, 'max_depth': 7.644318777088376}. Best is trial 70 with value: 0.9733333333333333.\u001b[0m\n",
            "\u001b[32m[I 2022-03-07 16:40:00,092]\u001b[0m Trial 98 finished with value: 0.9466666666666667 and parameters: {'n_estimators': 18, 'max_depth': 5.938924959280456}. Best is trial 70 with value: 0.9733333333333333.\u001b[0m\n",
            "\u001b[32m[I 2022-03-07 16:40:00,197]\u001b[0m Trial 99 finished with value: 0.96 and parameters: {'n_estimators': 7, 'max_depth': 31.175916470392607}. Best is trial 70 with value: 0.9733333333333333.\u001b[0m\n"
          ]
        },
        {
          "output_type": "stream",
          "name": "stdout",
          "text": [
            "Accuracy: 0.9733333333333333\n",
            "Best hyperparameters: {'n_estimators': 15, 'max_depth': 3.0427512131209546}\n"
          ]
        }
      ],
      "source": [
        "import optuna\n",
        "\n",
        "def objective(trial):\n",
        "    iris = sklearn.datasets.load_iris()\n",
        "    \n",
        "    n_estimators = trial.suggest_int('n_estimators', 2, 20)\n",
        "    max_depth = int(trial.suggest_float('max_depth', 1, 32, log=True))\n",
        "    \n",
        "    clf = sklearn.ensemble.RandomForestClassifier(\n",
        "        n_estimators=n_estimators, max_depth=max_depth)\n",
        "    \n",
        "    return sklearn.model_selection.cross_val_score(\n",
        "        clf, iris.data, iris.target, n_jobs=-1, cv=3).mean()\n",
        "\n",
        "study = optuna.create_study(direction='maximize')\n",
        "study.optimize(objective, n_trials=100)\n",
        "\n",
        "trial = study.best_trial\n",
        "\n",
        "print('Accuracy: {}'.format(trial.value))\n",
        "print(\"Best hyperparameters: {}\".format(trial.params))"
      ]
    },
    {
      "cell_type": "markdown",
      "metadata": {
        "id": "LLX4V09TP5Ue"
      },
      "source": [
        "It is possible to condition hyperparameters using Python `if` statements. We can for instance include another classifier, a support vector machine, in our HPO and define hyperparameters specific to the random forest model and the support vector machine."
      ]
    },
    {
      "cell_type": "code",
      "execution_count": 5,
      "metadata": {
        "id": "xUDPLa3UP5Ue",
        "outputId": "11c88e14-2658-4a2f-b49b-e81d7dcd1f54",
        "colab": {
          "base_uri": "https://localhost:8080/"
        }
      },
      "outputs": [
        {
          "output_type": "stream",
          "name": "stderr",
          "text": [
            "\u001b[32m[I 2022-03-07 16:40:00,240]\u001b[0m A new study created in memory with name: no-name-2a6ec8d1-b142-45d4-bcb1-d1a85aea021d\u001b[0m\n",
            "\u001b[32m[I 2022-03-07 16:40:00,387]\u001b[0m Trial 0 finished with value: 0.9466666666666667 and parameters: {'classifier': 'RandomForest', 'n_estimators': 13, 'max_depth': 2.939823293227295}. Best is trial 0 with value: 0.9466666666666667.\u001b[0m\n",
            "\u001b[32m[I 2022-03-07 16:40:00,482]\u001b[0m Trial 1 finished with value: 0.96 and parameters: {'classifier': 'RandomForest', 'n_estimators': 7, 'max_depth': 28.309332064510258}. Best is trial 1 with value: 0.96.\u001b[0m\n",
            "\u001b[32m[I 2022-03-07 16:40:00,525]\u001b[0m Trial 2 finished with value: 0.96 and parameters: {'classifier': 'RandomForest', 'n_estimators': 3, 'max_depth': 5.199627155942958}. Best is trial 1 with value: 0.96.\u001b[0m\n",
            "\u001b[32m[I 2022-03-07 16:40:00,622]\u001b[0m Trial 3 finished with value: 0.84 and parameters: {'classifier': 'RandomForest', 'n_estimators': 9, 'max_depth': 1.6218908899178455}. Best is trial 1 with value: 0.96.\u001b[0m\n",
            "\u001b[32m[I 2022-03-07 16:40:00,802]\u001b[0m Trial 4 finished with value: 0.9533333333333333 and parameters: {'classifier': 'RandomForest', 'n_estimators': 14, 'max_depth': 7.485089904217698}. Best is trial 1 with value: 0.96.\u001b[0m\n",
            "\u001b[32m[I 2022-03-07 16:40:00,844]\u001b[0m Trial 5 finished with value: 0.9466666666666667 and parameters: {'classifier': 'RandomForest', 'n_estimators': 2, 'max_depth': 5.9648957991034655}. Best is trial 1 with value: 0.96.\u001b[0m\n",
            "\u001b[32m[I 2022-03-07 16:40:00,935]\u001b[0m Trial 6 finished with value: 0.94 and parameters: {'classifier': 'RandomForest', 'n_estimators': 3, 'max_depth': 2.844657898671838}. Best is trial 1 with value: 0.96.\u001b[0m\n",
            "\u001b[32m[I 2022-03-07 16:40:00,965]\u001b[0m Trial 7 finished with value: 0.32 and parameters: {'classifier': 'SVC', 'svc_c': 1.0243739155150661e-07}. Best is trial 1 with value: 0.96.\u001b[0m\n",
            "\u001b[32m[I 2022-03-07 16:40:01,061]\u001b[0m Trial 8 finished with value: 0.94 and parameters: {'classifier': 'RandomForest', 'n_estimators': 10, 'max_depth': 19.689086300077005}. Best is trial 1 with value: 0.96.\u001b[0m\n",
            "\u001b[32m[I 2022-03-07 16:40:01,102]\u001b[0m Trial 9 finished with value: 0.96 and parameters: {'classifier': 'SVC', 'svc_c': 2078.404167019341}. Best is trial 1 with value: 0.96.\u001b[0m\n",
            "\u001b[32m[I 2022-03-07 16:40:01,147]\u001b[0m Trial 10 finished with value: 0.96 and parameters: {'classifier': 'SVC', 'svc_c': 3276356745.095663}. Best is trial 1 with value: 0.96.\u001b[0m\n",
            "\u001b[32m[I 2022-03-07 16:40:01,324]\u001b[0m Trial 11 finished with value: 0.96 and parameters: {'classifier': 'RandomForest', 'n_estimators': 6, 'max_depth': 29.934337377108875}. Best is trial 1 with value: 0.96.\u001b[0m\n",
            "\u001b[32m[I 2022-03-07 16:40:01,552]\u001b[0m Trial 12 finished with value: 0.9466666666666667 and parameters: {'classifier': 'RandomForest', 'n_estimators': 20, 'max_depth': 11.963413141685324}. Best is trial 1 with value: 0.96.\u001b[0m\n",
            "\u001b[32m[I 2022-03-07 16:40:01,624]\u001b[0m Trial 13 finished with value: 0.96 and parameters: {'classifier': 'RandomForest', 'n_estimators': 6, 'max_depth': 11.775759715983527}. Best is trial 1 with value: 0.96.\u001b[0m\n",
            "\u001b[32m[I 2022-03-07 16:40:01,709]\u001b[0m Trial 14 finished with value: 0.96 and parameters: {'classifier': 'RandomForest', 'n_estimators': 6, 'max_depth': 3.651001025363981}. Best is trial 1 with value: 0.96.\u001b[0m\n",
            "\u001b[32m[I 2022-03-07 16:40:01,738]\u001b[0m Trial 15 finished with value: 0.32 and parameters: {'classifier': 'SVC', 'svc_c': 1.7983512165168756e-09}. Best is trial 1 with value: 0.96.\u001b[0m\n",
            "\u001b[32m[I 2022-03-07 16:40:01,802]\u001b[0m Trial 16 finished with value: 0.6666666666666666 and parameters: {'classifier': 'RandomForest', 'n_estimators': 4, 'max_depth': 1.1238003215366887}. Best is trial 1 with value: 0.96.\u001b[0m\n",
            "\u001b[32m[I 2022-03-07 16:40:01,937]\u001b[0m Trial 17 finished with value: 0.9666666666666667 and parameters: {'classifier': 'RandomForest', 'n_estimators': 9, 'max_depth': 10.260216332740162}. Best is trial 17 with value: 0.9666666666666667.\u001b[0m\n",
            "\u001b[32m[I 2022-03-07 16:40:01,973]\u001b[0m Trial 18 finished with value: 0.9666666666666667 and parameters: {'classifier': 'SVC', 'svc_c': 0.16789010153081152}. Best is trial 17 with value: 0.9666666666666667.\u001b[0m\n",
            "\u001b[32m[I 2022-03-07 16:40:02,016]\u001b[0m Trial 19 finished with value: 0.9666666666666667 and parameters: {'classifier': 'SVC', 'svc_c': 0.16163416452340468}. Best is trial 17 with value: 0.9666666666666667.\u001b[0m\n",
            "\u001b[32m[I 2022-03-07 16:40:02,053]\u001b[0m Trial 20 finished with value: 0.94 and parameters: {'classifier': 'SVC', 'svc_c': 0.0940561392723306}. Best is trial 17 with value: 0.9666666666666667.\u001b[0m\n",
            "\u001b[32m[I 2022-03-07 16:40:02,103]\u001b[0m Trial 21 finished with value: 0.9666666666666667 and parameters: {'classifier': 'SVC', 'svc_c': 1.3108525863787328}. Best is trial 17 with value: 0.9666666666666667.\u001b[0m\n",
            "\u001b[32m[I 2022-03-07 16:40:02,144]\u001b[0m Trial 22 finished with value: 0.9199999999999999 and parameters: {'classifier': 'SVC', 'svc_c': 0.05339261753990448}. Best is trial 17 with value: 0.9666666666666667.\u001b[0m\n",
            "\u001b[32m[I 2022-03-07 16:40:02,197]\u001b[0m Trial 23 finished with value: 0.32 and parameters: {'classifier': 'SVC', 'svc_c': 2.2752790929802506e-05}. Best is trial 17 with value: 0.9666666666666667.\u001b[0m\n",
            "\u001b[32m[I 2022-03-07 16:40:02,231]\u001b[0m Trial 24 finished with value: 0.9466666666666667 and parameters: {'classifier': 'SVC', 'svc_c': 269.32483236648403}. Best is trial 17 with value: 0.9666666666666667.\u001b[0m\n",
            "\u001b[32m[I 2022-03-07 16:40:02,274]\u001b[0m Trial 25 finished with value: 0.9666666666666667 and parameters: {'classifier': 'SVC', 'svc_c': 0.570097214712311}. Best is trial 17 with value: 0.9666666666666667.\u001b[0m\n",
            "\u001b[32m[I 2022-03-07 16:40:02,305]\u001b[0m Trial 26 finished with value: 0.96 and parameters: {'classifier': 'SVC', 'svc_c': 803.4974093953097}. Best is trial 17 with value: 0.9666666666666667.\u001b[0m\n",
            "\u001b[32m[I 2022-03-07 16:40:02,350]\u001b[0m Trial 27 finished with value: 0.32 and parameters: {'classifier': 'SVC', 'svc_c': 0.0004699577387888707}. Best is trial 17 with value: 0.9666666666666667.\u001b[0m\n",
            "\u001b[32m[I 2022-03-07 16:40:02,400]\u001b[0m Trial 28 finished with value: 0.96 and parameters: {'classifier': 'SVC', 'svc_c': 462960.13848274417}. Best is trial 17 with value: 0.9666666666666667.\u001b[0m\n",
            "\u001b[32m[I 2022-03-07 16:40:02,449]\u001b[0m Trial 29 finished with value: 0.9666666666666667 and parameters: {'classifier': 'SVC', 'svc_c': 17.217079280737213}. Best is trial 17 with value: 0.9666666666666667.\u001b[0m\n",
            "\u001b[32m[I 2022-03-07 16:40:02,489]\u001b[0m Trial 30 finished with value: 0.96 and parameters: {'classifier': 'SVC', 'svc_c': 50.95400903205373}. Best is trial 17 with value: 0.9666666666666667.\u001b[0m\n",
            "\u001b[32m[I 2022-03-07 16:40:02,552]\u001b[0m Trial 31 finished with value: 0.32 and parameters: {'classifier': 'SVC', 'svc_c': 0.0014485213501358005}. Best is trial 17 with value: 0.9666666666666667.\u001b[0m\n",
            "\u001b[32m[I 2022-03-07 16:40:02,603]\u001b[0m Trial 32 finished with value: 0.32 and parameters: {'classifier': 'SVC', 'svc_c': 4.842604188855029e-06}. Best is trial 17 with value: 0.9666666666666667.\u001b[0m\n",
            "\u001b[32m[I 2022-03-07 16:40:02,670]\u001b[0m Trial 33 finished with value: 0.96 and parameters: {'classifier': 'SVC', 'svc_c': 184778.40893205334}. Best is trial 17 with value: 0.9666666666666667.\u001b[0m\n",
            "\u001b[32m[I 2022-03-07 16:40:02,725]\u001b[0m Trial 34 finished with value: 0.9866666666666667 and parameters: {'classifier': 'SVC', 'svc_c': 3.6786412229375416}. Best is trial 34 with value: 0.9866666666666667.\u001b[0m\n",
            "\u001b[32m[I 2022-03-07 16:40:02,755]\u001b[0m Trial 35 finished with value: 0.98 and parameters: {'classifier': 'SVC', 'svc_c': 10.40529900200349}. Best is trial 34 with value: 0.9866666666666667.\u001b[0m\n",
            "\u001b[32m[I 2022-03-07 16:40:02,790]\u001b[0m Trial 36 finished with value: 0.98 and parameters: {'classifier': 'SVC', 'svc_c': 8.917342559182643}. Best is trial 34 with value: 0.9866666666666667.\u001b[0m\n",
            "\u001b[32m[I 2022-03-07 16:40:02,822]\u001b[0m Trial 37 finished with value: 0.96 and parameters: {'classifier': 'SVC', 'svc_c': 58547.13373907004}. Best is trial 34 with value: 0.9866666666666667.\u001b[0m\n",
            "\u001b[32m[I 2022-03-07 16:40:02,865]\u001b[0m Trial 38 finished with value: 0.32 and parameters: {'classifier': 'SVC', 'svc_c': 0.004748842579079147}. Best is trial 34 with value: 0.9866666666666667.\u001b[0m\n",
            "\u001b[32m[I 2022-03-07 16:40:02,896]\u001b[0m Trial 39 finished with value: 0.98 and parameters: {'classifier': 'SVC', 'svc_c': 5.823429953782348}. Best is trial 34 with value: 0.9866666666666667.\u001b[0m\n",
            "\u001b[32m[I 2022-03-07 16:40:02,955]\u001b[0m Trial 40 finished with value: 0.9733333333333333 and parameters: {'classifier': 'SVC', 'svc_c': 13.687792910197313}. Best is trial 34 with value: 0.9866666666666667.\u001b[0m\n",
            "\u001b[32m[I 2022-03-07 16:40:03,001]\u001b[0m Trial 41 finished with value: 0.98 and parameters: {'classifier': 'SVC', 'svc_c': 9.545533188514096}. Best is trial 34 with value: 0.9866666666666667.\u001b[0m\n",
            "\u001b[32m[I 2022-03-07 16:40:03,053]\u001b[0m Trial 42 finished with value: 0.96 and parameters: {'classifier': 'SVC', 'svc_c': 3302.538234736308}. Best is trial 34 with value: 0.9866666666666667.\u001b[0m\n",
            "\u001b[32m[I 2022-03-07 16:40:03,094]\u001b[0m Trial 43 finished with value: 0.98 and parameters: {'classifier': 'SVC', 'svc_c': 9.689829541571697}. Best is trial 34 with value: 0.9866666666666667.\u001b[0m\n",
            "\u001b[32m[I 2022-03-07 16:40:03,128]\u001b[0m Trial 44 finished with value: 0.9733333333333333 and parameters: {'classifier': 'SVC', 'svc_c': 2.4342312904085834}. Best is trial 34 with value: 0.9866666666666667.\u001b[0m\n",
            "\u001b[32m[I 2022-03-07 16:40:03,170]\u001b[0m Trial 45 finished with value: 0.96 and parameters: {'classifier': 'SVC', 'svc_c': 9740839.289755167}. Best is trial 34 with value: 0.9866666666666667.\u001b[0m\n",
            "\u001b[32m[I 2022-03-07 16:40:03,209]\u001b[0m Trial 46 finished with value: 0.96 and parameters: {'classifier': 'SVC', 'svc_c': 106.8129417064293}. Best is trial 34 with value: 0.9866666666666667.\u001b[0m\n",
            "\u001b[32m[I 2022-03-07 16:40:03,250]\u001b[0m Trial 47 finished with value: 0.32 and parameters: {'classifier': 'SVC', 'svc_c': 0.013315200762973873}. Best is trial 34 with value: 0.9866666666666667.\u001b[0m\n",
            "\u001b[32m[I 2022-03-07 16:40:03,329]\u001b[0m Trial 48 finished with value: 0.96 and parameters: {'classifier': 'SVC', 'svc_c': 1703.2485592260293}. Best is trial 34 with value: 0.9866666666666667.\u001b[0m\n",
            "\u001b[32m[I 2022-03-07 16:40:03,380]\u001b[0m Trial 49 finished with value: 0.96 and parameters: {'classifier': 'SVC', 'svc_c': 21845.31570696448}. Best is trial 34 with value: 0.9866666666666667.\u001b[0m\n",
            "\u001b[32m[I 2022-03-07 16:40:03,414]\u001b[0m Trial 50 finished with value: 0.9733333333333333 and parameters: {'classifier': 'SVC', 'svc_c': 1.8314704380323006}. Best is trial 34 with value: 0.9866666666666667.\u001b[0m\n",
            "\u001b[32m[I 2022-03-07 16:40:03,447]\u001b[0m Trial 51 finished with value: 0.98 and parameters: {'classifier': 'SVC', 'svc_c': 11.433184794604461}. Best is trial 34 with value: 0.9866666666666667.\u001b[0m\n",
            "\u001b[32m[I 2022-03-07 16:40:03,490]\u001b[0m Trial 52 finished with value: 0.96 and parameters: {'classifier': 'SVC', 'svc_c': 53.79789212356513}. Best is trial 34 with value: 0.9866666666666667.\u001b[0m\n",
            "\u001b[32m[I 2022-03-07 16:40:03,524]\u001b[0m Trial 53 finished with value: 0.9666666666666667 and parameters: {'classifier': 'SVC', 'svc_c': 0.8778585576441036}. Best is trial 34 with value: 0.9866666666666667.\u001b[0m\n",
            "\u001b[32m[I 2022-03-07 16:40:03,564]\u001b[0m Trial 54 finished with value: 0.96 and parameters: {'classifier': 'SVC', 'svc_c': 5466.6328299729985}. Best is trial 34 with value: 0.9866666666666667.\u001b[0m\n",
            "\u001b[32m[I 2022-03-07 16:40:03,791]\u001b[0m Trial 55 finished with value: 0.8666666666666667 and parameters: {'classifier': 'RandomForest', 'n_estimators': 19, 'max_depth': 1.6536725925314482}. Best is trial 34 with value: 0.9866666666666667.\u001b[0m\n",
            "\u001b[32m[I 2022-03-07 16:40:03,823]\u001b[0m Trial 56 finished with value: 0.8533333333333334 and parameters: {'classifier': 'SVC', 'svc_c': 0.039275822561720665}. Best is trial 34 with value: 0.9866666666666667.\u001b[0m\n",
            "\u001b[32m[I 2022-03-07 16:40:03,860]\u001b[0m Trial 57 finished with value: 0.98 and parameters: {'classifier': 'SVC', 'svc_c': 5.139756498070089}. Best is trial 34 with value: 0.9866666666666667.\u001b[0m\n",
            "\u001b[32m[I 2022-03-07 16:40:04,008]\u001b[0m Trial 58 finished with value: 0.9533333333333333 and parameters: {'classifier': 'RandomForest', 'n_estimators': 17, 'max_depth': 18.829114168642306}. Best is trial 34 with value: 0.9866666666666667.\u001b[0m\n",
            "\u001b[32m[I 2022-03-07 16:40:04,043]\u001b[0m Trial 59 finished with value: 0.96 and parameters: {'classifier': 'SVC', 'svc_c': 0.22982571133481827}. Best is trial 34 with value: 0.9866666666666667.\u001b[0m\n",
            "\u001b[32m[I 2022-03-07 16:40:04,082]\u001b[0m Trial 60 finished with value: 0.9466666666666667 and parameters: {'classifier': 'SVC', 'svc_c': 188.11244976675144}. Best is trial 34 with value: 0.9866666666666667.\u001b[0m\n",
            "\u001b[32m[I 2022-03-07 16:40:04,127]\u001b[0m Trial 61 finished with value: 0.98 and parameters: {'classifier': 'SVC', 'svc_c': 5.0958504026269225}. Best is trial 34 with value: 0.9866666666666667.\u001b[0m\n",
            "\u001b[32m[I 2022-03-07 16:40:04,170]\u001b[0m Trial 62 finished with value: 0.96 and parameters: {'classifier': 'SVC', 'svc_c': 0.26729841514416064}. Best is trial 34 with value: 0.9866666666666667.\u001b[0m\n",
            "\u001b[32m[I 2022-03-07 16:40:04,229]\u001b[0m Trial 63 finished with value: 0.32 and parameters: {'classifier': 'SVC', 'svc_c': 5.645230985039439e-10}. Best is trial 34 with value: 0.9866666666666667.\u001b[0m\n",
            "\u001b[32m[I 2022-03-07 16:40:04,259]\u001b[0m Trial 64 finished with value: 0.9733333333333333 and parameters: {'classifier': 'SVC', 'svc_c': 2.6358495705676868}. Best is trial 34 with value: 0.9866666666666667.\u001b[0m\n",
            "\u001b[32m[I 2022-03-07 16:40:04,304]\u001b[0m Trial 65 finished with value: 0.96 and parameters: {'classifier': 'SVC', 'svc_c': 141.64845698067128}. Best is trial 34 with value: 0.9866666666666667.\u001b[0m\n",
            "\u001b[32m[I 2022-03-07 16:40:04,385]\u001b[0m Trial 66 finished with value: 0.96 and parameters: {'classifier': 'SVC', 'svc_c': 631.6724857284271}. Best is trial 34 with value: 0.9866666666666667.\u001b[0m\n",
            "\u001b[32m[I 2022-03-07 16:40:04,600]\u001b[0m Trial 67 finished with value: 0.9466666666666667 and parameters: {'classifier': 'RandomForest', 'n_estimators': 16, 'max_depth': 1.1469801861381719}. Best is trial 34 with value: 0.9866666666666667.\u001b[0m\n",
            "\u001b[32m[I 2022-03-07 16:40:04,654]\u001b[0m Trial 68 finished with value: 0.9666666666666667 and parameters: {'classifier': 'SVC', 'svc_c': 23.399918234897406}. Best is trial 34 with value: 0.9866666666666667.\u001b[0m\n",
            "\u001b[32m[I 2022-03-07 16:40:04,703]\u001b[0m Trial 69 finished with value: 0.94 and parameters: {'classifier': 'SVC', 'svc_c': 0.06975565101646562}. Best is trial 34 with value: 0.9866666666666667.\u001b[0m\n",
            "\u001b[32m[I 2022-03-07 16:40:04,747]\u001b[0m Trial 70 finished with value: 0.32 and parameters: {'classifier': 'SVC', 'svc_c': 0.00010850943423093796}. Best is trial 34 with value: 0.9866666666666667.\u001b[0m\n",
            "\u001b[32m[I 2022-03-07 16:40:04,784]\u001b[0m Trial 71 finished with value: 0.98 and parameters: {'classifier': 'SVC', 'svc_c': 10.285451259524207}. Best is trial 34 with value: 0.9866666666666667.\u001b[0m\n",
            "\u001b[32m[I 2022-03-07 16:40:04,825]\u001b[0m Trial 72 finished with value: 0.9733333333333333 and parameters: {'classifier': 'SVC', 'svc_c': 2.1121779903037736}. Best is trial 34 with value: 0.9866666666666667.\u001b[0m\n",
            "\u001b[32m[I 2022-03-07 16:40:04,866]\u001b[0m Trial 73 finished with value: 0.98 and parameters: {'classifier': 'SVC', 'svc_c': 5.036631432714773}. Best is trial 34 with value: 0.9866666666666667.\u001b[0m\n",
            "\u001b[32m[I 2022-03-07 16:40:04,913]\u001b[0m Trial 74 finished with value: 0.9666666666666667 and parameters: {'classifier': 'SVC', 'svc_c': 0.48230517204038775}. Best is trial 34 with value: 0.9866666666666667.\u001b[0m\n",
            "\u001b[32m[I 2022-03-07 16:40:04,953]\u001b[0m Trial 75 finished with value: 0.7466666666666667 and parameters: {'classifier': 'SVC', 'svc_c': 0.023424619983614614}. Best is trial 34 with value: 0.9866666666666667.\u001b[0m\n",
            "\u001b[32m[I 2022-03-07 16:40:05,006]\u001b[0m Trial 76 finished with value: 0.96 and parameters: {'classifier': 'SVC', 'svc_c': 52.235964175457724}. Best is trial 34 with value: 0.9866666666666667.\u001b[0m\n",
            "\u001b[32m[I 2022-03-07 16:40:05,070]\u001b[0m Trial 77 finished with value: 0.32 and parameters: {'classifier': 'SVC', 'svc_c': 4.475029845794297e-08}. Best is trial 34 with value: 0.9866666666666667.\u001b[0m\n",
            "\u001b[32m[I 2022-03-07 16:40:05,126]\u001b[0m Trial 78 finished with value: 0.9466666666666667 and parameters: {'classifier': 'SVC', 'svc_c': 407.3141129788268}. Best is trial 34 with value: 0.9866666666666667.\u001b[0m\n",
            "\u001b[32m[I 2022-03-07 16:40:05,323]\u001b[0m Trial 79 finished with value: 0.9466666666666667 and parameters: {'classifier': 'RandomForest', 'n_estimators': 14, 'max_depth': 3.813447638653083}. Best is trial 34 with value: 0.9866666666666667.\u001b[0m\n",
            "\u001b[32m[I 2022-03-07 16:40:05,408]\u001b[0m Trial 80 finished with value: 0.98 and parameters: {'classifier': 'SVC', 'svc_c': 5.618465295130694}. Best is trial 34 with value: 0.9866666666666667.\u001b[0m\n",
            "\u001b[32m[I 2022-03-07 16:40:05,452]\u001b[0m Trial 81 finished with value: 0.98 and parameters: {'classifier': 'SVC', 'svc_c': 8.064613757239474}. Best is trial 34 with value: 0.9866666666666667.\u001b[0m\n",
            "\u001b[32m[I 2022-03-07 16:40:05,501]\u001b[0m Trial 82 finished with value: 0.9666666666666667 and parameters: {'classifier': 'SVC', 'svc_c': 0.6392621951517452}. Best is trial 34 with value: 0.9866666666666667.\u001b[0m\n",
            "\u001b[32m[I 2022-03-07 16:40:05,559]\u001b[0m Trial 83 finished with value: 0.9666666666666667 and parameters: {'classifier': 'SVC', 'svc_c': 17.20670063626673}. Best is trial 34 with value: 0.9866666666666667.\u001b[0m\n",
            "\u001b[32m[I 2022-03-07 16:40:05,604]\u001b[0m Trial 84 finished with value: 0.9533333333333333 and parameters: {'classifier': 'SVC', 'svc_c': 0.13354882787034728}. Best is trial 34 with value: 0.9866666666666667.\u001b[0m\n",
            "\u001b[32m[I 2022-03-07 16:40:05,667]\u001b[0m Trial 85 finished with value: 0.32 and parameters: {'classifier': 'SVC', 'svc_c': 0.003036967045752802}. Best is trial 34 with value: 0.9866666666666667.\u001b[0m\n",
            "\u001b[32m[I 2022-03-07 16:40:05,711]\u001b[0m Trial 86 finished with value: 0.9666666666666667 and parameters: {'classifier': 'SVC', 'svc_c': 28.967894779853445}. Best is trial 34 with value: 0.9866666666666667.\u001b[0m\n",
            "\u001b[32m[I 2022-03-07 16:40:05,766]\u001b[0m Trial 87 finished with value: 0.96 and parameters: {'classifier': 'SVC', 'svc_c': 135.80457738250007}. Best is trial 34 with value: 0.9866666666666667.\u001b[0m\n",
            "\u001b[32m[I 2022-03-07 16:40:05,811]\u001b[0m Trial 88 finished with value: 0.96 and parameters: {'classifier': 'SVC', 'svc_c': 935.3512211990713}. Best is trial 34 with value: 0.9866666666666667.\u001b[0m\n",
            "\u001b[32m[I 2022-03-07 16:40:05,862]\u001b[0m Trial 89 finished with value: 0.96 and parameters: {'classifier': 'SVC', 'svc_c': 10555.432787163641}. Best is trial 34 with value: 0.9866666666666667.\u001b[0m\n",
            "\u001b[32m[I 2022-03-07 16:40:05,897]\u001b[0m Trial 90 finished with value: 0.98 and parameters: {'classifier': 'SVC', 'svc_c': 5.387019194862412}. Best is trial 34 with value: 0.9866666666666667.\u001b[0m\n",
            "\u001b[32m[I 2022-03-07 16:40:05,965]\u001b[0m Trial 91 finished with value: 0.9666666666666667 and parameters: {'classifier': 'SVC', 'svc_c': 1.287683614082145}. Best is trial 34 with value: 0.9866666666666667.\u001b[0m\n",
            "\u001b[32m[I 2022-03-07 16:40:06,024]\u001b[0m Trial 92 finished with value: 0.98 and parameters: {'classifier': 'SVC', 'svc_c': 10.114265032262917}. Best is trial 34 with value: 0.9866666666666667.\u001b[0m\n",
            "\u001b[32m[I 2022-03-07 16:40:06,067]\u001b[0m Trial 93 finished with value: 0.9866666666666667 and parameters: {'classifier': 'SVC', 'svc_c': 4.597615721652852}. Best is trial 34 with value: 0.9866666666666667.\u001b[0m\n",
            "\u001b[32m[I 2022-03-07 16:40:06,098]\u001b[0m Trial 94 finished with value: 0.96 and parameters: {'classifier': 'SVC', 'svc_c': 51.48378490635253}. Best is trial 34 with value: 0.9866666666666667.\u001b[0m\n",
            "\u001b[32m[I 2022-03-07 16:40:06,138]\u001b[0m Trial 95 finished with value: 0.96 and parameters: {'classifier': 'SVC', 'svc_c': 887135344.4067688}. Best is trial 34 with value: 0.9866666666666667.\u001b[0m\n",
            "\u001b[32m[I 2022-03-07 16:40:06,211]\u001b[0m Trial 96 finished with value: 0.96 and parameters: {'classifier': 'SVC', 'svc_c': 0.4565648455823143}. Best is trial 34 with value: 0.9866666666666667.\u001b[0m\n",
            "\u001b[32m[I 2022-03-07 16:40:06,259]\u001b[0m Trial 97 finished with value: 0.98 and parameters: {'classifier': 'SVC', 'svc_c': 10.002643977050692}. Best is trial 34 with value: 0.9866666666666667.\u001b[0m\n",
            "\u001b[32m[I 2022-03-07 16:40:06,466]\u001b[0m Trial 98 finished with value: 0.94 and parameters: {'classifier': 'RandomForest', 'n_estimators': 11, 'max_depth': 2.150033971405068}. Best is trial 34 with value: 0.9866666666666667.\u001b[0m\n",
            "\u001b[32m[I 2022-03-07 16:40:06,536]\u001b[0m Trial 99 finished with value: 0.9666666666666667 and parameters: {'classifier': 'SVC', 'svc_c': 1.5374711288758585}. Best is trial 34 with value: 0.9866666666666667.\u001b[0m\n"
          ]
        },
        {
          "output_type": "stream",
          "name": "stdout",
          "text": [
            "Accuracy: 0.9866666666666667\n",
            "Best hyperparameters: {'classifier': 'SVC', 'svc_c': 3.6786412229375416}\n"
          ]
        }
      ],
      "source": [
        "import sklearn.svm\n",
        "\n",
        "def objective(trial):\n",
        "    iris = sklearn.datasets.load_iris()\n",
        "\n",
        "    classifier = trial.suggest_categorical('classifier', ['RandomForest', 'SVC'])\n",
        "    \n",
        "    if classifier == 'RandomForest':\n",
        "        n_estimators = trial.suggest_int('n_estimators', 2, 20)\n",
        "        max_depth = int(trial.suggest_float('max_depth', 1, 32, log=True))\n",
        "\n",
        "        clf = sklearn.ensemble.RandomForestClassifier(\n",
        "            n_estimators=n_estimators, max_depth=max_depth)\n",
        "    else:\n",
        "        c = trial.suggest_float('svc_c', 1e-10, 1e10, log=True)\n",
        "        \n",
        "        clf = sklearn.svm.SVC(C=c, gamma='auto')\n",
        "\n",
        "    return sklearn.model_selection.cross_val_score(\n",
        "        clf, iris.data, iris.target, n_jobs=-1, cv=3).mean()\n",
        "\n",
        "study = optuna.create_study(direction='maximize')\n",
        "study.optimize(objective, n_trials=100)\n",
        "\n",
        "trial = study.best_trial\n",
        "\n",
        "print('Accuracy: {}'.format(trial.value))\n",
        "print(\"Best hyperparameters: {}\".format(trial.params))"
      ]
    },
    {
      "cell_type": "markdown",
      "metadata": {
        "id": "ED7JfXYfP5Uf"
      },
      "source": [
        "### Plotting the study\n",
        "\n",
        "Plotting the optimization history of the study."
      ]
    },
    {
      "cell_type": "code",
      "execution_count": 6,
      "metadata": {
        "id": "fCZ9-JqBP5Uf",
        "outputId": "35b32b33-9e88-44af-fafe-13d714de8665",
        "colab": {
          "base_uri": "https://localhost:8080/",
          "height": 542
        }
      },
      "outputs": [
        {
          "output_type": "display_data",
          "data": {
            "text/html": [
              "<html>\n",
              "<head><meta charset=\"utf-8\" /></head>\n",
              "<body>\n",
              "    <div>            <script src=\"https://cdnjs.cloudflare.com/ajax/libs/mathjax/2.7.5/MathJax.js?config=TeX-AMS-MML_SVG\"></script><script type=\"text/javascript\">if (window.MathJax) {MathJax.Hub.Config({SVG: {font: \"STIX-Web\"}});}</script>                <script type=\"text/javascript\">window.PlotlyConfig = {MathJaxConfig: 'local'};</script>\n",
              "        <script src=\"https://cdn.plot.ly/plotly-2.8.3.min.js\"></script>                <div id=\"20b5c1c3-3996-4fed-9a7d-61f36afce70d\" class=\"plotly-graph-div\" style=\"height:525px; width:100%;\"></div>            <script type=\"text/javascript\">                                    window.PLOTLYENV=window.PLOTLYENV || {};                                    if (document.getElementById(\"20b5c1c3-3996-4fed-9a7d-61f36afce70d\")) {                    Plotly.newPlot(                        \"20b5c1c3-3996-4fed-9a7d-61f36afce70d\",                        [{\"mode\":\"markers\",\"name\":\"Objective Value\",\"x\":[0,1,2,3,4,5,6,7,8,9,10,11,12,13,14,15,16,17,18,19,20,21,22,23,24,25,26,27,28,29,30,31,32,33,34,35,36,37,38,39,40,41,42,43,44,45,46,47,48,49,50,51,52,53,54,55,56,57,58,59,60,61,62,63,64,65,66,67,68,69,70,71,72,73,74,75,76,77,78,79,80,81,82,83,84,85,86,87,88,89,90,91,92,93,94,95,96,97,98,99],\"y\":[0.9466666666666667,0.96,0.96,0.84,0.9533333333333333,0.9466666666666667,0.94,0.32,0.94,0.96,0.96,0.96,0.9466666666666667,0.96,0.96,0.32,0.6666666666666666,0.9666666666666667,0.9666666666666667,0.9666666666666667,0.94,0.9666666666666667,0.9199999999999999,0.32,0.9466666666666667,0.9666666666666667,0.96,0.32,0.96,0.9666666666666667,0.96,0.32,0.32,0.96,0.9866666666666667,0.98,0.98,0.96,0.32,0.98,0.9733333333333333,0.98,0.96,0.98,0.9733333333333333,0.96,0.96,0.32,0.96,0.96,0.9733333333333333,0.98,0.96,0.9666666666666667,0.96,0.8666666666666667,0.8533333333333334,0.98,0.9533333333333333,0.96,0.9466666666666667,0.98,0.96,0.32,0.9733333333333333,0.96,0.96,0.9466666666666667,0.9666666666666667,0.94,0.32,0.98,0.9733333333333333,0.98,0.9666666666666667,0.7466666666666667,0.96,0.32,0.9466666666666667,0.9466666666666667,0.98,0.98,0.9666666666666667,0.9666666666666667,0.9533333333333333,0.32,0.9666666666666667,0.96,0.96,0.96,0.98,0.9666666666666667,0.98,0.9866666666666667,0.96,0.96,0.96,0.98,0.94,0.9666666666666667],\"type\":\"scatter\"},{\"name\":\"Best Value\",\"x\":[0,1,2,3,4,5,6,7,8,9,10,11,12,13,14,15,16,17,18,19,20,21,22,23,24,25,26,27,28,29,30,31,32,33,34,35,36,37,38,39,40,41,42,43,44,45,46,47,48,49,50,51,52,53,54,55,56,57,58,59,60,61,62,63,64,65,66,67,68,69,70,71,72,73,74,75,76,77,78,79,80,81,82,83,84,85,86,87,88,89,90,91,92,93,94,95,96,97,98,99],\"y\":[0.9466666666666667,0.96,0.96,0.96,0.96,0.96,0.96,0.96,0.96,0.96,0.96,0.96,0.96,0.96,0.96,0.96,0.96,0.9666666666666667,0.9666666666666667,0.9666666666666667,0.9666666666666667,0.9666666666666667,0.9666666666666667,0.9666666666666667,0.9666666666666667,0.9666666666666667,0.9666666666666667,0.9666666666666667,0.9666666666666667,0.9666666666666667,0.9666666666666667,0.9666666666666667,0.9666666666666667,0.9666666666666667,0.9866666666666667,0.9866666666666667,0.9866666666666667,0.9866666666666667,0.9866666666666667,0.9866666666666667,0.9866666666666667,0.9866666666666667,0.9866666666666667,0.9866666666666667,0.9866666666666667,0.9866666666666667,0.9866666666666667,0.9866666666666667,0.9866666666666667,0.9866666666666667,0.9866666666666667,0.9866666666666667,0.9866666666666667,0.9866666666666667,0.9866666666666667,0.9866666666666667,0.9866666666666667,0.9866666666666667,0.9866666666666667,0.9866666666666667,0.9866666666666667,0.9866666666666667,0.9866666666666667,0.9866666666666667,0.9866666666666667,0.9866666666666667,0.9866666666666667,0.9866666666666667,0.9866666666666667,0.9866666666666667,0.9866666666666667,0.9866666666666667,0.9866666666666667,0.9866666666666667,0.9866666666666667,0.9866666666666667,0.9866666666666667,0.9866666666666667,0.9866666666666667,0.9866666666666667,0.9866666666666667,0.9866666666666667,0.9866666666666667,0.9866666666666667,0.9866666666666667,0.9866666666666667,0.9866666666666667,0.9866666666666667,0.9866666666666667,0.9866666666666667,0.9866666666666667,0.9866666666666667,0.9866666666666667,0.9866666666666667,0.9866666666666667,0.9866666666666667,0.9866666666666667,0.9866666666666667,0.9866666666666667,0.9866666666666667],\"type\":\"scatter\"}],                        {\"title\":{\"text\":\"Optimization History Plot\"},\"xaxis\":{\"title\":{\"text\":\"#Trials\"}},\"yaxis\":{\"title\":{\"text\":\"Objective Value\"}},\"template\":{\"data\":{\"bar\":[{\"error_x\":{\"color\":\"#2a3f5f\"},\"error_y\":{\"color\":\"#2a3f5f\"},\"marker\":{\"line\":{\"color\":\"#E5ECF6\",\"width\":0.5},\"pattern\":{\"fillmode\":\"overlay\",\"size\":10,\"solidity\":0.2}},\"type\":\"bar\"}],\"barpolar\":[{\"marker\":{\"line\":{\"color\":\"#E5ECF6\",\"width\":0.5},\"pattern\":{\"fillmode\":\"overlay\",\"size\":10,\"solidity\":0.2}},\"type\":\"barpolar\"}],\"carpet\":[{\"aaxis\":{\"endlinecolor\":\"#2a3f5f\",\"gridcolor\":\"white\",\"linecolor\":\"white\",\"minorgridcolor\":\"white\",\"startlinecolor\":\"#2a3f5f\"},\"baxis\":{\"endlinecolor\":\"#2a3f5f\",\"gridcolor\":\"white\",\"linecolor\":\"white\",\"minorgridcolor\":\"white\",\"startlinecolor\":\"#2a3f5f\"},\"type\":\"carpet\"}],\"choropleth\":[{\"colorbar\":{\"outlinewidth\":0,\"ticks\":\"\"},\"type\":\"choropleth\"}],\"contour\":[{\"colorbar\":{\"outlinewidth\":0,\"ticks\":\"\"},\"colorscale\":[[0.0,\"#0d0887\"],[0.1111111111111111,\"#46039f\"],[0.2222222222222222,\"#7201a8\"],[0.3333333333333333,\"#9c179e\"],[0.4444444444444444,\"#bd3786\"],[0.5555555555555556,\"#d8576b\"],[0.6666666666666666,\"#ed7953\"],[0.7777777777777778,\"#fb9f3a\"],[0.8888888888888888,\"#fdca26\"],[1.0,\"#f0f921\"]],\"type\":\"contour\"}],\"contourcarpet\":[{\"colorbar\":{\"outlinewidth\":0,\"ticks\":\"\"},\"type\":\"contourcarpet\"}],\"heatmap\":[{\"colorbar\":{\"outlinewidth\":0,\"ticks\":\"\"},\"colorscale\":[[0.0,\"#0d0887\"],[0.1111111111111111,\"#46039f\"],[0.2222222222222222,\"#7201a8\"],[0.3333333333333333,\"#9c179e\"],[0.4444444444444444,\"#bd3786\"],[0.5555555555555556,\"#d8576b\"],[0.6666666666666666,\"#ed7953\"],[0.7777777777777778,\"#fb9f3a\"],[0.8888888888888888,\"#fdca26\"],[1.0,\"#f0f921\"]],\"type\":\"heatmap\"}],\"heatmapgl\":[{\"colorbar\":{\"outlinewidth\":0,\"ticks\":\"\"},\"colorscale\":[[0.0,\"#0d0887\"],[0.1111111111111111,\"#46039f\"],[0.2222222222222222,\"#7201a8\"],[0.3333333333333333,\"#9c179e\"],[0.4444444444444444,\"#bd3786\"],[0.5555555555555556,\"#d8576b\"],[0.6666666666666666,\"#ed7953\"],[0.7777777777777778,\"#fb9f3a\"],[0.8888888888888888,\"#fdca26\"],[1.0,\"#f0f921\"]],\"type\":\"heatmapgl\"}],\"histogram\":[{\"marker\":{\"pattern\":{\"fillmode\":\"overlay\",\"size\":10,\"solidity\":0.2}},\"type\":\"histogram\"}],\"histogram2d\":[{\"colorbar\":{\"outlinewidth\":0,\"ticks\":\"\"},\"colorscale\":[[0.0,\"#0d0887\"],[0.1111111111111111,\"#46039f\"],[0.2222222222222222,\"#7201a8\"],[0.3333333333333333,\"#9c179e\"],[0.4444444444444444,\"#bd3786\"],[0.5555555555555556,\"#d8576b\"],[0.6666666666666666,\"#ed7953\"],[0.7777777777777778,\"#fb9f3a\"],[0.8888888888888888,\"#fdca26\"],[1.0,\"#f0f921\"]],\"type\":\"histogram2d\"}],\"histogram2dcontour\":[{\"colorbar\":{\"outlinewidth\":0,\"ticks\":\"\"},\"colorscale\":[[0.0,\"#0d0887\"],[0.1111111111111111,\"#46039f\"],[0.2222222222222222,\"#7201a8\"],[0.3333333333333333,\"#9c179e\"],[0.4444444444444444,\"#bd3786\"],[0.5555555555555556,\"#d8576b\"],[0.6666666666666666,\"#ed7953\"],[0.7777777777777778,\"#fb9f3a\"],[0.8888888888888888,\"#fdca26\"],[1.0,\"#f0f921\"]],\"type\":\"histogram2dcontour\"}],\"mesh3d\":[{\"colorbar\":{\"outlinewidth\":0,\"ticks\":\"\"},\"type\":\"mesh3d\"}],\"parcoords\":[{\"line\":{\"colorbar\":{\"outlinewidth\":0,\"ticks\":\"\"}},\"type\":\"parcoords\"}],\"pie\":[{\"automargin\":true,\"type\":\"pie\"}],\"scatter\":[{\"marker\":{\"colorbar\":{\"outlinewidth\":0,\"ticks\":\"\"}},\"type\":\"scatter\"}],\"scatter3d\":[{\"line\":{\"colorbar\":{\"outlinewidth\":0,\"ticks\":\"\"}},\"marker\":{\"colorbar\":{\"outlinewidth\":0,\"ticks\":\"\"}},\"type\":\"scatter3d\"}],\"scattercarpet\":[{\"marker\":{\"colorbar\":{\"outlinewidth\":0,\"ticks\":\"\"}},\"type\":\"scattercarpet\"}],\"scattergeo\":[{\"marker\":{\"colorbar\":{\"outlinewidth\":0,\"ticks\":\"\"}},\"type\":\"scattergeo\"}],\"scattergl\":[{\"marker\":{\"colorbar\":{\"outlinewidth\":0,\"ticks\":\"\"}},\"type\":\"scattergl\"}],\"scattermapbox\":[{\"marker\":{\"colorbar\":{\"outlinewidth\":0,\"ticks\":\"\"}},\"type\":\"scattermapbox\"}],\"scatterpolar\":[{\"marker\":{\"colorbar\":{\"outlinewidth\":0,\"ticks\":\"\"}},\"type\":\"scatterpolar\"}],\"scatterpolargl\":[{\"marker\":{\"colorbar\":{\"outlinewidth\":0,\"ticks\":\"\"}},\"type\":\"scatterpolargl\"}],\"scatterternary\":[{\"marker\":{\"colorbar\":{\"outlinewidth\":0,\"ticks\":\"\"}},\"type\":\"scatterternary\"}],\"surface\":[{\"colorbar\":{\"outlinewidth\":0,\"ticks\":\"\"},\"colorscale\":[[0.0,\"#0d0887\"],[0.1111111111111111,\"#46039f\"],[0.2222222222222222,\"#7201a8\"],[0.3333333333333333,\"#9c179e\"],[0.4444444444444444,\"#bd3786\"],[0.5555555555555556,\"#d8576b\"],[0.6666666666666666,\"#ed7953\"],[0.7777777777777778,\"#fb9f3a\"],[0.8888888888888888,\"#fdca26\"],[1.0,\"#f0f921\"]],\"type\":\"surface\"}],\"table\":[{\"cells\":{\"fill\":{\"color\":\"#EBF0F8\"},\"line\":{\"color\":\"white\"}},\"header\":{\"fill\":{\"color\":\"#C8D4E3\"},\"line\":{\"color\":\"white\"}},\"type\":\"table\"}]},\"layout\":{\"annotationdefaults\":{\"arrowcolor\":\"#2a3f5f\",\"arrowhead\":0,\"arrowwidth\":1},\"autotypenumbers\":\"strict\",\"coloraxis\":{\"colorbar\":{\"outlinewidth\":0,\"ticks\":\"\"}},\"colorscale\":{\"diverging\":[[0,\"#8e0152\"],[0.1,\"#c51b7d\"],[0.2,\"#de77ae\"],[0.3,\"#f1b6da\"],[0.4,\"#fde0ef\"],[0.5,\"#f7f7f7\"],[0.6,\"#e6f5d0\"],[0.7,\"#b8e186\"],[0.8,\"#7fbc41\"],[0.9,\"#4d9221\"],[1,\"#276419\"]],\"sequential\":[[0.0,\"#0d0887\"],[0.1111111111111111,\"#46039f\"],[0.2222222222222222,\"#7201a8\"],[0.3333333333333333,\"#9c179e\"],[0.4444444444444444,\"#bd3786\"],[0.5555555555555556,\"#d8576b\"],[0.6666666666666666,\"#ed7953\"],[0.7777777777777778,\"#fb9f3a\"],[0.8888888888888888,\"#fdca26\"],[1.0,\"#f0f921\"]],\"sequentialminus\":[[0.0,\"#0d0887\"],[0.1111111111111111,\"#46039f\"],[0.2222222222222222,\"#7201a8\"],[0.3333333333333333,\"#9c179e\"],[0.4444444444444444,\"#bd3786\"],[0.5555555555555556,\"#d8576b\"],[0.6666666666666666,\"#ed7953\"],[0.7777777777777778,\"#fb9f3a\"],[0.8888888888888888,\"#fdca26\"],[1.0,\"#f0f921\"]]},\"colorway\":[\"#636efa\",\"#EF553B\",\"#00cc96\",\"#ab63fa\",\"#FFA15A\",\"#19d3f3\",\"#FF6692\",\"#B6E880\",\"#FF97FF\",\"#FECB52\"],\"font\":{\"color\":\"#2a3f5f\"},\"geo\":{\"bgcolor\":\"white\",\"lakecolor\":\"white\",\"landcolor\":\"#E5ECF6\",\"showlakes\":true,\"showland\":true,\"subunitcolor\":\"white\"},\"hoverlabel\":{\"align\":\"left\"},\"hovermode\":\"closest\",\"mapbox\":{\"style\":\"light\"},\"paper_bgcolor\":\"white\",\"plot_bgcolor\":\"#E5ECF6\",\"polar\":{\"angularaxis\":{\"gridcolor\":\"white\",\"linecolor\":\"white\",\"ticks\":\"\"},\"bgcolor\":\"#E5ECF6\",\"radialaxis\":{\"gridcolor\":\"white\",\"linecolor\":\"white\",\"ticks\":\"\"}},\"scene\":{\"xaxis\":{\"backgroundcolor\":\"#E5ECF6\",\"gridcolor\":\"white\",\"gridwidth\":2,\"linecolor\":\"white\",\"showbackground\":true,\"ticks\":\"\",\"zerolinecolor\":\"white\"},\"yaxis\":{\"backgroundcolor\":\"#E5ECF6\",\"gridcolor\":\"white\",\"gridwidth\":2,\"linecolor\":\"white\",\"showbackground\":true,\"ticks\":\"\",\"zerolinecolor\":\"white\"},\"zaxis\":{\"backgroundcolor\":\"#E5ECF6\",\"gridcolor\":\"white\",\"gridwidth\":2,\"linecolor\":\"white\",\"showbackground\":true,\"ticks\":\"\",\"zerolinecolor\":\"white\"}},\"shapedefaults\":{\"line\":{\"color\":\"#2a3f5f\"}},\"ternary\":{\"aaxis\":{\"gridcolor\":\"white\",\"linecolor\":\"white\",\"ticks\":\"\"},\"baxis\":{\"gridcolor\":\"white\",\"linecolor\":\"white\",\"ticks\":\"\"},\"bgcolor\":\"#E5ECF6\",\"caxis\":{\"gridcolor\":\"white\",\"linecolor\":\"white\",\"ticks\":\"\"}},\"title\":{\"x\":0.05},\"xaxis\":{\"automargin\":true,\"gridcolor\":\"white\",\"linecolor\":\"white\",\"ticks\":\"\",\"title\":{\"standoff\":15},\"zerolinecolor\":\"white\",\"zerolinewidth\":2},\"yaxis\":{\"automargin\":true,\"gridcolor\":\"white\",\"linecolor\":\"white\",\"ticks\":\"\",\"title\":{\"standoff\":15},\"zerolinecolor\":\"white\",\"zerolinewidth\":2}}}},                        {\"responsive\": true}                    ).then(function(){\n",
              "                            \n",
              "var gd = document.getElementById('20b5c1c3-3996-4fed-9a7d-61f36afce70d');\n",
              "var x = new MutationObserver(function (mutations, observer) {{\n",
              "        var display = window.getComputedStyle(gd).display;\n",
              "        if (!display || display === 'none') {{\n",
              "            console.log([gd, 'removed!']);\n",
              "            Plotly.purge(gd);\n",
              "            observer.disconnect();\n",
              "        }}\n",
              "}});\n",
              "\n",
              "// Listen for the removal of the full notebook cells\n",
              "var notebookContainer = gd.closest('#notebook-container');\n",
              "if (notebookContainer) {{\n",
              "    x.observe(notebookContainer, {childList: true});\n",
              "}}\n",
              "\n",
              "// Listen for the clearing of the current output cell\n",
              "var outputEl = gd.closest('.output');\n",
              "if (outputEl) {{\n",
              "    x.observe(outputEl, {childList: true});\n",
              "}}\n",
              "\n",
              "                        })                };                            </script>        </div>\n",
              "</body>\n",
              "</html>"
            ]
          },
          "metadata": {}
        }
      ],
      "source": [
        "optuna.visualization.plot_optimization_history(study)"
      ]
    },
    {
      "cell_type": "markdown",
      "metadata": {
        "id": "MFb9xdqAP5Ug"
      },
      "source": [
        "Plotting the accuracies for each hyperparameter for each trial."
      ]
    },
    {
      "cell_type": "code",
      "execution_count": 7,
      "metadata": {
        "id": "WAiBFXSUP5Ug",
        "outputId": "13efc0da-d8c0-479c-e94f-1dbf511884e1",
        "colab": {
          "base_uri": "https://localhost:8080/",
          "height": 542
        }
      },
      "outputs": [
        {
          "output_type": "display_data",
          "data": {
            "text/html": [
              "<html>\n",
              "<head><meta charset=\"utf-8\" /></head>\n",
              "<body>\n",
              "    <div>            <script src=\"https://cdnjs.cloudflare.com/ajax/libs/mathjax/2.7.5/MathJax.js?config=TeX-AMS-MML_SVG\"></script><script type=\"text/javascript\">if (window.MathJax) {MathJax.Hub.Config({SVG: {font: \"STIX-Web\"}});}</script>                <script type=\"text/javascript\">window.PlotlyConfig = {MathJaxConfig: 'local'};</script>\n",
              "        <script src=\"https://cdn.plot.ly/plotly-2.8.3.min.js\"></script>                <div id=\"ef7f44f9-ab09-4be1-9add-d99a221f9beb\" class=\"plotly-graph-div\" style=\"height:525px; width:1200px;\"></div>            <script type=\"text/javascript\">                                    window.PLOTLYENV=window.PLOTLYENV || {};                                    if (document.getElementById(\"ef7f44f9-ab09-4be1-9add-d99a221f9beb\")) {                    Plotly.newPlot(                        \"ef7f44f9-ab09-4be1-9add-d99a221f9beb\",                        [{\"marker\":{\"color\":[0,1,2,3,4,5,6,7,8,9,10,11,12,13,14,15,16,17,18,19,20,21,22,23,24,25,26,27,28,29,30,31,32,33,34,35,36,37,38,39,40,41,42,43,44,45,46,47,48,49,50,51,52,53,54,55,56,57,58,59,60,61,62,63,64,65,66,67,68,69,70,71,72,73,74,75,76,77,78,79,80,81,82,83,84,85,86,87,88,89,90,91,92,93,94,95,96,97,98,99],\"colorbar\":{\"title\":{\"text\":\"#Trials\"},\"x\":1.0,\"xpad\":40},\"colorscale\":[[0.0,\"rgb(247,251,255)\"],[0.125,\"rgb(222,235,247)\"],[0.25,\"rgb(198,219,239)\"],[0.375,\"rgb(158,202,225)\"],[0.5,\"rgb(107,174,214)\"],[0.625,\"rgb(66,146,198)\"],[0.75,\"rgb(33,113,181)\"],[0.875,\"rgb(8,81,156)\"],[1.0,\"rgb(8,48,107)\"]],\"line\":{\"color\":\"Grey\",\"width\":0.5},\"showscale\":true},\"mode\":\"markers\",\"showlegend\":false,\"x\":[\"RandomForest\",\"RandomForest\",\"RandomForest\",\"RandomForest\",\"RandomForest\",\"RandomForest\",\"RandomForest\",\"SVC\",\"RandomForest\",\"SVC\",\"SVC\",\"RandomForest\",\"RandomForest\",\"RandomForest\",\"RandomForest\",\"SVC\",\"RandomForest\",\"RandomForest\",\"SVC\",\"SVC\",\"SVC\",\"SVC\",\"SVC\",\"SVC\",\"SVC\",\"SVC\",\"SVC\",\"SVC\",\"SVC\",\"SVC\",\"SVC\",\"SVC\",\"SVC\",\"SVC\",\"SVC\",\"SVC\",\"SVC\",\"SVC\",\"SVC\",\"SVC\",\"SVC\",\"SVC\",\"SVC\",\"SVC\",\"SVC\",\"SVC\",\"SVC\",\"SVC\",\"SVC\",\"SVC\",\"SVC\",\"SVC\",\"SVC\",\"SVC\",\"SVC\",\"RandomForest\",\"SVC\",\"SVC\",\"RandomForest\",\"SVC\",\"SVC\",\"SVC\",\"SVC\",\"SVC\",\"SVC\",\"SVC\",\"SVC\",\"RandomForest\",\"SVC\",\"SVC\",\"SVC\",\"SVC\",\"SVC\",\"SVC\",\"SVC\",\"SVC\",\"SVC\",\"SVC\",\"SVC\",\"RandomForest\",\"SVC\",\"SVC\",\"SVC\",\"SVC\",\"SVC\",\"SVC\",\"SVC\",\"SVC\",\"SVC\",\"SVC\",\"SVC\",\"SVC\",\"SVC\",\"SVC\",\"SVC\",\"SVC\",\"SVC\",\"SVC\",\"RandomForest\",\"SVC\"],\"y\":[0.9466666666666667,0.96,0.96,0.84,0.9533333333333333,0.9466666666666667,0.94,0.32,0.94,0.96,0.96,0.96,0.9466666666666667,0.96,0.96,0.32,0.6666666666666666,0.9666666666666667,0.9666666666666667,0.9666666666666667,0.94,0.9666666666666667,0.9199999999999999,0.32,0.9466666666666667,0.9666666666666667,0.96,0.32,0.96,0.9666666666666667,0.96,0.32,0.32,0.96,0.9866666666666667,0.98,0.98,0.96,0.32,0.98,0.9733333333333333,0.98,0.96,0.98,0.9733333333333333,0.96,0.96,0.32,0.96,0.96,0.9733333333333333,0.98,0.96,0.9666666666666667,0.96,0.8666666666666667,0.8533333333333334,0.98,0.9533333333333333,0.96,0.9466666666666667,0.98,0.96,0.32,0.9733333333333333,0.96,0.96,0.9466666666666667,0.9666666666666667,0.94,0.32,0.98,0.9733333333333333,0.98,0.9666666666666667,0.7466666666666667,0.96,0.32,0.9466666666666667,0.9466666666666667,0.98,0.98,0.9666666666666667,0.9666666666666667,0.9533333333333333,0.32,0.9666666666666667,0.96,0.96,0.96,0.98,0.9666666666666667,0.98,0.9866666666666667,0.96,0.96,0.96,0.98,0.94,0.9666666666666667],\"type\":\"scatter\",\"xaxis\":\"x\",\"yaxis\":\"y\"},{\"marker\":{\"color\":[0,1,2,3,4,5,6,8,11,12,13,14,16,17,55,58,67,79,98],\"colorbar\":{\"title\":{\"text\":\"#Trials\"},\"x\":1.0,\"xpad\":40},\"colorscale\":[[0.0,\"rgb(247,251,255)\"],[0.125,\"rgb(222,235,247)\"],[0.25,\"rgb(198,219,239)\"],[0.375,\"rgb(158,202,225)\"],[0.5,\"rgb(107,174,214)\"],[0.625,\"rgb(66,146,198)\"],[0.75,\"rgb(33,113,181)\"],[0.875,\"rgb(8,81,156)\"],[1.0,\"rgb(8,48,107)\"]],\"line\":{\"color\":\"Grey\",\"width\":0.5},\"showscale\":false},\"mode\":\"markers\",\"showlegend\":false,\"x\":[2.939823293227295,28.309332064510258,5.199627155942958,1.6218908899178455,7.485089904217698,5.9648957991034655,2.844657898671838,19.689086300077005,29.934337377108875,11.963413141685324,11.775759715983527,3.651001025363981,1.1238003215366887,10.260216332740162,1.6536725925314482,18.829114168642306,1.1469801861381719,3.813447638653083,2.150033971405068],\"y\":[0.9466666666666667,0.96,0.96,0.84,0.9533333333333333,0.9466666666666667,0.94,0.94,0.96,0.9466666666666667,0.96,0.96,0.6666666666666666,0.9666666666666667,0.8666666666666667,0.9533333333333333,0.9466666666666667,0.9466666666666667,0.94],\"type\":\"scatter\",\"xaxis\":\"x2\",\"yaxis\":\"y2\"},{\"marker\":{\"color\":[0,1,2,3,4,5,6,8,11,12,13,14,16,17,55,58,67,79,98],\"colorbar\":{\"title\":{\"text\":\"#Trials\"},\"x\":1.0,\"xpad\":40},\"colorscale\":[[0.0,\"rgb(247,251,255)\"],[0.125,\"rgb(222,235,247)\"],[0.25,\"rgb(198,219,239)\"],[0.375,\"rgb(158,202,225)\"],[0.5,\"rgb(107,174,214)\"],[0.625,\"rgb(66,146,198)\"],[0.75,\"rgb(33,113,181)\"],[0.875,\"rgb(8,81,156)\"],[1.0,\"rgb(8,48,107)\"]],\"line\":{\"color\":\"Grey\",\"width\":0.5},\"showscale\":false},\"mode\":\"markers\",\"showlegend\":false,\"x\":[13,7,3,9,14,2,3,10,6,20,6,6,4,9,19,17,16,14,11],\"y\":[0.9466666666666667,0.96,0.96,0.84,0.9533333333333333,0.9466666666666667,0.94,0.94,0.96,0.9466666666666667,0.96,0.96,0.6666666666666666,0.9666666666666667,0.8666666666666667,0.9533333333333333,0.9466666666666667,0.9466666666666667,0.94],\"type\":\"scatter\",\"xaxis\":\"x3\",\"yaxis\":\"y3\"},{\"marker\":{\"color\":[7,9,10,15,18,19,20,21,22,23,24,25,26,27,28,29,30,31,32,33,34,35,36,37,38,39,40,41,42,43,44,45,46,47,48,49,50,51,52,53,54,56,57,59,60,61,62,63,64,65,66,68,69,70,71,72,73,74,75,76,77,78,80,81,82,83,84,85,86,87,88,89,90,91,92,93,94,95,96,97,99],\"colorbar\":{\"title\":{\"text\":\"#Trials\"},\"x\":1.0,\"xpad\":40},\"colorscale\":[[0.0,\"rgb(247,251,255)\"],[0.125,\"rgb(222,235,247)\"],[0.25,\"rgb(198,219,239)\"],[0.375,\"rgb(158,202,225)\"],[0.5,\"rgb(107,174,214)\"],[0.625,\"rgb(66,146,198)\"],[0.75,\"rgb(33,113,181)\"],[0.875,\"rgb(8,81,156)\"],[1.0,\"rgb(8,48,107)\"]],\"line\":{\"color\":\"Grey\",\"width\":0.5},\"showscale\":false},\"mode\":\"markers\",\"showlegend\":false,\"x\":[1.0243739155150661e-07,2078.404167019341,3276356745.095663,1.7983512165168756e-09,0.16789010153081152,0.16163416452340468,0.0940561392723306,1.3108525863787328,0.05339261753990448,2.2752790929802506e-05,269.32483236648403,0.570097214712311,803.4974093953097,0.0004699577387888707,462960.13848274417,17.217079280737213,50.95400903205373,0.0014485213501358005,4.842604188855029e-06,184778.40893205334,3.6786412229375416,10.40529900200349,8.917342559182643,58547.13373907004,0.004748842579079147,5.823429953782348,13.687792910197313,9.545533188514096,3302.538234736308,9.689829541571697,2.4342312904085834,9740839.289755167,106.8129417064293,0.013315200762973873,1703.2485592260293,21845.31570696448,1.8314704380323006,11.433184794604461,53.79789212356513,0.8778585576441036,5466.6328299729985,0.039275822561720665,5.139756498070089,0.22982571133481827,188.11244976675144,5.0958504026269225,0.26729841514416064,5.645230985039439e-10,2.6358495705676868,141.64845698067128,631.6724857284271,23.399918234897406,0.06975565101646562,0.00010850943423093796,10.285451259524207,2.1121779903037736,5.036631432714773,0.48230517204038775,0.023424619983614614,52.235964175457724,4.475029845794297e-08,407.3141129788268,5.618465295130694,8.064613757239474,0.6392621951517452,17.20670063626673,0.13354882787034728,0.003036967045752802,28.967894779853445,135.80457738250007,935.3512211990713,10555.432787163641,5.387019194862412,1.287683614082145,10.114265032262917,4.597615721652852,51.48378490635253,887135344.4067688,0.4565648455823143,10.002643977050692,1.5374711288758585],\"y\":[0.32,0.96,0.96,0.32,0.9666666666666667,0.9666666666666667,0.94,0.9666666666666667,0.9199999999999999,0.32,0.9466666666666667,0.9666666666666667,0.96,0.32,0.96,0.9666666666666667,0.96,0.32,0.32,0.96,0.9866666666666667,0.98,0.98,0.96,0.32,0.98,0.9733333333333333,0.98,0.96,0.98,0.9733333333333333,0.96,0.96,0.32,0.96,0.96,0.9733333333333333,0.98,0.96,0.9666666666666667,0.96,0.8533333333333334,0.98,0.96,0.9466666666666667,0.98,0.96,0.32,0.9733333333333333,0.96,0.96,0.9666666666666667,0.94,0.32,0.98,0.9733333333333333,0.98,0.9666666666666667,0.7466666666666667,0.96,0.32,0.9466666666666667,0.98,0.98,0.9666666666666667,0.9666666666666667,0.9533333333333333,0.32,0.9666666666666667,0.96,0.96,0.96,0.98,0.9666666666666667,0.98,0.9866666666666667,0.96,0.96,0.96,0.98,0.9666666666666667],\"type\":\"scatter\",\"xaxis\":\"x4\",\"yaxis\":\"y4\"}],                        {\"template\":{\"data\":{\"bar\":[{\"error_x\":{\"color\":\"#2a3f5f\"},\"error_y\":{\"color\":\"#2a3f5f\"},\"marker\":{\"line\":{\"color\":\"#E5ECF6\",\"width\":0.5},\"pattern\":{\"fillmode\":\"overlay\",\"size\":10,\"solidity\":0.2}},\"type\":\"bar\"}],\"barpolar\":[{\"marker\":{\"line\":{\"color\":\"#E5ECF6\",\"width\":0.5},\"pattern\":{\"fillmode\":\"overlay\",\"size\":10,\"solidity\":0.2}},\"type\":\"barpolar\"}],\"carpet\":[{\"aaxis\":{\"endlinecolor\":\"#2a3f5f\",\"gridcolor\":\"white\",\"linecolor\":\"white\",\"minorgridcolor\":\"white\",\"startlinecolor\":\"#2a3f5f\"},\"baxis\":{\"endlinecolor\":\"#2a3f5f\",\"gridcolor\":\"white\",\"linecolor\":\"white\",\"minorgridcolor\":\"white\",\"startlinecolor\":\"#2a3f5f\"},\"type\":\"carpet\"}],\"choropleth\":[{\"colorbar\":{\"outlinewidth\":0,\"ticks\":\"\"},\"type\":\"choropleth\"}],\"contour\":[{\"colorbar\":{\"outlinewidth\":0,\"ticks\":\"\"},\"colorscale\":[[0.0,\"#0d0887\"],[0.1111111111111111,\"#46039f\"],[0.2222222222222222,\"#7201a8\"],[0.3333333333333333,\"#9c179e\"],[0.4444444444444444,\"#bd3786\"],[0.5555555555555556,\"#d8576b\"],[0.6666666666666666,\"#ed7953\"],[0.7777777777777778,\"#fb9f3a\"],[0.8888888888888888,\"#fdca26\"],[1.0,\"#f0f921\"]],\"type\":\"contour\"}],\"contourcarpet\":[{\"colorbar\":{\"outlinewidth\":0,\"ticks\":\"\"},\"type\":\"contourcarpet\"}],\"heatmap\":[{\"colorbar\":{\"outlinewidth\":0,\"ticks\":\"\"},\"colorscale\":[[0.0,\"#0d0887\"],[0.1111111111111111,\"#46039f\"],[0.2222222222222222,\"#7201a8\"],[0.3333333333333333,\"#9c179e\"],[0.4444444444444444,\"#bd3786\"],[0.5555555555555556,\"#d8576b\"],[0.6666666666666666,\"#ed7953\"],[0.7777777777777778,\"#fb9f3a\"],[0.8888888888888888,\"#fdca26\"],[1.0,\"#f0f921\"]],\"type\":\"heatmap\"}],\"heatmapgl\":[{\"colorbar\":{\"outlinewidth\":0,\"ticks\":\"\"},\"colorscale\":[[0.0,\"#0d0887\"],[0.1111111111111111,\"#46039f\"],[0.2222222222222222,\"#7201a8\"],[0.3333333333333333,\"#9c179e\"],[0.4444444444444444,\"#bd3786\"],[0.5555555555555556,\"#d8576b\"],[0.6666666666666666,\"#ed7953\"],[0.7777777777777778,\"#fb9f3a\"],[0.8888888888888888,\"#fdca26\"],[1.0,\"#f0f921\"]],\"type\":\"heatmapgl\"}],\"histogram\":[{\"marker\":{\"pattern\":{\"fillmode\":\"overlay\",\"size\":10,\"solidity\":0.2}},\"type\":\"histogram\"}],\"histogram2d\":[{\"colorbar\":{\"outlinewidth\":0,\"ticks\":\"\"},\"colorscale\":[[0.0,\"#0d0887\"],[0.1111111111111111,\"#46039f\"],[0.2222222222222222,\"#7201a8\"],[0.3333333333333333,\"#9c179e\"],[0.4444444444444444,\"#bd3786\"],[0.5555555555555556,\"#d8576b\"],[0.6666666666666666,\"#ed7953\"],[0.7777777777777778,\"#fb9f3a\"],[0.8888888888888888,\"#fdca26\"],[1.0,\"#f0f921\"]],\"type\":\"histogram2d\"}],\"histogram2dcontour\":[{\"colorbar\":{\"outlinewidth\":0,\"ticks\":\"\"},\"colorscale\":[[0.0,\"#0d0887\"],[0.1111111111111111,\"#46039f\"],[0.2222222222222222,\"#7201a8\"],[0.3333333333333333,\"#9c179e\"],[0.4444444444444444,\"#bd3786\"],[0.5555555555555556,\"#d8576b\"],[0.6666666666666666,\"#ed7953\"],[0.7777777777777778,\"#fb9f3a\"],[0.8888888888888888,\"#fdca26\"],[1.0,\"#f0f921\"]],\"type\":\"histogram2dcontour\"}],\"mesh3d\":[{\"colorbar\":{\"outlinewidth\":0,\"ticks\":\"\"},\"type\":\"mesh3d\"}],\"parcoords\":[{\"line\":{\"colorbar\":{\"outlinewidth\":0,\"ticks\":\"\"}},\"type\":\"parcoords\"}],\"pie\":[{\"automargin\":true,\"type\":\"pie\"}],\"scatter\":[{\"marker\":{\"colorbar\":{\"outlinewidth\":0,\"ticks\":\"\"}},\"type\":\"scatter\"}],\"scatter3d\":[{\"line\":{\"colorbar\":{\"outlinewidth\":0,\"ticks\":\"\"}},\"marker\":{\"colorbar\":{\"outlinewidth\":0,\"ticks\":\"\"}},\"type\":\"scatter3d\"}],\"scattercarpet\":[{\"marker\":{\"colorbar\":{\"outlinewidth\":0,\"ticks\":\"\"}},\"type\":\"scattercarpet\"}],\"scattergeo\":[{\"marker\":{\"colorbar\":{\"outlinewidth\":0,\"ticks\":\"\"}},\"type\":\"scattergeo\"}],\"scattergl\":[{\"marker\":{\"colorbar\":{\"outlinewidth\":0,\"ticks\":\"\"}},\"type\":\"scattergl\"}],\"scattermapbox\":[{\"marker\":{\"colorbar\":{\"outlinewidth\":0,\"ticks\":\"\"}},\"type\":\"scattermapbox\"}],\"scatterpolar\":[{\"marker\":{\"colorbar\":{\"outlinewidth\":0,\"ticks\":\"\"}},\"type\":\"scatterpolar\"}],\"scatterpolargl\":[{\"marker\":{\"colorbar\":{\"outlinewidth\":0,\"ticks\":\"\"}},\"type\":\"scatterpolargl\"}],\"scatterternary\":[{\"marker\":{\"colorbar\":{\"outlinewidth\":0,\"ticks\":\"\"}},\"type\":\"scatterternary\"}],\"surface\":[{\"colorbar\":{\"outlinewidth\":0,\"ticks\":\"\"},\"colorscale\":[[0.0,\"#0d0887\"],[0.1111111111111111,\"#46039f\"],[0.2222222222222222,\"#7201a8\"],[0.3333333333333333,\"#9c179e\"],[0.4444444444444444,\"#bd3786\"],[0.5555555555555556,\"#d8576b\"],[0.6666666666666666,\"#ed7953\"],[0.7777777777777778,\"#fb9f3a\"],[0.8888888888888888,\"#fdca26\"],[1.0,\"#f0f921\"]],\"type\":\"surface\"}],\"table\":[{\"cells\":{\"fill\":{\"color\":\"#EBF0F8\"},\"line\":{\"color\":\"white\"}},\"header\":{\"fill\":{\"color\":\"#C8D4E3\"},\"line\":{\"color\":\"white\"}},\"type\":\"table\"}]},\"layout\":{\"annotationdefaults\":{\"arrowcolor\":\"#2a3f5f\",\"arrowhead\":0,\"arrowwidth\":1},\"autotypenumbers\":\"strict\",\"coloraxis\":{\"colorbar\":{\"outlinewidth\":0,\"ticks\":\"\"}},\"colorscale\":{\"diverging\":[[0,\"#8e0152\"],[0.1,\"#c51b7d\"],[0.2,\"#de77ae\"],[0.3,\"#f1b6da\"],[0.4,\"#fde0ef\"],[0.5,\"#f7f7f7\"],[0.6,\"#e6f5d0\"],[0.7,\"#b8e186\"],[0.8,\"#7fbc41\"],[0.9,\"#4d9221\"],[1,\"#276419\"]],\"sequential\":[[0.0,\"#0d0887\"],[0.1111111111111111,\"#46039f\"],[0.2222222222222222,\"#7201a8\"],[0.3333333333333333,\"#9c179e\"],[0.4444444444444444,\"#bd3786\"],[0.5555555555555556,\"#d8576b\"],[0.6666666666666666,\"#ed7953\"],[0.7777777777777778,\"#fb9f3a\"],[0.8888888888888888,\"#fdca26\"],[1.0,\"#f0f921\"]],\"sequentialminus\":[[0.0,\"#0d0887\"],[0.1111111111111111,\"#46039f\"],[0.2222222222222222,\"#7201a8\"],[0.3333333333333333,\"#9c179e\"],[0.4444444444444444,\"#bd3786\"],[0.5555555555555556,\"#d8576b\"],[0.6666666666666666,\"#ed7953\"],[0.7777777777777778,\"#fb9f3a\"],[0.8888888888888888,\"#fdca26\"],[1.0,\"#f0f921\"]]},\"colorway\":[\"#636efa\",\"#EF553B\",\"#00cc96\",\"#ab63fa\",\"#FFA15A\",\"#19d3f3\",\"#FF6692\",\"#B6E880\",\"#FF97FF\",\"#FECB52\"],\"font\":{\"color\":\"#2a3f5f\"},\"geo\":{\"bgcolor\":\"white\",\"lakecolor\":\"white\",\"landcolor\":\"#E5ECF6\",\"showlakes\":true,\"showland\":true,\"subunitcolor\":\"white\"},\"hoverlabel\":{\"align\":\"left\"},\"hovermode\":\"closest\",\"mapbox\":{\"style\":\"light\"},\"paper_bgcolor\":\"white\",\"plot_bgcolor\":\"#E5ECF6\",\"polar\":{\"angularaxis\":{\"gridcolor\":\"white\",\"linecolor\":\"white\",\"ticks\":\"\"},\"bgcolor\":\"#E5ECF6\",\"radialaxis\":{\"gridcolor\":\"white\",\"linecolor\":\"white\",\"ticks\":\"\"}},\"scene\":{\"xaxis\":{\"backgroundcolor\":\"#E5ECF6\",\"gridcolor\":\"white\",\"gridwidth\":2,\"linecolor\":\"white\",\"showbackground\":true,\"ticks\":\"\",\"zerolinecolor\":\"white\"},\"yaxis\":{\"backgroundcolor\":\"#E5ECF6\",\"gridcolor\":\"white\",\"gridwidth\":2,\"linecolor\":\"white\",\"showbackground\":true,\"ticks\":\"\",\"zerolinecolor\":\"white\"},\"zaxis\":{\"backgroundcolor\":\"#E5ECF6\",\"gridcolor\":\"white\",\"gridwidth\":2,\"linecolor\":\"white\",\"showbackground\":true,\"ticks\":\"\",\"zerolinecolor\":\"white\"}},\"shapedefaults\":{\"line\":{\"color\":\"#2a3f5f\"}},\"ternary\":{\"aaxis\":{\"gridcolor\":\"white\",\"linecolor\":\"white\",\"ticks\":\"\"},\"baxis\":{\"gridcolor\":\"white\",\"linecolor\":\"white\",\"ticks\":\"\"},\"bgcolor\":\"#E5ECF6\",\"caxis\":{\"gridcolor\":\"white\",\"linecolor\":\"white\",\"ticks\":\"\"}},\"title\":{\"x\":0.05},\"xaxis\":{\"automargin\":true,\"gridcolor\":\"white\",\"linecolor\":\"white\",\"ticks\":\"\",\"title\":{\"standoff\":15},\"zerolinecolor\":\"white\",\"zerolinewidth\":2},\"yaxis\":{\"automargin\":true,\"gridcolor\":\"white\",\"linecolor\":\"white\",\"ticks\":\"\",\"title\":{\"standoff\":15},\"zerolinecolor\":\"white\",\"zerolinewidth\":2}}},\"xaxis\":{\"anchor\":\"y\",\"domain\":[0.0,0.2125],\"title\":{\"text\":\"classifier\"}},\"yaxis\":{\"anchor\":\"x\",\"domain\":[0.0,1.0],\"title\":{\"text\":\"Objective Value\"}},\"xaxis2\":{\"anchor\":\"y2\",\"domain\":[0.2625,0.475],\"title\":{\"text\":\"max_depth\"},\"type\":\"log\"},\"yaxis2\":{\"anchor\":\"x2\",\"domain\":[0.0,1.0],\"matches\":\"y\",\"showticklabels\":false},\"xaxis3\":{\"anchor\":\"y3\",\"domain\":[0.525,0.7375],\"title\":{\"text\":\"n_estimators\"}},\"yaxis3\":{\"anchor\":\"x3\",\"domain\":[0.0,1.0],\"matches\":\"y\",\"showticklabels\":false},\"xaxis4\":{\"anchor\":\"y4\",\"domain\":[0.7875,1.0],\"title\":{\"text\":\"svc_c\"},\"type\":\"log\"},\"yaxis4\":{\"anchor\":\"x4\",\"domain\":[0.0,1.0],\"matches\":\"y\",\"showticklabels\":false},\"title\":{\"text\":\"Slice Plot\"},\"width\":1200},                        {\"responsive\": true}                    ).then(function(){\n",
              "                            \n",
              "var gd = document.getElementById('ef7f44f9-ab09-4be1-9add-d99a221f9beb');\n",
              "var x = new MutationObserver(function (mutations, observer) {{\n",
              "        var display = window.getComputedStyle(gd).display;\n",
              "        if (!display || display === 'none') {{\n",
              "            console.log([gd, 'removed!']);\n",
              "            Plotly.purge(gd);\n",
              "            observer.disconnect();\n",
              "        }}\n",
              "}});\n",
              "\n",
              "// Listen for the removal of the full notebook cells\n",
              "var notebookContainer = gd.closest('#notebook-container');\n",
              "if (notebookContainer) {{\n",
              "    x.observe(notebookContainer, {childList: true});\n",
              "}}\n",
              "\n",
              "// Listen for the clearing of the current output cell\n",
              "var outputEl = gd.closest('.output');\n",
              "if (outputEl) {{\n",
              "    x.observe(outputEl, {childList: true});\n",
              "}}\n",
              "\n",
              "                        })                };                            </script>        </div>\n",
              "</body>\n",
              "</html>"
            ]
          },
          "metadata": {}
        }
      ],
      "source": [
        "optuna.visualization.plot_slice(study)"
      ]
    },
    {
      "cell_type": "markdown",
      "metadata": {
        "id": "t6x8ToplP5Uh"
      },
      "source": [
        "Plotting the accuracy surface for the hyperparameters involved in the random forest model."
      ]
    },
    {
      "cell_type": "code",
      "execution_count": 8,
      "metadata": {
        "id": "NG7a_ivNP5Uh",
        "outputId": "6fe8c1c4-73da-400b-d521-b1167d396a47",
        "colab": {
          "base_uri": "https://localhost:8080/",
          "height": 542
        }
      },
      "outputs": [
        {
          "output_type": "display_data",
          "data": {
            "text/html": [
              "<html>\n",
              "<head><meta charset=\"utf-8\" /></head>\n",
              "<body>\n",
              "    <div>            <script src=\"https://cdnjs.cloudflare.com/ajax/libs/mathjax/2.7.5/MathJax.js?config=TeX-AMS-MML_SVG\"></script><script type=\"text/javascript\">if (window.MathJax) {MathJax.Hub.Config({SVG: {font: \"STIX-Web\"}});}</script>                <script type=\"text/javascript\">window.PlotlyConfig = {MathJaxConfig: 'local'};</script>\n",
              "        <script src=\"https://cdn.plot.ly/plotly-2.8.3.min.js\"></script>                <div id=\"25aef02e-5f04-43cf-a030-c2a0f1de3e0e\" class=\"plotly-graph-div\" style=\"height:525px; width:100%;\"></div>            <script type=\"text/javascript\">                                    window.PLOTLYENV=window.PLOTLYENV || {};                                    if (document.getElementById(\"25aef02e-5f04-43cf-a030-c2a0f1de3e0e\")) {                    Plotly.newPlot(                        \"25aef02e-5f04-43cf-a030-c2a0f1de3e0e\",                        [{\"colorbar\":{\"title\":{\"text\":\"Objective Value\"}},\"colorscale\":[[0,\"rgb(5,10,172)\"],[0.35,\"rgb(40,60,190)\"],[0.5,\"rgb(70,100,245)\"],[0.6,\"rgb(90,120,245)\"],[0.7,\"rgb(106,137,247)\"],[1,\"rgb(220,220,220)\"]],\"connectgaps\":true,\"contours\":{\"coloring\":\"heatmap\"},\"hoverinfo\":\"none\",\"line\":{\"smoothing\":1.3},\"reversescale\":false,\"x\":[0.9537073445313144,1.1238003215366887,1.1469801861381719,1.6218908899178455,1.6536725925314482,2.150033971405068,2.844657898671838,2.939823293227295,3.651001025363981,3.813447638653083,5.199627155942958,5.9648957991034655,7.485089904217698,10.260216332740162,11.775759715983527,11.963413141685324,18.829114168642306,19.689086300077005,28.309332064510258,29.934337377108875,35.273103601728764],\"y\":[1.1,2,3,4,6,7,9,10,11,13,14,16,17,19,20,20.9],\"z\":[[null,null,null,null,null,null,null,null,null,null,null,null,null,null,null,null,null,null,null,null,null],[null,null,null,null,null,null,null,null,null,null,null,0.9466666666666667,null,null,null,null,null,null,null,null,null],[null,null,null,null,null,null,0.94,null,null,null,0.96,null,null,null,null,null,null,null,null,null,null],[null,0.6666666666666666,null,null,null,null,null,null,null,null,null,null,null,null,null,null,null,null,null,null,null],[null,null,null,null,null,null,null,null,0.96,null,null,null,null,null,0.96,null,null,null,null,0.96,null],[null,null,null,null,null,null,null,null,null,null,null,null,null,null,null,null,null,null,0.96,null,null],[null,null,null,0.84,null,null,null,null,null,null,null,null,null,0.9666666666666667,null,null,null,null,null,null,null],[null,null,null,null,null,null,null,null,null,null,null,null,null,null,null,null,null,0.94,null,null,null],[null,null,null,null,null,0.94,null,null,null,null,null,null,null,null,null,null,null,null,null,null,null],[null,null,null,null,null,null,null,0.9466666666666667,null,null,null,null,null,null,null,null,null,null,null,null,null],[null,null,null,null,null,null,null,null,null,0.9466666666666667,null,null,0.9533333333333333,null,null,null,null,null,null,null,null],[null,null,0.9466666666666667,null,null,null,null,null,null,null,null,null,null,null,null,null,null,null,null,null,null],[null,null,null,null,null,null,null,null,null,null,null,null,null,null,null,null,0.9533333333333333,null,null,null,null],[null,null,null,null,0.8666666666666667,null,null,null,null,null,null,null,null,null,null,null,null,null,null,null,null],[null,null,null,null,null,null,null,null,null,null,null,null,null,null,null,0.9466666666666667,null,null,null,null,null],[null,null,null,null,null,null,null,null,null,null,null,null,null,null,null,null,null,null,null,null,null]],\"type\":\"contour\"},{\"marker\":{\"color\":\"black\",\"line\":{\"color\":\"Grey\",\"width\":0.5}},\"mode\":\"markers\",\"showlegend\":false,\"x\":[2.939823293227295,28.309332064510258,5.199627155942958,1.6218908899178455,7.485089904217698,5.9648957991034655,2.844657898671838,19.689086300077005,29.934337377108875,11.963413141685324,11.775759715983527,3.651001025363981,1.1238003215366887,10.260216332740162,1.6536725925314482,18.829114168642306,1.1469801861381719,3.813447638653083,2.150033971405068],\"y\":[13,7,3,9,14,2,3,10,6,20,6,6,4,9,19,17,16,14,11],\"type\":\"scatter\"}],                        {\"title\":{\"text\":\"Contour Plot\"},\"template\":{\"data\":{\"bar\":[{\"error_x\":{\"color\":\"#2a3f5f\"},\"error_y\":{\"color\":\"#2a3f5f\"},\"marker\":{\"line\":{\"color\":\"#E5ECF6\",\"width\":0.5},\"pattern\":{\"fillmode\":\"overlay\",\"size\":10,\"solidity\":0.2}},\"type\":\"bar\"}],\"barpolar\":[{\"marker\":{\"line\":{\"color\":\"#E5ECF6\",\"width\":0.5},\"pattern\":{\"fillmode\":\"overlay\",\"size\":10,\"solidity\":0.2}},\"type\":\"barpolar\"}],\"carpet\":[{\"aaxis\":{\"endlinecolor\":\"#2a3f5f\",\"gridcolor\":\"white\",\"linecolor\":\"white\",\"minorgridcolor\":\"white\",\"startlinecolor\":\"#2a3f5f\"},\"baxis\":{\"endlinecolor\":\"#2a3f5f\",\"gridcolor\":\"white\",\"linecolor\":\"white\",\"minorgridcolor\":\"white\",\"startlinecolor\":\"#2a3f5f\"},\"type\":\"carpet\"}],\"choropleth\":[{\"colorbar\":{\"outlinewidth\":0,\"ticks\":\"\"},\"type\":\"choropleth\"}],\"contour\":[{\"colorbar\":{\"outlinewidth\":0,\"ticks\":\"\"},\"colorscale\":[[0.0,\"#0d0887\"],[0.1111111111111111,\"#46039f\"],[0.2222222222222222,\"#7201a8\"],[0.3333333333333333,\"#9c179e\"],[0.4444444444444444,\"#bd3786\"],[0.5555555555555556,\"#d8576b\"],[0.6666666666666666,\"#ed7953\"],[0.7777777777777778,\"#fb9f3a\"],[0.8888888888888888,\"#fdca26\"],[1.0,\"#f0f921\"]],\"type\":\"contour\"}],\"contourcarpet\":[{\"colorbar\":{\"outlinewidth\":0,\"ticks\":\"\"},\"type\":\"contourcarpet\"}],\"heatmap\":[{\"colorbar\":{\"outlinewidth\":0,\"ticks\":\"\"},\"colorscale\":[[0.0,\"#0d0887\"],[0.1111111111111111,\"#46039f\"],[0.2222222222222222,\"#7201a8\"],[0.3333333333333333,\"#9c179e\"],[0.4444444444444444,\"#bd3786\"],[0.5555555555555556,\"#d8576b\"],[0.6666666666666666,\"#ed7953\"],[0.7777777777777778,\"#fb9f3a\"],[0.8888888888888888,\"#fdca26\"],[1.0,\"#f0f921\"]],\"type\":\"heatmap\"}],\"heatmapgl\":[{\"colorbar\":{\"outlinewidth\":0,\"ticks\":\"\"},\"colorscale\":[[0.0,\"#0d0887\"],[0.1111111111111111,\"#46039f\"],[0.2222222222222222,\"#7201a8\"],[0.3333333333333333,\"#9c179e\"],[0.4444444444444444,\"#bd3786\"],[0.5555555555555556,\"#d8576b\"],[0.6666666666666666,\"#ed7953\"],[0.7777777777777778,\"#fb9f3a\"],[0.8888888888888888,\"#fdca26\"],[1.0,\"#f0f921\"]],\"type\":\"heatmapgl\"}],\"histogram\":[{\"marker\":{\"pattern\":{\"fillmode\":\"overlay\",\"size\":10,\"solidity\":0.2}},\"type\":\"histogram\"}],\"histogram2d\":[{\"colorbar\":{\"outlinewidth\":0,\"ticks\":\"\"},\"colorscale\":[[0.0,\"#0d0887\"],[0.1111111111111111,\"#46039f\"],[0.2222222222222222,\"#7201a8\"],[0.3333333333333333,\"#9c179e\"],[0.4444444444444444,\"#bd3786\"],[0.5555555555555556,\"#d8576b\"],[0.6666666666666666,\"#ed7953\"],[0.7777777777777778,\"#fb9f3a\"],[0.8888888888888888,\"#fdca26\"],[1.0,\"#f0f921\"]],\"type\":\"histogram2d\"}],\"histogram2dcontour\":[{\"colorbar\":{\"outlinewidth\":0,\"ticks\":\"\"},\"colorscale\":[[0.0,\"#0d0887\"],[0.1111111111111111,\"#46039f\"],[0.2222222222222222,\"#7201a8\"],[0.3333333333333333,\"#9c179e\"],[0.4444444444444444,\"#bd3786\"],[0.5555555555555556,\"#d8576b\"],[0.6666666666666666,\"#ed7953\"],[0.7777777777777778,\"#fb9f3a\"],[0.8888888888888888,\"#fdca26\"],[1.0,\"#f0f921\"]],\"type\":\"histogram2dcontour\"}],\"mesh3d\":[{\"colorbar\":{\"outlinewidth\":0,\"ticks\":\"\"},\"type\":\"mesh3d\"}],\"parcoords\":[{\"line\":{\"colorbar\":{\"outlinewidth\":0,\"ticks\":\"\"}},\"type\":\"parcoords\"}],\"pie\":[{\"automargin\":true,\"type\":\"pie\"}],\"scatter\":[{\"marker\":{\"colorbar\":{\"outlinewidth\":0,\"ticks\":\"\"}},\"type\":\"scatter\"}],\"scatter3d\":[{\"line\":{\"colorbar\":{\"outlinewidth\":0,\"ticks\":\"\"}},\"marker\":{\"colorbar\":{\"outlinewidth\":0,\"ticks\":\"\"}},\"type\":\"scatter3d\"}],\"scattercarpet\":[{\"marker\":{\"colorbar\":{\"outlinewidth\":0,\"ticks\":\"\"}},\"type\":\"scattercarpet\"}],\"scattergeo\":[{\"marker\":{\"colorbar\":{\"outlinewidth\":0,\"ticks\":\"\"}},\"type\":\"scattergeo\"}],\"scattergl\":[{\"marker\":{\"colorbar\":{\"outlinewidth\":0,\"ticks\":\"\"}},\"type\":\"scattergl\"}],\"scattermapbox\":[{\"marker\":{\"colorbar\":{\"outlinewidth\":0,\"ticks\":\"\"}},\"type\":\"scattermapbox\"}],\"scatterpolar\":[{\"marker\":{\"colorbar\":{\"outlinewidth\":0,\"ticks\":\"\"}},\"type\":\"scatterpolar\"}],\"scatterpolargl\":[{\"marker\":{\"colorbar\":{\"outlinewidth\":0,\"ticks\":\"\"}},\"type\":\"scatterpolargl\"}],\"scatterternary\":[{\"marker\":{\"colorbar\":{\"outlinewidth\":0,\"ticks\":\"\"}},\"type\":\"scatterternary\"}],\"surface\":[{\"colorbar\":{\"outlinewidth\":0,\"ticks\":\"\"},\"colorscale\":[[0.0,\"#0d0887\"],[0.1111111111111111,\"#46039f\"],[0.2222222222222222,\"#7201a8\"],[0.3333333333333333,\"#9c179e\"],[0.4444444444444444,\"#bd3786\"],[0.5555555555555556,\"#d8576b\"],[0.6666666666666666,\"#ed7953\"],[0.7777777777777778,\"#fb9f3a\"],[0.8888888888888888,\"#fdca26\"],[1.0,\"#f0f921\"]],\"type\":\"surface\"}],\"table\":[{\"cells\":{\"fill\":{\"color\":\"#EBF0F8\"},\"line\":{\"color\":\"white\"}},\"header\":{\"fill\":{\"color\":\"#C8D4E3\"},\"line\":{\"color\":\"white\"}},\"type\":\"table\"}]},\"layout\":{\"annotationdefaults\":{\"arrowcolor\":\"#2a3f5f\",\"arrowhead\":0,\"arrowwidth\":1},\"autotypenumbers\":\"strict\",\"coloraxis\":{\"colorbar\":{\"outlinewidth\":0,\"ticks\":\"\"}},\"colorscale\":{\"diverging\":[[0,\"#8e0152\"],[0.1,\"#c51b7d\"],[0.2,\"#de77ae\"],[0.3,\"#f1b6da\"],[0.4,\"#fde0ef\"],[0.5,\"#f7f7f7\"],[0.6,\"#e6f5d0\"],[0.7,\"#b8e186\"],[0.8,\"#7fbc41\"],[0.9,\"#4d9221\"],[1,\"#276419\"]],\"sequential\":[[0.0,\"#0d0887\"],[0.1111111111111111,\"#46039f\"],[0.2222222222222222,\"#7201a8\"],[0.3333333333333333,\"#9c179e\"],[0.4444444444444444,\"#bd3786\"],[0.5555555555555556,\"#d8576b\"],[0.6666666666666666,\"#ed7953\"],[0.7777777777777778,\"#fb9f3a\"],[0.8888888888888888,\"#fdca26\"],[1.0,\"#f0f921\"]],\"sequentialminus\":[[0.0,\"#0d0887\"],[0.1111111111111111,\"#46039f\"],[0.2222222222222222,\"#7201a8\"],[0.3333333333333333,\"#9c179e\"],[0.4444444444444444,\"#bd3786\"],[0.5555555555555556,\"#d8576b\"],[0.6666666666666666,\"#ed7953\"],[0.7777777777777778,\"#fb9f3a\"],[0.8888888888888888,\"#fdca26\"],[1.0,\"#f0f921\"]]},\"colorway\":[\"#636efa\",\"#EF553B\",\"#00cc96\",\"#ab63fa\",\"#FFA15A\",\"#19d3f3\",\"#FF6692\",\"#B6E880\",\"#FF97FF\",\"#FECB52\"],\"font\":{\"color\":\"#2a3f5f\"},\"geo\":{\"bgcolor\":\"white\",\"lakecolor\":\"white\",\"landcolor\":\"#E5ECF6\",\"showlakes\":true,\"showland\":true,\"subunitcolor\":\"white\"},\"hoverlabel\":{\"align\":\"left\"},\"hovermode\":\"closest\",\"mapbox\":{\"style\":\"light\"},\"paper_bgcolor\":\"white\",\"plot_bgcolor\":\"#E5ECF6\",\"polar\":{\"angularaxis\":{\"gridcolor\":\"white\",\"linecolor\":\"white\",\"ticks\":\"\"},\"bgcolor\":\"#E5ECF6\",\"radialaxis\":{\"gridcolor\":\"white\",\"linecolor\":\"white\",\"ticks\":\"\"}},\"scene\":{\"xaxis\":{\"backgroundcolor\":\"#E5ECF6\",\"gridcolor\":\"white\",\"gridwidth\":2,\"linecolor\":\"white\",\"showbackground\":true,\"ticks\":\"\",\"zerolinecolor\":\"white\"},\"yaxis\":{\"backgroundcolor\":\"#E5ECF6\",\"gridcolor\":\"white\",\"gridwidth\":2,\"linecolor\":\"white\",\"showbackground\":true,\"ticks\":\"\",\"zerolinecolor\":\"white\"},\"zaxis\":{\"backgroundcolor\":\"#E5ECF6\",\"gridcolor\":\"white\",\"gridwidth\":2,\"linecolor\":\"white\",\"showbackground\":true,\"ticks\":\"\",\"zerolinecolor\":\"white\"}},\"shapedefaults\":{\"line\":{\"color\":\"#2a3f5f\"}},\"ternary\":{\"aaxis\":{\"gridcolor\":\"white\",\"linecolor\":\"white\",\"ticks\":\"\"},\"baxis\":{\"gridcolor\":\"white\",\"linecolor\":\"white\",\"ticks\":\"\"},\"bgcolor\":\"#E5ECF6\",\"caxis\":{\"gridcolor\":\"white\",\"linecolor\":\"white\",\"ticks\":\"\"}},\"title\":{\"x\":0.05},\"xaxis\":{\"automargin\":true,\"gridcolor\":\"white\",\"linecolor\":\"white\",\"ticks\":\"\",\"title\":{\"standoff\":15},\"zerolinecolor\":\"white\",\"zerolinewidth\":2},\"yaxis\":{\"automargin\":true,\"gridcolor\":\"white\",\"linecolor\":\"white\",\"ticks\":\"\",\"title\":{\"standoff\":15},\"zerolinecolor\":\"white\",\"zerolinewidth\":2}}},\"xaxis\":{\"title\":{\"text\":\"max_depth\"},\"range\":[-0.020584872836740035,1.5474436739517181],\"type\":\"log\"},\"yaxis\":{\"title\":{\"text\":\"n_estimators\"},\"range\":[1.1,20.9]}},                        {\"responsive\": true}                    ).then(function(){\n",
              "                            \n",
              "var gd = document.getElementById('25aef02e-5f04-43cf-a030-c2a0f1de3e0e');\n",
              "var x = new MutationObserver(function (mutations, observer) {{\n",
              "        var display = window.getComputedStyle(gd).display;\n",
              "        if (!display || display === 'none') {{\n",
              "            console.log([gd, 'removed!']);\n",
              "            Plotly.purge(gd);\n",
              "            observer.disconnect();\n",
              "        }}\n",
              "}});\n",
              "\n",
              "// Listen for the removal of the full notebook cells\n",
              "var notebookContainer = gd.closest('#notebook-container');\n",
              "if (notebookContainer) {{\n",
              "    x.observe(notebookContainer, {childList: true});\n",
              "}}\n",
              "\n",
              "// Listen for the clearing of the current output cell\n",
              "var outputEl = gd.closest('.output');\n",
              "if (outputEl) {{\n",
              "    x.observe(outputEl, {childList: true});\n",
              "}}\n",
              "\n",
              "                        })                };                            </script>        </div>\n",
              "</body>\n",
              "</html>"
            ]
          },
          "metadata": {}
        }
      ],
      "source": [
        "optuna.visualization.plot_contour(study, params=['n_estimators', 'max_depth'])"
      ]
    }
  ],
  "metadata": {
    "kernelspec": {
      "display_name": "Python 3",
      "language": "python",
      "name": "python3"
    },
    "language_info": {
      "codemirror_mode": {
        "name": "ipython",
        "version": 3
      },
      "file_extension": ".py",
      "mimetype": "text/x-python",
      "name": "python",
      "nbconvert_exporter": "python",
      "pygments_lexer": "ipython3",
      "version": "3.7.4"
    },
    "colab": {
      "name": "quickstart.ipynb",
      "provenance": []
    }
  },
  "nbformat": 4,
  "nbformat_minor": 0
}