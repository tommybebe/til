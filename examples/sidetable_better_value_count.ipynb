{
  "nbformat": 4,
  "nbformat_minor": 0,
  "metadata": {
    "colab": {
      "name": "sidetable / better value count.ipynb",
      "provenance": [],
      "authorship_tag": "ABX9TyOOH2iopkk5bMxH/PGgVIC3",
      "include_colab_link": true
    },
    "kernelspec": {
      "name": "python3",
      "display_name": "Python 3"
    }
  },
  "cells": [
    {
      "cell_type": "markdown",
      "metadata": {
        "id": "view-in-github",
        "colab_type": "text"
      },
      "source": [
        "<a href=\"https://colab.research.google.com/github/tommybebe/til/blob/master/examples/sidetable_better_value_count.ipynb\" target=\"_parent\"><img src=\"https://colab.research.google.com/assets/colab-badge.svg\" alt=\"Open In Colab\"/></a>"
      ]
    },
    {
      "cell_type": "markdown",
      "metadata": {
        "id": "ZuBKBB4gpxbB",
        "colab_type": "text"
      },
      "source": [
        "## Reference\n",
        "- [Pandas Sidetable Just Announced](https://towardsdatascience.com/pandas-sidetable-just-announced-708e5f65938f)"
      ]
    },
    {
      "cell_type": "markdown",
      "metadata": {
        "id": "K2lLzj3Fp3fT",
        "colab_type": "text"
      },
      "source": [
        "## Settings"
      ]
    },
    {
      "cell_type": "code",
      "metadata": {
        "id": "K5tmzzhCpuus",
        "colab_type": "code",
        "colab": {
          "base_uri": "https://localhost:8080/",
          "height": 263
        },
        "outputId": "7d57ce15-f9e6-438b-894f-b0fdc9925510"
      },
      "source": [
        "!pip install sidetable"
      ],
      "execution_count": 1,
      "outputs": [
        {
          "output_type": "stream",
          "text": [
            "Collecting sidetable\n",
            "  Downloading https://files.pythonhosted.org/packages/45/cf/d9d6ea5785788b0e748336657f60d0e73e372b4b4f25e461f0096d11b850/sidetable-0.3.0.tar.gz\n",
            "Requirement already satisfied: pandas>=1.0 in /usr/local/lib/python3.6/dist-packages (from sidetable) (1.0.4)\n",
            "Requirement already satisfied: pytz>=2017.2 in /usr/local/lib/python3.6/dist-packages (from pandas>=1.0->sidetable) (2018.9)\n",
            "Requirement already satisfied: numpy>=1.13.3 in /usr/local/lib/python3.6/dist-packages (from pandas>=1.0->sidetable) (1.18.5)\n",
            "Requirement already satisfied: python-dateutil>=2.6.1 in /usr/local/lib/python3.6/dist-packages (from pandas>=1.0->sidetable) (2.8.1)\n",
            "Requirement already satisfied: six>=1.5 in /usr/local/lib/python3.6/dist-packages (from python-dateutil>=2.6.1->pandas>=1.0->sidetable) (1.12.0)\n",
            "Building wheels for collected packages: sidetable\n",
            "  Building wheel for sidetable (setup.py) ... \u001b[?25l\u001b[?25hdone\n",
            "  Created wheel for sidetable: filename=sidetable-0.3.0-cp36-none-any.whl size=9391 sha256=7220e3b3af88cf9e2168312c7bac12968139baf1f9412d59e9b24ff2ec265f95\n",
            "  Stored in directory: /root/.cache/pip/wheels/cb/89/c8/8523a369438a97da6e37ade1cf5bb7ba6f7638a42ebc22594c\n",
            "Successfully built sidetable\n",
            "Installing collected packages: sidetable\n",
            "Successfully installed sidetable-0.3.0\n"
          ],
          "name": "stdout"
        }
      ]
    },
    {
      "cell_type": "markdown",
      "metadata": {
        "id": "c-MKpx75p8Rz",
        "colab_type": "text"
      },
      "source": [
        "## Codes"
      ]
    },
    {
      "cell_type": "markdown",
      "metadata": {
        "id": "doyIMZKgsaqi",
        "colab_type": "text"
      },
      "source": [
        "### get dummy data"
      ]
    },
    {
      "cell_type": "code",
      "metadata": {
        "id": "B0CvZMH5p_KT",
        "colab_type": "code",
        "colab": {}
      },
      "source": [
        "import pandas as pd\n",
        "import numpy as np\n",
        "import sidetable"
      ],
      "execution_count": 0,
      "outputs": []
    },
    {
      "cell_type": "code",
      "metadata": {
        "id": "mQAkOyk1rZJo",
        "colab_type": "code",
        "colab": {
          "base_uri": "https://localhost:8080/",
          "height": 195
        },
        "outputId": "de167996-fdd3-430d-95a1-9bbb29c5775d"
      },
      "source": [
        "import seaborn as sns\n",
        "\n",
        "df = sns.load_dataset('mpg')\n",
        "df.head()"
      ],
      "execution_count": 21,
      "outputs": [
        {
          "output_type": "execute_result",
          "data": {
            "text/html": [
              "<div>\n",
              "<style scoped>\n",
              "    .dataframe tbody tr th:only-of-type {\n",
              "        vertical-align: middle;\n",
              "    }\n",
              "\n",
              "    .dataframe tbody tr th {\n",
              "        vertical-align: top;\n",
              "    }\n",
              "\n",
              "    .dataframe thead th {\n",
              "        text-align: right;\n",
              "    }\n",
              "</style>\n",
              "<table border=\"1\" class=\"dataframe\">\n",
              "  <thead>\n",
              "    <tr style=\"text-align: right;\">\n",
              "      <th></th>\n",
              "      <th>mpg</th>\n",
              "      <th>cylinders</th>\n",
              "      <th>displacement</th>\n",
              "      <th>horsepower</th>\n",
              "      <th>weight</th>\n",
              "      <th>acceleration</th>\n",
              "      <th>model_year</th>\n",
              "      <th>origin</th>\n",
              "      <th>name</th>\n",
              "    </tr>\n",
              "  </thead>\n",
              "  <tbody>\n",
              "    <tr>\n",
              "      <th>0</th>\n",
              "      <td>18.0</td>\n",
              "      <td>8</td>\n",
              "      <td>307.0</td>\n",
              "      <td>130.0</td>\n",
              "      <td>3504</td>\n",
              "      <td>12.0</td>\n",
              "      <td>70</td>\n",
              "      <td>usa</td>\n",
              "      <td>chevrolet chevelle malibu</td>\n",
              "    </tr>\n",
              "    <tr>\n",
              "      <th>1</th>\n",
              "      <td>15.0</td>\n",
              "      <td>8</td>\n",
              "      <td>350.0</td>\n",
              "      <td>165.0</td>\n",
              "      <td>3693</td>\n",
              "      <td>11.5</td>\n",
              "      <td>70</td>\n",
              "      <td>usa</td>\n",
              "      <td>buick skylark 320</td>\n",
              "    </tr>\n",
              "    <tr>\n",
              "      <th>2</th>\n",
              "      <td>18.0</td>\n",
              "      <td>8</td>\n",
              "      <td>318.0</td>\n",
              "      <td>150.0</td>\n",
              "      <td>3436</td>\n",
              "      <td>11.0</td>\n",
              "      <td>70</td>\n",
              "      <td>usa</td>\n",
              "      <td>plymouth satellite</td>\n",
              "    </tr>\n",
              "    <tr>\n",
              "      <th>3</th>\n",
              "      <td>16.0</td>\n",
              "      <td>8</td>\n",
              "      <td>304.0</td>\n",
              "      <td>150.0</td>\n",
              "      <td>3433</td>\n",
              "      <td>12.0</td>\n",
              "      <td>70</td>\n",
              "      <td>usa</td>\n",
              "      <td>amc rebel sst</td>\n",
              "    </tr>\n",
              "    <tr>\n",
              "      <th>4</th>\n",
              "      <td>17.0</td>\n",
              "      <td>8</td>\n",
              "      <td>302.0</td>\n",
              "      <td>140.0</td>\n",
              "      <td>3449</td>\n",
              "      <td>10.5</td>\n",
              "      <td>70</td>\n",
              "      <td>usa</td>\n",
              "      <td>ford torino</td>\n",
              "    </tr>\n",
              "  </tbody>\n",
              "</table>\n",
              "</div>"
            ],
            "text/plain": [
              "    mpg  cylinders  displacement  ...  model_year  origin                       name\n",
              "0  18.0          8         307.0  ...          70     usa  chevrolet chevelle malibu\n",
              "1  15.0          8         350.0  ...          70     usa          buick skylark 320\n",
              "2  18.0          8         318.0  ...          70     usa         plymouth satellite\n",
              "3  16.0          8         304.0  ...          70     usa              amc rebel sst\n",
              "4  17.0          8         302.0  ...          70     usa                ford torino\n",
              "\n",
              "[5 rows x 9 columns]"
            ]
          },
          "metadata": {
            "tags": []
          },
          "execution_count": 21
        }
      ]
    },
    {
      "cell_type": "markdown",
      "metadata": {
        "id": "Jh7gUvQpsUtS",
        "colab_type": "text"
      },
      "source": [
        "### pandas value_count"
      ]
    },
    {
      "cell_type": "code",
      "metadata": {
        "id": "VV5A5QBLqBHe",
        "colab_type": "code",
        "colab": {
          "base_uri": "https://localhost:8080/",
          "height": 122
        },
        "outputId": "d67e2dc1-c040-4978-fa84-63053567b030"
      },
      "source": [
        "df.model_year.value_counts()[:5]"
      ],
      "execution_count": 49,
      "outputs": [
        {
          "output_type": "execute_result",
          "data": {
            "text/plain": [
              "73    40\n",
              "78    36\n",
              "76    34\n",
              "82    31\n",
              "75    30\n",
              "Name: model_year, dtype: int64"
            ]
          },
          "metadata": {
            "tags": []
          },
          "execution_count": 49
        }
      ]
    },
    {
      "cell_type": "code",
      "metadata": {
        "id": "yrEyk0O0r2ZG",
        "colab_type": "code",
        "colab": {
          "base_uri": "https://localhost:8080/",
          "height": 122
        },
        "outputId": "b8d0a88b-ba90-4cca-8960-cd6626441634"
      },
      "source": [
        "df.model_year.value_counts(normalize=True)[:5]"
      ],
      "execution_count": 50,
      "outputs": [
        {
          "output_type": "execute_result",
          "data": {
            "text/plain": [
              "73    0.100503\n",
              "78    0.090452\n",
              "76    0.085427\n",
              "82    0.077889\n",
              "75    0.075377\n",
              "Name: model_year, dtype: float64"
            ]
          },
          "metadata": {
            "tags": []
          },
          "execution_count": 50
        }
      ]
    },
    {
      "cell_type": "markdown",
      "metadata": {
        "id": "XoiqFwI5sO7_",
        "colab_type": "text"
      },
      "source": [
        "### sidetable's "
      ]
    },
    {
      "cell_type": "code",
      "metadata": {
        "id": "CtOnvxw3r5uX",
        "colab_type": "code",
        "colab": {
          "base_uri": "https://localhost:8080/",
          "height": 195
        },
        "outputId": "c84e2b9f-0e74-4473-e65a-23faa7cb7fba"
      },
      "source": [
        "df.stb.freq(['model_year'])[:5]"
      ],
      "execution_count": 51,
      "outputs": [
        {
          "output_type": "execute_result",
          "data": {
            "text/html": [
              "<div>\n",
              "<style scoped>\n",
              "    .dataframe tbody tr th:only-of-type {\n",
              "        vertical-align: middle;\n",
              "    }\n",
              "\n",
              "    .dataframe tbody tr th {\n",
              "        vertical-align: top;\n",
              "    }\n",
              "\n",
              "    .dataframe thead th {\n",
              "        text-align: right;\n",
              "    }\n",
              "</style>\n",
              "<table border=\"1\" class=\"dataframe\">\n",
              "  <thead>\n",
              "    <tr style=\"text-align: right;\">\n",
              "      <th></th>\n",
              "      <th>model_year</th>\n",
              "      <th>Count</th>\n",
              "      <th>Percent</th>\n",
              "      <th>Cumulative Count</th>\n",
              "      <th>Cumulative Percent</th>\n",
              "    </tr>\n",
              "  </thead>\n",
              "  <tbody>\n",
              "    <tr>\n",
              "      <th>0</th>\n",
              "      <td>73</td>\n",
              "      <td>40</td>\n",
              "      <td>0.100503</td>\n",
              "      <td>40</td>\n",
              "      <td>0.100503</td>\n",
              "    </tr>\n",
              "    <tr>\n",
              "      <th>1</th>\n",
              "      <td>78</td>\n",
              "      <td>36</td>\n",
              "      <td>0.090452</td>\n",
              "      <td>76</td>\n",
              "      <td>0.190955</td>\n",
              "    </tr>\n",
              "    <tr>\n",
              "      <th>2</th>\n",
              "      <td>76</td>\n",
              "      <td>34</td>\n",
              "      <td>0.085427</td>\n",
              "      <td>110</td>\n",
              "      <td>0.276382</td>\n",
              "    </tr>\n",
              "    <tr>\n",
              "      <th>3</th>\n",
              "      <td>82</td>\n",
              "      <td>31</td>\n",
              "      <td>0.077889</td>\n",
              "      <td>141</td>\n",
              "      <td>0.354271</td>\n",
              "    </tr>\n",
              "    <tr>\n",
              "      <th>4</th>\n",
              "      <td>75</td>\n",
              "      <td>30</td>\n",
              "      <td>0.075377</td>\n",
              "      <td>171</td>\n",
              "      <td>0.429648</td>\n",
              "    </tr>\n",
              "  </tbody>\n",
              "</table>\n",
              "</div>"
            ],
            "text/plain": [
              "   model_year  Count   Percent  Cumulative Count  Cumulative Percent\n",
              "0          73     40  0.100503                40            0.100503\n",
              "1          78     36  0.090452                76            0.190955\n",
              "2          76     34  0.085427               110            0.276382\n",
              "3          82     31  0.077889               141            0.354271\n",
              "4          75     30  0.075377               171            0.429648"
            ]
          },
          "metadata": {
            "tags": []
          },
          "execution_count": 51
        }
      ]
    },
    {
      "cell_type": "code",
      "metadata": {
        "id": "kWskyKZ5sKL5",
        "colab_type": "code",
        "colab": {
          "base_uri": "https://localhost:8080/",
          "height": 225
        },
        "outputId": "36041641-8252-4ac2-9d49-dded3e3309d6"
      },
      "source": [
        "df.stb.freq(['model_year'], thresh=.5, other_label='other year')"
      ],
      "execution_count": 52,
      "outputs": [
        {
          "output_type": "execute_result",
          "data": {
            "text/html": [
              "<div>\n",
              "<style scoped>\n",
              "    .dataframe tbody tr th:only-of-type {\n",
              "        vertical-align: middle;\n",
              "    }\n",
              "\n",
              "    .dataframe tbody tr th {\n",
              "        vertical-align: top;\n",
              "    }\n",
              "\n",
              "    .dataframe thead th {\n",
              "        text-align: right;\n",
              "    }\n",
              "</style>\n",
              "<table border=\"1\" class=\"dataframe\">\n",
              "  <thead>\n",
              "    <tr style=\"text-align: right;\">\n",
              "      <th></th>\n",
              "      <th>model_year</th>\n",
              "      <th>Count</th>\n",
              "      <th>Percent</th>\n",
              "      <th>Cumulative Count</th>\n",
              "      <th>Cumulative Percent</th>\n",
              "    </tr>\n",
              "  </thead>\n",
              "  <tbody>\n",
              "    <tr>\n",
              "      <th>0</th>\n",
              "      <td>73</td>\n",
              "      <td>40</td>\n",
              "      <td>0.100503</td>\n",
              "      <td>40</td>\n",
              "      <td>0.100503</td>\n",
              "    </tr>\n",
              "    <tr>\n",
              "      <th>1</th>\n",
              "      <td>78</td>\n",
              "      <td>36</td>\n",
              "      <td>0.090452</td>\n",
              "      <td>76</td>\n",
              "      <td>0.190955</td>\n",
              "    </tr>\n",
              "    <tr>\n",
              "      <th>2</th>\n",
              "      <td>76</td>\n",
              "      <td>34</td>\n",
              "      <td>0.085427</td>\n",
              "      <td>110</td>\n",
              "      <td>0.276382</td>\n",
              "    </tr>\n",
              "    <tr>\n",
              "      <th>3</th>\n",
              "      <td>82</td>\n",
              "      <td>31</td>\n",
              "      <td>0.077889</td>\n",
              "      <td>141</td>\n",
              "      <td>0.354271</td>\n",
              "    </tr>\n",
              "    <tr>\n",
              "      <th>4</th>\n",
              "      <td>75</td>\n",
              "      <td>30</td>\n",
              "      <td>0.075377</td>\n",
              "      <td>171</td>\n",
              "      <td>0.429648</td>\n",
              "    </tr>\n",
              "    <tr>\n",
              "      <th>5</th>\n",
              "      <td>other year</td>\n",
              "      <td>227</td>\n",
              "      <td>0.570352</td>\n",
              "      <td>398</td>\n",
              "      <td>1.000000</td>\n",
              "    </tr>\n",
              "  </tbody>\n",
              "</table>\n",
              "</div>"
            ],
            "text/plain": [
              "   model_year  Count   Percent  Cumulative Count  Cumulative Percent\n",
              "0          73     40  0.100503                40            0.100503\n",
              "1          78     36  0.090452                76            0.190955\n",
              "2          76     34  0.085427               110            0.276382\n",
              "3          82     31  0.077889               141            0.354271\n",
              "4          75     30  0.075377               171            0.429648\n",
              "5  other year    227  0.570352               398            1.000000"
            ]
          },
          "metadata": {
            "tags": []
          },
          "execution_count": 52
        }
      ]
    },
    {
      "cell_type": "code",
      "metadata": {
        "id": "_ke3vxqds1mz",
        "colab_type": "code",
        "colab": {
          "base_uri": "https://localhost:8080/",
          "height": 225
        },
        "outputId": "73cd2dd2-311e-451a-bf80-1a8a1ead63ad"
      },
      "source": [
        "df.stb.freq(['model_year','origin'], thresh=.3)"
      ],
      "execution_count": 55,
      "outputs": [
        {
          "output_type": "execute_result",
          "data": {
            "text/html": [
              "<div>\n",
              "<style scoped>\n",
              "    .dataframe tbody tr th:only-of-type {\n",
              "        vertical-align: middle;\n",
              "    }\n",
              "\n",
              "    .dataframe tbody tr th {\n",
              "        vertical-align: top;\n",
              "    }\n",
              "\n",
              "    .dataframe thead th {\n",
              "        text-align: right;\n",
              "    }\n",
              "</style>\n",
              "<table border=\"1\" class=\"dataframe\">\n",
              "  <thead>\n",
              "    <tr style=\"text-align: right;\">\n",
              "      <th></th>\n",
              "      <th>model_year</th>\n",
              "      <th>origin</th>\n",
              "      <th>Count</th>\n",
              "      <th>Percent</th>\n",
              "      <th>Cumulative Count</th>\n",
              "      <th>Cumulative Percent</th>\n",
              "    </tr>\n",
              "  </thead>\n",
              "  <tbody>\n",
              "    <tr>\n",
              "      <th>0</th>\n",
              "      <td>73</td>\n",
              "      <td>usa</td>\n",
              "      <td>29</td>\n",
              "      <td>0.072864</td>\n",
              "      <td>29</td>\n",
              "      <td>0.072864</td>\n",
              "    </tr>\n",
              "    <tr>\n",
              "      <th>1</th>\n",
              "      <td>79</td>\n",
              "      <td>usa</td>\n",
              "      <td>23</td>\n",
              "      <td>0.057789</td>\n",
              "      <td>52</td>\n",
              "      <td>0.130653</td>\n",
              "    </tr>\n",
              "    <tr>\n",
              "      <th>2</th>\n",
              "      <td>78</td>\n",
              "      <td>usa</td>\n",
              "      <td>22</td>\n",
              "      <td>0.055276</td>\n",
              "      <td>74</td>\n",
              "      <td>0.185930</td>\n",
              "    </tr>\n",
              "    <tr>\n",
              "      <th>3</th>\n",
              "      <td>76</td>\n",
              "      <td>usa</td>\n",
              "      <td>22</td>\n",
              "      <td>0.055276</td>\n",
              "      <td>96</td>\n",
              "      <td>0.241206</td>\n",
              "    </tr>\n",
              "    <tr>\n",
              "      <th>4</th>\n",
              "      <td>70</td>\n",
              "      <td>usa</td>\n",
              "      <td>22</td>\n",
              "      <td>0.055276</td>\n",
              "      <td>118</td>\n",
              "      <td>0.296482</td>\n",
              "    </tr>\n",
              "    <tr>\n",
              "      <th>5</th>\n",
              "      <td>Others</td>\n",
              "      <td>Others</td>\n",
              "      <td>280</td>\n",
              "      <td>0.703518</td>\n",
              "      <td>398</td>\n",
              "      <td>1.000000</td>\n",
              "    </tr>\n",
              "  </tbody>\n",
              "</table>\n",
              "</div>"
            ],
            "text/plain": [
              "  model_year  origin  Count   Percent  Cumulative Count  Cumulative Percent\n",
              "0         73     usa     29  0.072864                29            0.072864\n",
              "1         79     usa     23  0.057789                52            0.130653\n",
              "2         78     usa     22  0.055276                74            0.185930\n",
              "3         76     usa     22  0.055276                96            0.241206\n",
              "4         70     usa     22  0.055276               118            0.296482\n",
              "5     Others  Others    280  0.703518               398            1.000000"
            ]
          },
          "metadata": {
            "tags": []
          },
          "execution_count": 55
        }
      ]
    },
    {
      "cell_type": "code",
      "metadata": {
        "id": "QdrZE9RRtCBX",
        "colab_type": "code",
        "colab": {
          "base_uri": "https://localhost:8080/",
          "height": 225
        },
        "outputId": "02cda7a5-a972-4988-ab6d-d2b99caf7c39"
      },
      "source": [
        "df[df.origin == 'usa'].stb.freq(['model_year'], thresh=.5)"
      ],
      "execution_count": 57,
      "outputs": [
        {
          "output_type": "execute_result",
          "data": {
            "text/html": [
              "<div>\n",
              "<style scoped>\n",
              "    .dataframe tbody tr th:only-of-type {\n",
              "        vertical-align: middle;\n",
              "    }\n",
              "\n",
              "    .dataframe tbody tr th {\n",
              "        vertical-align: top;\n",
              "    }\n",
              "\n",
              "    .dataframe thead th {\n",
              "        text-align: right;\n",
              "    }\n",
              "</style>\n",
              "<table border=\"1\" class=\"dataframe\">\n",
              "  <thead>\n",
              "    <tr style=\"text-align: right;\">\n",
              "      <th></th>\n",
              "      <th>model_year</th>\n",
              "      <th>Count</th>\n",
              "      <th>Percent</th>\n",
              "      <th>Cumulative Count</th>\n",
              "      <th>Cumulative Percent</th>\n",
              "    </tr>\n",
              "  </thead>\n",
              "  <tbody>\n",
              "    <tr>\n",
              "      <th>0</th>\n",
              "      <td>73</td>\n",
              "      <td>29</td>\n",
              "      <td>0.116466</td>\n",
              "      <td>29</td>\n",
              "      <td>0.116466</td>\n",
              "    </tr>\n",
              "    <tr>\n",
              "      <th>1</th>\n",
              "      <td>79</td>\n",
              "      <td>23</td>\n",
              "      <td>0.092369</td>\n",
              "      <td>52</td>\n",
              "      <td>0.208835</td>\n",
              "    </tr>\n",
              "    <tr>\n",
              "      <th>2</th>\n",
              "      <td>78</td>\n",
              "      <td>22</td>\n",
              "      <td>0.088353</td>\n",
              "      <td>74</td>\n",
              "      <td>0.297189</td>\n",
              "    </tr>\n",
              "    <tr>\n",
              "      <th>3</th>\n",
              "      <td>76</td>\n",
              "      <td>22</td>\n",
              "      <td>0.088353</td>\n",
              "      <td>96</td>\n",
              "      <td>0.385542</td>\n",
              "    </tr>\n",
              "    <tr>\n",
              "      <th>4</th>\n",
              "      <td>70</td>\n",
              "      <td>22</td>\n",
              "      <td>0.088353</td>\n",
              "      <td>118</td>\n",
              "      <td>0.473896</td>\n",
              "    </tr>\n",
              "    <tr>\n",
              "      <th>5</th>\n",
              "      <td>Others</td>\n",
              "      <td>131</td>\n",
              "      <td>0.526104</td>\n",
              "      <td>249</td>\n",
              "      <td>1.000000</td>\n",
              "    </tr>\n",
              "  </tbody>\n",
              "</table>\n",
              "</div>"
            ],
            "text/plain": [
              "  model_year  Count   Percent  Cumulative Count  Cumulative Percent\n",
              "0         73     29  0.116466                29            0.116466\n",
              "1         79     23  0.092369                52            0.208835\n",
              "2         78     22  0.088353                74            0.297189\n",
              "3         76     22  0.088353                96            0.385542\n",
              "4         70     22  0.088353               118            0.473896\n",
              "5     Others    131  0.526104               249            1.000000"
            ]
          },
          "metadata": {
            "tags": []
          },
          "execution_count": 57
        }
      ]
    },
    {
      "cell_type": "code",
      "metadata": {
        "id": "dCklzxOstIGM",
        "colab_type": "code",
        "colab": {
          "base_uri": "https://localhost:8080/",
          "height": 136
        },
        "outputId": "6b69d1eb-29a9-445e-c874-aed57a7985ae"
      },
      "source": [
        "df.stb.freq(['origin'], value='mpg', thresh=.95)"
      ],
      "execution_count": 58,
      "outputs": [
        {
          "output_type": "execute_result",
          "data": {
            "text/html": [
              "<div>\n",
              "<style scoped>\n",
              "    .dataframe tbody tr th:only-of-type {\n",
              "        vertical-align: middle;\n",
              "    }\n",
              "\n",
              "    .dataframe tbody tr th {\n",
              "        vertical-align: top;\n",
              "    }\n",
              "\n",
              "    .dataframe thead th {\n",
              "        text-align: right;\n",
              "    }\n",
              "</style>\n",
              "<table border=\"1\" class=\"dataframe\">\n",
              "  <thead>\n",
              "    <tr style=\"text-align: right;\">\n",
              "      <th></th>\n",
              "      <th>origin</th>\n",
              "      <th>mpg</th>\n",
              "      <th>Percent</th>\n",
              "      <th>Cumulative mpg</th>\n",
              "      <th>Cumulative Percent</th>\n",
              "    </tr>\n",
              "  </thead>\n",
              "  <tbody>\n",
              "    <tr>\n",
              "      <th>0</th>\n",
              "      <td>usa</td>\n",
              "      <td>5000.8</td>\n",
              "      <td>0.534342</td>\n",
              "      <td>5000.8</td>\n",
              "      <td>0.534342</td>\n",
              "    </tr>\n",
              "    <tr>\n",
              "      <th>1</th>\n",
              "      <td>japan</td>\n",
              "      <td>2405.6</td>\n",
              "      <td>0.257042</td>\n",
              "      <td>7406.4</td>\n",
              "      <td>0.791384</td>\n",
              "    </tr>\n",
              "    <tr>\n",
              "      <th>2</th>\n",
              "      <td>Others</td>\n",
              "      <td>1952.4</td>\n",
              "      <td>0.208616</td>\n",
              "      <td>9358.8</td>\n",
              "      <td>1.000000</td>\n",
              "    </tr>\n",
              "  </tbody>\n",
              "</table>\n",
              "</div>"
            ],
            "text/plain": [
              "   origin     mpg   Percent  Cumulative mpg  Cumulative Percent\n",
              "0     usa  5000.8  0.534342          5000.8            0.534342\n",
              "1   japan  2405.6  0.257042          7406.4            0.791384\n",
              "2  Others  1952.4  0.208616          9358.8            1.000000"
            ]
          },
          "metadata": {
            "tags": []
          },
          "execution_count": 58
        }
      ]
    },
    {
      "cell_type": "code",
      "metadata": {
        "id": "f1cC5KF6tj_X",
        "colab_type": "code",
        "colab": {
          "base_uri": "https://localhost:8080/",
          "height": 98
        },
        "outputId": "04ba0f71-7ace-48bd-eff5-46cd3f614551"
      },
      "source": [
        "df.stb.freq(['origin'], value='mpg', thresh=.95, style=True)"
      ],
      "execution_count": 59,
      "outputs": [
        {
          "output_type": "execute_result",
          "data": {
            "text/html": [
              "<style  type=\"text/css\" >\n",
              "</style><table id=\"T_24b83580_ae37_11ea_ae71_0242ac1c0002\" ><thead>    <tr>        <th class=\"blank level0\" ></th>        <th class=\"col_heading level0 col0\" >origin</th>        <th class=\"col_heading level0 col1\" >mpg</th>        <th class=\"col_heading level0 col2\" >Percent</th>        <th class=\"col_heading level0 col3\" >Cumulative mpg</th>        <th class=\"col_heading level0 col4\" >Cumulative Percent</th>    </tr></thead><tbody>\n",
              "                <tr>\n",
              "                        <th id=\"T_24b83580_ae37_11ea_ae71_0242ac1c0002level0_row0\" class=\"row_heading level0 row0\" >0</th>\n",
              "                        <td id=\"T_24b83580_ae37_11ea_ae71_0242ac1c0002row0_col0\" class=\"data row0 col0\" >usa</td>\n",
              "                        <td id=\"T_24b83580_ae37_11ea_ae71_0242ac1c0002row0_col1\" class=\"data row0 col1\" >5,001</td>\n",
              "                        <td id=\"T_24b83580_ae37_11ea_ae71_0242ac1c0002row0_col2\" class=\"data row0 col2\" >53.43%</td>\n",
              "                        <td id=\"T_24b83580_ae37_11ea_ae71_0242ac1c0002row0_col3\" class=\"data row0 col3\" >5,001</td>\n",
              "                        <td id=\"T_24b83580_ae37_11ea_ae71_0242ac1c0002row0_col4\" class=\"data row0 col4\" >53.43%</td>\n",
              "            </tr>\n",
              "            <tr>\n",
              "                        <th id=\"T_24b83580_ae37_11ea_ae71_0242ac1c0002level0_row1\" class=\"row_heading level0 row1\" >1</th>\n",
              "                        <td id=\"T_24b83580_ae37_11ea_ae71_0242ac1c0002row1_col0\" class=\"data row1 col0\" >japan</td>\n",
              "                        <td id=\"T_24b83580_ae37_11ea_ae71_0242ac1c0002row1_col1\" class=\"data row1 col1\" >2,406</td>\n",
              "                        <td id=\"T_24b83580_ae37_11ea_ae71_0242ac1c0002row1_col2\" class=\"data row1 col2\" >25.70%</td>\n",
              "                        <td id=\"T_24b83580_ae37_11ea_ae71_0242ac1c0002row1_col3\" class=\"data row1 col3\" >7,406</td>\n",
              "                        <td id=\"T_24b83580_ae37_11ea_ae71_0242ac1c0002row1_col4\" class=\"data row1 col4\" >79.14%</td>\n",
              "            </tr>\n",
              "            <tr>\n",
              "                        <th id=\"T_24b83580_ae37_11ea_ae71_0242ac1c0002level0_row2\" class=\"row_heading level0 row2\" >2</th>\n",
              "                        <td id=\"T_24b83580_ae37_11ea_ae71_0242ac1c0002row2_col0\" class=\"data row2 col0\" >Others</td>\n",
              "                        <td id=\"T_24b83580_ae37_11ea_ae71_0242ac1c0002row2_col1\" class=\"data row2 col1\" >1,952</td>\n",
              "                        <td id=\"T_24b83580_ae37_11ea_ae71_0242ac1c0002row2_col2\" class=\"data row2 col2\" >20.86%</td>\n",
              "                        <td id=\"T_24b83580_ae37_11ea_ae71_0242ac1c0002row2_col3\" class=\"data row2 col3\" >9,359</td>\n",
              "                        <td id=\"T_24b83580_ae37_11ea_ae71_0242ac1c0002row2_col4\" class=\"data row2 col4\" >100.00%</td>\n",
              "            </tr>\n",
              "    </tbody></table>"
            ],
            "text/plain": [
              "<pandas.io.formats.style.Styler at 0x7f583dd2dd68>"
            ]
          },
          "metadata": {
            "tags": []
          },
          "execution_count": 59
        }
      ]
    }
  ]
}