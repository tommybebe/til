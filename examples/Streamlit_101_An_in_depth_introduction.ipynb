{
  "nbformat": 4,
  "nbformat_minor": 0,
  "metadata": {
    "colab": {
      "name": "Streamlit 101: An in-depth introduction.ipynb",
      "provenance": [],
      "collapsed_sections": [],
      "authorship_tag": "ABX9TyMZiz664M5uyqCvmZRuY4Gu",
      "include_colab_link": true
    },
    "kernelspec": {
      "name": "python3",
      "display_name": "Python 3"
    }
  },
  "cells": [
    {
      "cell_type": "markdown",
      "metadata": {
        "id": "view-in-github",
        "colab_type": "text"
      },
      "source": [
        "<a href=\"https://colab.research.google.com/github/tommybebe/til/blob/master/examples/Streamlit_101_An_in_depth_introduction.ipynb\" target=\"_parent\"><img src=\"https://colab.research.google.com/assets/colab-badge.svg\" alt=\"Open In Colab\"/></a>"
      ]
    },
    {
      "cell_type": "markdown",
      "metadata": {
        "id": "z-QcGMygbK3x"
      },
      "source": [
        "### Reference\n",
        "- [Streamlit 101: An in-depth introduction\n",
        "](https://towardsdatascience.com/streamlit-101-an-in-depth-introduction-fc8aad9492f2)"
      ]
    },
    {
      "cell_type": "markdown",
      "metadata": {
        "id": "E12a99vesJuv"
      },
      "source": [
        "### setting"
      ]
    },
    {
      "cell_type": "code",
      "metadata": {
        "id": "FjkTxhUzbTF5",
        "outputId": "7dac1634-6eba-4971-ad3c-1745bb1e8c13",
        "colab": {
          "base_uri": "https://localhost:8080/",
          "height": 1000
        }
      },
      "source": [
        "!pip install streamlit"
      ],
      "execution_count": null,
      "outputs": [
        {
          "output_type": "stream",
          "text": [
            "Collecting streamlit\n",
            "\u001b[?25l  Downloading https://files.pythonhosted.org/packages/86/fd/a2c8e973ed3a79d46c589f93fdbfcbda2173bd2c631100db4c2883ce1dde/streamlit-0.69.1-py2.py3-none-any.whl (7.4MB)\n",
            "\u001b[K     |████████████████████████████████| 7.4MB 1.7MB/s \n",
            "\u001b[?25hRequirement already satisfied: tzlocal in /usr/local/lib/python3.6/dist-packages (from streamlit) (1.5.1)\n",
            "Collecting base58\n",
            "  Downloading https://files.pythonhosted.org/packages/3c/03/58572025c77b9e6027155b272a1b96298e711cd4f95c24967f7137ab0c4b/base58-2.0.1-py3-none-any.whl\n",
            "Requirement already satisfied: protobuf>=3.6.0 in /usr/local/lib/python3.6/dist-packages (from streamlit) (3.12.4)\n",
            "Requirement already satisfied: packaging in /usr/local/lib/python3.6/dist-packages (from streamlit) (20.4)\n",
            "Collecting blinker\n",
            "\u001b[?25l  Downloading https://files.pythonhosted.org/packages/1b/51/e2a9f3b757eb802f61dc1f2b09c8c99f6eb01cf06416c0671253536517b6/blinker-1.4.tar.gz (111kB)\n",
            "\u001b[K     |████████████████████████████████| 112kB 39.8MB/s \n",
            "\u001b[?25hCollecting watchdog\n",
            "\u001b[?25l  Downloading https://files.pythonhosted.org/packages/0e/06/121302598a4fc01aca942d937f4a2c33430b7181137b35758913a8db10ad/watchdog-0.10.3.tar.gz (94kB)\n",
            "\u001b[K     |████████████████████████████████| 102kB 7.7MB/s \n",
            "\u001b[?25hCollecting botocore>=1.13.44\n",
            "\u001b[?25l  Downloading https://files.pythonhosted.org/packages/2d/9e/afa41db0cd911869305bb783b9b021be67ea23c8b7b317caa46632dbf3cf/botocore-1.18.16-py2.py3-none-any.whl (6.7MB)\n",
            "\u001b[K     |████████████████████████████████| 6.7MB 41.8MB/s \n",
            "\u001b[?25hCollecting gitpython\n",
            "\u001b[?25l  Downloading https://files.pythonhosted.org/packages/c0/d7/b2b0672e0331567157adf9281f41ee731c412ee518ca5e6552c27fa73c91/GitPython-3.1.9-py3-none-any.whl (159kB)\n",
            "\u001b[K     |████████████████████████████████| 163kB 39.9MB/s \n",
            "\u001b[?25hRequirement already satisfied: click>=7.0 in /usr/local/lib/python3.6/dist-packages (from streamlit) (7.1.2)\n",
            "Requirement already satisfied: numpy in /usr/local/lib/python3.6/dist-packages (from streamlit) (1.18.5)\n",
            "Collecting enum-compat\n",
            "  Downloading https://files.pythonhosted.org/packages/55/ae/467bc4509246283bb59746e21a1a2f5a8aecbef56b1fa6eaca78cd438c8b/enum_compat-0.0.3-py3-none-any.whl\n",
            "Collecting boto3\n",
            "\u001b[?25l  Downloading https://files.pythonhosted.org/packages/3f/87/31810f044f2dd2101f2ecd85c5539bbddef4cff47df39eb0be895cc23af4/boto3-1.15.16-py2.py3-none-any.whl (129kB)\n",
            "\u001b[K     |████████████████████████████████| 133kB 50.7MB/s \n",
            "\u001b[?25hRequirement already satisfied: cachetools>=4.0 in /usr/local/lib/python3.6/dist-packages (from streamlit) (4.1.1)\n",
            "Requirement already satisfied: toml in /usr/local/lib/python3.6/dist-packages (from streamlit) (0.10.1)\n",
            "Requirement already satisfied: altair>=3.2.0 in /usr/local/lib/python3.6/dist-packages (from streamlit) (4.1.0)\n",
            "Requirement already satisfied: requests in /usr/local/lib/python3.6/dist-packages (from streamlit) (2.23.0)\n",
            "Requirement already satisfied: pillow>=6.2.0 in /usr/local/lib/python3.6/dist-packages (from streamlit) (7.0.0)\n",
            "Collecting pydeck>=0.1.dev5\n",
            "\u001b[?25l  Downloading https://files.pythonhosted.org/packages/51/1e/296f4108bf357e684617a776ecaf06ee93b43e30c35996dfac1aa985aa6c/pydeck-0.5.0b1-py2.py3-none-any.whl (4.4MB)\n",
            "\u001b[K     |████████████████████████████████| 4.4MB 46.7MB/s \n",
            "\u001b[?25hRequirement already satisfied: astor in /usr/local/lib/python3.6/dist-packages (from streamlit) (0.8.1)\n",
            "Requirement already satisfied: python-dateutil in /usr/local/lib/python3.6/dist-packages (from streamlit) (2.8.1)\n",
            "Requirement already satisfied: pyarrow in /usr/local/lib/python3.6/dist-packages (from streamlit) (0.14.1)\n",
            "Requirement already satisfied: tornado>=5.0 in /usr/local/lib/python3.6/dist-packages (from streamlit) (5.1.1)\n",
            "Collecting validators\n",
            "  Downloading https://files.pythonhosted.org/packages/41/4a/3360ff3cf2b4a1b9721ac1fbff5f84663f41047d9874b3aa1ac82e862c44/validators-0.18.1-py3-none-any.whl\n",
            "Requirement already satisfied: pandas>=0.21.0 in /usr/local/lib/python3.6/dist-packages (from streamlit) (1.1.2)\n",
            "Requirement already satisfied: pytz in /usr/local/lib/python3.6/dist-packages (from tzlocal->streamlit) (2018.9)\n",
            "Requirement already satisfied: six>=1.9 in /usr/local/lib/python3.6/dist-packages (from protobuf>=3.6.0->streamlit) (1.15.0)\n",
            "Requirement already satisfied: setuptools in /usr/local/lib/python3.6/dist-packages (from protobuf>=3.6.0->streamlit) (50.3.0)\n",
            "Requirement already satisfied: pyparsing>=2.0.2 in /usr/local/lib/python3.6/dist-packages (from packaging->streamlit) (2.4.7)\n",
            "Collecting pathtools>=0.1.1\n",
            "  Downloading https://files.pythonhosted.org/packages/e7/7f/470d6fcdf23f9f3518f6b0b76be9df16dcc8630ad409947f8be2eb0ed13a/pathtools-0.1.2.tar.gz\n",
            "Collecting jmespath<1.0.0,>=0.7.1\n",
            "  Downloading https://files.pythonhosted.org/packages/07/cb/5f001272b6faeb23c1c9e0acc04d48eaaf5c862c17709d20e3469c6e0139/jmespath-0.10.0-py2.py3-none-any.whl\n",
            "Requirement already satisfied: urllib3<1.26,>=1.20; python_version != \"3.4\" in /usr/local/lib/python3.6/dist-packages (from botocore>=1.13.44->streamlit) (1.24.3)\n",
            "Collecting gitdb<5,>=4.0.1\n",
            "\u001b[?25l  Downloading https://files.pythonhosted.org/packages/48/11/d1800bca0a3bae820b84b7d813ad1eff15a48a64caea9c823fc8c1b119e8/gitdb-4.0.5-py3-none-any.whl (63kB)\n",
            "\u001b[K     |████████████████████████████████| 71kB 7.8MB/s \n",
            "\u001b[?25hCollecting s3transfer<0.4.0,>=0.3.0\n",
            "\u001b[?25l  Downloading https://files.pythonhosted.org/packages/69/79/e6afb3d8b0b4e96cefbdc690f741d7dd24547ff1f94240c997a26fa908d3/s3transfer-0.3.3-py2.py3-none-any.whl (69kB)\n",
            "\u001b[K     |████████████████████████████████| 71kB 8.4MB/s \n",
            "\u001b[?25hRequirement already satisfied: toolz in /usr/local/lib/python3.6/dist-packages (from altair>=3.2.0->streamlit) (0.11.1)\n",
            "Requirement already satisfied: jinja2 in /usr/local/lib/python3.6/dist-packages (from altair>=3.2.0->streamlit) (2.11.2)\n",
            "Requirement already satisfied: entrypoints in /usr/local/lib/python3.6/dist-packages (from altair>=3.2.0->streamlit) (0.3)\n",
            "Requirement already satisfied: jsonschema in /usr/local/lib/python3.6/dist-packages (from altair>=3.2.0->streamlit) (2.6.0)\n",
            "Requirement already satisfied: idna<3,>=2.5 in /usr/local/lib/python3.6/dist-packages (from requests->streamlit) (2.10)\n",
            "Requirement already satisfied: certifi>=2017.4.17 in /usr/local/lib/python3.6/dist-packages (from requests->streamlit) (2020.6.20)\n",
            "Requirement already satisfied: chardet<4,>=3.0.2 in /usr/local/lib/python3.6/dist-packages (from requests->streamlit) (3.0.4)\n",
            "Requirement already satisfied: traitlets>=4.3.2 in /usr/local/lib/python3.6/dist-packages (from pydeck>=0.1.dev5->streamlit) (4.3.3)\n",
            "Collecting ipykernel>=5.1.2; python_version >= \"3.4\"\n",
            "\u001b[?25l  Downloading https://files.pythonhosted.org/packages/52/19/c2812690d8b340987eecd2cbc18549b1d130b94c5d97fcbe49f5f8710edf/ipykernel-5.3.4-py3-none-any.whl (120kB)\n",
            "\u001b[K     |████████████████████████████████| 122kB 48.3MB/s \n",
            "\u001b[?25hRequirement already satisfied: ipywidgets>=7.0.0 in /usr/local/lib/python3.6/dist-packages (from pydeck>=0.1.dev5->streamlit) (7.5.1)\n",
            "Requirement already satisfied: decorator>=3.4.0 in /usr/local/lib/python3.6/dist-packages (from validators->streamlit) (4.4.2)\n",
            "Collecting smmap<4,>=3.0.1\n",
            "  Downloading https://files.pythonhosted.org/packages/b0/9a/4d409a6234eb940e6a78dfdfc66156e7522262f5f2fecca07dc55915952d/smmap-3.0.4-py2.py3-none-any.whl\n",
            "Requirement already satisfied: MarkupSafe>=0.23 in /usr/local/lib/python3.6/dist-packages (from jinja2->altair>=3.2.0->streamlit) (1.1.1)\n",
            "Requirement already satisfied: ipython-genutils in /usr/local/lib/python3.6/dist-packages (from traitlets>=4.3.2->pydeck>=0.1.dev5->streamlit) (0.2.0)\n",
            "Requirement already satisfied: ipython>=5.0.0 in /usr/local/lib/python3.6/dist-packages (from ipykernel>=5.1.2; python_version >= \"3.4\"->pydeck>=0.1.dev5->streamlit) (5.5.0)\n",
            "Requirement already satisfied: jupyter-client in /usr/local/lib/python3.6/dist-packages (from ipykernel>=5.1.2; python_version >= \"3.4\"->pydeck>=0.1.dev5->streamlit) (5.3.5)\n",
            "Requirement already satisfied: widgetsnbextension~=3.5.0 in /usr/local/lib/python3.6/dist-packages (from ipywidgets>=7.0.0->pydeck>=0.1.dev5->streamlit) (3.5.1)\n",
            "Requirement already satisfied: nbformat>=4.2.0 in /usr/local/lib/python3.6/dist-packages (from ipywidgets>=7.0.0->pydeck>=0.1.dev5->streamlit) (5.0.7)\n",
            "Requirement already satisfied: pygments in /usr/local/lib/python3.6/dist-packages (from ipython>=5.0.0->ipykernel>=5.1.2; python_version >= \"3.4\"->pydeck>=0.1.dev5->streamlit) (2.6.1)\n",
            "Requirement already satisfied: pexpect; sys_platform != \"win32\" in /usr/local/lib/python3.6/dist-packages (from ipython>=5.0.0->ipykernel>=5.1.2; python_version >= \"3.4\"->pydeck>=0.1.dev5->streamlit) (4.8.0)\n",
            "Requirement already satisfied: prompt-toolkit<2.0.0,>=1.0.4 in /usr/local/lib/python3.6/dist-packages (from ipython>=5.0.0->ipykernel>=5.1.2; python_version >= \"3.4\"->pydeck>=0.1.dev5->streamlit) (1.0.18)\n",
            "Requirement already satisfied: simplegeneric>0.8 in /usr/local/lib/python3.6/dist-packages (from ipython>=5.0.0->ipykernel>=5.1.2; python_version >= \"3.4\"->pydeck>=0.1.dev5->streamlit) (0.8.1)\n",
            "Requirement already satisfied: pickleshare in /usr/local/lib/python3.6/dist-packages (from ipython>=5.0.0->ipykernel>=5.1.2; python_version >= \"3.4\"->pydeck>=0.1.dev5->streamlit) (0.7.5)\n",
            "Requirement already satisfied: jupyter-core>=4.6.0 in /usr/local/lib/python3.6/dist-packages (from jupyter-client->ipykernel>=5.1.2; python_version >= \"3.4\"->pydeck>=0.1.dev5->streamlit) (4.6.3)\n",
            "Requirement already satisfied: pyzmq>=13 in /usr/local/lib/python3.6/dist-packages (from jupyter-client->ipykernel>=5.1.2; python_version >= \"3.4\"->pydeck>=0.1.dev5->streamlit) (19.0.2)\n",
            "Requirement already satisfied: notebook>=4.4.1 in /usr/local/lib/python3.6/dist-packages (from widgetsnbextension~=3.5.0->ipywidgets>=7.0.0->pydeck>=0.1.dev5->streamlit) (5.3.1)\n",
            "Requirement already satisfied: ptyprocess>=0.5 in /usr/local/lib/python3.6/dist-packages (from pexpect; sys_platform != \"win32\"->ipython>=5.0.0->ipykernel>=5.1.2; python_version >= \"3.4\"->pydeck>=0.1.dev5->streamlit) (0.6.0)\n",
            "Requirement already satisfied: wcwidth in /usr/local/lib/python3.6/dist-packages (from prompt-toolkit<2.0.0,>=1.0.4->ipython>=5.0.0->ipykernel>=5.1.2; python_version >= \"3.4\"->pydeck>=0.1.dev5->streamlit) (0.2.5)\n",
            "Requirement already satisfied: terminado>=0.8.1 in /usr/local/lib/python3.6/dist-packages (from notebook>=4.4.1->widgetsnbextension~=3.5.0->ipywidgets>=7.0.0->pydeck>=0.1.dev5->streamlit) (0.9.1)\n",
            "Requirement already satisfied: nbconvert in /usr/local/lib/python3.6/dist-packages (from notebook>=4.4.1->widgetsnbextension~=3.5.0->ipywidgets>=7.0.0->pydeck>=0.1.dev5->streamlit) (5.6.1)\n",
            "Requirement already satisfied: Send2Trash in /usr/local/lib/python3.6/dist-packages (from notebook>=4.4.1->widgetsnbextension~=3.5.0->ipywidgets>=7.0.0->pydeck>=0.1.dev5->streamlit) (1.5.0)\n",
            "Requirement already satisfied: bleach in /usr/local/lib/python3.6/dist-packages (from nbconvert->notebook>=4.4.1->widgetsnbextension~=3.5.0->ipywidgets>=7.0.0->pydeck>=0.1.dev5->streamlit) (3.2.1)\n",
            "Requirement already satisfied: mistune<2,>=0.8.1 in /usr/local/lib/python3.6/dist-packages (from nbconvert->notebook>=4.4.1->widgetsnbextension~=3.5.0->ipywidgets>=7.0.0->pydeck>=0.1.dev5->streamlit) (0.8.4)\n",
            "Requirement already satisfied: testpath in /usr/local/lib/python3.6/dist-packages (from nbconvert->notebook>=4.4.1->widgetsnbextension~=3.5.0->ipywidgets>=7.0.0->pydeck>=0.1.dev5->streamlit) (0.4.4)\n",
            "Requirement already satisfied: pandocfilters>=1.4.1 in /usr/local/lib/python3.6/dist-packages (from nbconvert->notebook>=4.4.1->widgetsnbextension~=3.5.0->ipywidgets>=7.0.0->pydeck>=0.1.dev5->streamlit) (1.4.2)\n",
            "Requirement already satisfied: defusedxml in /usr/local/lib/python3.6/dist-packages (from nbconvert->notebook>=4.4.1->widgetsnbextension~=3.5.0->ipywidgets>=7.0.0->pydeck>=0.1.dev5->streamlit) (0.6.0)\n",
            "Requirement already satisfied: webencodings in /usr/local/lib/python3.6/dist-packages (from bleach->nbconvert->notebook>=4.4.1->widgetsnbextension~=3.5.0->ipywidgets>=7.0.0->pydeck>=0.1.dev5->streamlit) (0.5.1)\n",
            "Building wheels for collected packages: blinker, watchdog, pathtools\n",
            "  Building wheel for blinker (setup.py) ... \u001b[?25l\u001b[?25hdone\n",
            "  Created wheel for blinker: filename=blinker-1.4-cp36-none-any.whl size=13450 sha256=50df86ed8b156624705c279ba8a7def5b3a7517cd2d5874c4ac9fd2c1f4d94db\n",
            "  Stored in directory: /root/.cache/pip/wheels/92/a0/00/8690a57883956a301d91cf4ec999cc0b258b01e3f548f86e89\n",
            "  Building wheel for watchdog (setup.py) ... \u001b[?25l\u001b[?25hdone\n",
            "  Created wheel for watchdog: filename=watchdog-0.10.3-cp36-none-any.whl size=73873 sha256=34a3d65b8b229eb2b18ae8ec5415c1d4de9cbe13fa2ef4d408c248ad9c3d980a\n",
            "  Stored in directory: /root/.cache/pip/wheels/a8/1d/38/2c19bb311f67cc7b4d07a2ec5ea36ab1a0a0ea50db994a5bc7\n",
            "  Building wheel for pathtools (setup.py) ... \u001b[?25l\u001b[?25hdone\n",
            "  Created wheel for pathtools: filename=pathtools-0.1.2-cp36-none-any.whl size=8785 sha256=764a3d6fdc6fac3e5e4849e426c6b568d47034a707583bd8febe6cdd78dff06e\n",
            "  Stored in directory: /root/.cache/pip/wheels/0b/04/79/c3b0c3a0266a3cb4376da31e5bfe8bba0c489246968a68e843\n",
            "Successfully built blinker watchdog pathtools\n",
            "\u001b[31mERROR: google-colab 1.0.0 has requirement ipykernel~=4.10, but you'll have ipykernel 5.3.4 which is incompatible.\u001b[0m\n",
            "Installing collected packages: base58, blinker, pathtools, watchdog, jmespath, botocore, smmap, gitdb, gitpython, enum-compat, s3transfer, boto3, ipykernel, pydeck, validators, streamlit\n",
            "  Found existing installation: ipykernel 4.10.1\n",
            "    Uninstalling ipykernel-4.10.1:\n",
            "      Successfully uninstalled ipykernel-4.10.1\n",
            "Successfully installed base58-2.0.1 blinker-1.4 boto3-1.15.16 botocore-1.18.16 enum-compat-0.0.3 gitdb-4.0.5 gitpython-3.1.9 ipykernel-5.3.4 jmespath-0.10.0 pathtools-0.1.2 pydeck-0.5.0b1 s3transfer-0.3.3 smmap-3.0.4 streamlit-0.69.1 validators-0.18.1 watchdog-0.10.3\n"
          ],
          "name": "stdout"
        },
        {
          "output_type": "display_data",
          "data": {
            "application/vnd.colab-display-data+json": {
              "pip_warning": {
                "packages": [
                  "ipykernel"
                ]
              }
            }
          },
          "metadata": {
            "tags": []
          }
        }
      ]
    },
    {
      "cell_type": "code",
      "metadata": {
        "id": "GO9PyYHGcApc",
        "outputId": "64f914ee-8060-4776-b185-3a273cf7d255",
        "colab": {
          "base_uri": "https://localhost:8080/",
          "height": 246
        }
      },
      "source": [
        "!wget https://bin.equinox.io/c/4VmDzA7iaHb/ngrok-stable-linux-amd64.zip\n",
        "!unzip ngrok-stable-linux-amd64.zip"
      ],
      "execution_count": null,
      "outputs": [
        {
          "output_type": "stream",
          "text": [
            "--2020-10-15 13:29:34--  https://bin.equinox.io/c/4VmDzA7iaHb/ngrok-stable-linux-amd64.zip\n",
            "Resolving bin.equinox.io (bin.equinox.io)... 35.174.46.144, 54.236.206.131, 34.231.196.161, ...\n",
            "Connecting to bin.equinox.io (bin.equinox.io)|35.174.46.144|:443... connected.\n",
            "HTTP request sent, awaiting response... 200 OK\n",
            "Length: 13773305 (13M) [application/octet-stream]\n",
            "Saving to: ‘ngrok-stable-linux-amd64.zip’\n",
            "\n",
            "ngrok-stable-linux- 100%[===================>]  13.13M  33.6MB/s    in 0.4s    \n",
            "\n",
            "2020-10-15 13:29:34 (33.6 MB/s) - ‘ngrok-stable-linux-amd64.zip’ saved [13773305/13773305]\n",
            "\n",
            "Archive:  ngrok-stable-linux-amd64.zip\n",
            "  inflating: ngrok                   \n"
          ],
          "name": "stdout"
        }
      ]
    },
    {
      "cell_type": "markdown",
      "metadata": {
        "id": "TefDcBdHsMXm"
      },
      "source": [
        "### make a streamlit app"
      ]
    },
    {
      "cell_type": "code",
      "metadata": {
        "id": "1Z91m2pWeljo",
        "outputId": "0f17f289-b4ca-4295-ac19-354e9d862b05",
        "colab": {
          "base_uri": "https://localhost:8080/",
          "height": 34
        }
      },
      "source": [
        "%%writefile app.py\n",
        "import pandas as pd\n",
        "import streamlit as st\n",
        "import plotly.express as px\n",
        "\n",
        "\n",
        "@st.cache\n",
        "def get_data():\n",
        "    url = \"http://data.insideairbnb.com/united-states/ny/new-york-city/2019-09-12/visualisations/listings.csv\"\n",
        "    return pd.read_csv(url)\n",
        "\n",
        "df = get_data()\n",
        "st.title(\"Streamlit 101: An in-depth introduction\")\n",
        "st.markdown(\"Welcome to this in-depth introduction to [Streamlit](www.streamlit.io)! For this exercise, we'll use an Airbnb [dataset](http://data.insideairbnb.com/united-states/ny/new-york-city/2019-09-12/visualisations/listings.csv) containing NYC listings.\")\n",
        "st.header(\"Customary quote\")\n",
        "st.markdown(\"> I just love to go home, no matter where I am, the most luxurious hotel suite in the world, I love to go home.\\n\\n—Michael Caine\")\n",
        "st.header(\"Airbnb NYC listings: data at a glance\")\n",
        "st.markdown(\"The first five records of the Airbnb data we downloaded.\")\n",
        "st.dataframe(df.head())\n",
        "st.header(\"Caching our data\")\n",
        "st.markdown(\"Streamlit has a handy decorator [`st.cache`](https://streamlit.io/docs/api.html#optimize-performance) to enable data caching.\")\n",
        "st.code(\"\"\"\n",
        "@st.cache\n",
        "def get_data():\n",
        "    url = \"http://data.insideairbnb.com/united-states/ny/new-york-city/2019-09-12/visualisations/listings.csv\"\n",
        "    return pd.read_csv(url)\n",
        "\"\"\", language=\"python\")\n",
        "st.markdown(\"_To display a code block, pass in the string to display as code to [`st.code`](https://streamlit.io/docs/api.html#streamlit.code)_.\")\n",
        "with st.echo():\n",
        "    st.markdown(\"Alternatively, use [`st.echo`](https://streamlit.io/docs/api.html#streamlit.echo).\")\n",
        "\n",
        "st.header(\"Where are the most expensive properties located?\")\n",
        "st.subheader(\"On a map\")\n",
        "st.markdown(\"The following map shows the top 1% most expensive Airbnbs priced at $800 and above.\")\n",
        "st.map(df.query(\"price>=800\")[[\"latitude\", \"longitude\"]].dropna(how=\"any\"))\n",
        "st.subheader(\"In a table\")\n",
        "st.markdown(\"Following are the top five most expensive properties.\")\n",
        "st.write(df.query(\"price>=800\").sort_values(\"price\", ascending=False).head())\n",
        "\n",
        "st.subheader(\"Selecting a subset of columns\")\n",
        "st.write(f\"Out of the {df.shape[1]} columns, you might want to view only a subset. Streamlit has a [multiselect](https://streamlit.io/docs/api.html#streamlit.multiselect) widget for this.\")\n",
        "defaultcols = [\"name\", \"host_name\", \"neighbourhood\", \"room_type\", \"price\"]\n",
        "cols = st.multiselect(\"Columns\", df.columns.tolist(), default=defaultcols)\n",
        "st.dataframe(df[cols].head(10))\n",
        "\n",
        "st.header(\"Average price by room type\")\n",
        "st.write(\"You can also display static tables. As opposed to a data frame, with a static table you cannot sorting by clicking a column header.\")\n",
        "st.table(df.groupby(\"room_type\").price.mean().reset_index()\\\n",
        "    .round(2).sort_values(\"price\", ascending=False)\\\n",
        "    .assign(avg_price=lambda x: x.pop(\"price\").apply(lambda y: \"%.2f\" % y)))\n",
        "\n",
        "st.header(\"Which host has the most properties listed?\")\n",
        "listingcounts = df.host_id.value_counts()\n",
        "top_host_1 = df.query('host_id==@listingcounts.index[0]')\n",
        "top_host_2 = df.query('host_id==@listingcounts.index[1]')\n",
        "st.write(f\"\"\"**{top_host_1.iloc[0].host_name}** is at the top with {listingcounts.iloc[0]} property listings.\n",
        "**{top_host_2.iloc[1].host_name}** is second with {listingcounts.iloc[1]} listings. Following are randomly chosen\n",
        "listings from the two displayed as JSON using [`st.json`](https://streamlit.io/docs/api.html#streamlit.json).\"\"\")\n",
        "\n",
        "st.json({top_host_1.iloc[0].host_name: top_host_1\\\n",
        "    [[\"name\", \"neighbourhood\", \"room_type\", \"minimum_nights\", \"price\"]]\\\n",
        "        .sample(2, random_state=4).to_dict(orient=\"records\"),\n",
        "        top_host_2.iloc[0].host_name: top_host_2\\\n",
        "    [[\"name\", \"neighbourhood\", \"room_type\", \"minimum_nights\", \"price\"]]\\\n",
        "        .sample(2, random_state=4).to_dict(orient=\"records\")})\n",
        "\n",
        "st.header(\"What is the distribution of property price?\")\n",
        "st.write(\"\"\"Select a custom price range from the side bar to update the histogram below displayed as a Plotly chart using\n",
        "[`st.plotly_chart`](https://streamlit.io/docs/api.html#streamlit.plotly_chart).\"\"\")\n",
        "values = st.sidebar.slider(\"Price range\", float(df.price.min()), float(df.price.clip(upper=1000.).max()), (50., 300.))\n",
        "f = px.histogram(df.query(f\"price.between{values}\"), x=\"price\", nbins=15, title=\"Price distribution\")\n",
        "f.update_xaxes(title=\"Price\")\n",
        "f.update_yaxes(title=\"No. of listings\")\n",
        "st.plotly_chart(f)\n",
        "\n",
        "st.header(\"What is the distribution of availability in various neighborhoods?\")\n",
        "st.write(\"Using a radio button restricts selection to only one option at a time.\")\n",
        "st.write(\"💡 Notice how we use a static table below instead of a data frame. \\\n",
        "Unlike a data frame, if content overflows out of the section margin, \\\n",
        "a static table does not automatically hide it inside a scrollable area. \\\n",
        "Instead, the overflowing content remains visible.\")\n",
        "neighborhood = st.radio(\"Neighborhood\", df.neighbourhood_group.unique())\n",
        "show_exp = st.checkbox(\"Include expensive listings\")\n",
        "show_exp = \" and price<200\" if not show_exp else \"\"\n",
        "\n",
        "@st.cache\n",
        "def get_availability(show_exp, neighborhood):\n",
        "    return df.query(f\"\"\"neighbourhood_group==@neighborhood{show_exp}\\\n",
        "        and availability_365>0\"\"\").availability_365.describe(\\\n",
        "            percentiles=[.1, .25, .5, .75, .9, .99]).to_frame().T\n",
        "\n",
        "st.table(get_availability(show_exp, neighborhood))\n",
        "st.write(\"At 169 days, Brooklyn has the lowest average availability. At 226, Staten Island has the highest average availability.\\\n",
        "    If we include expensive listings (price>=$200), the numbers are 171 and 230 respectively.\")\n",
        "st.markdown(\"_**Note:** There are 18431 records with `availability_365` 0 (zero), which I've ignored._\")\n",
        "\n",
        "df.query(\"availability_365>0\").groupby(\"neighbourhood_group\")\\\n",
        "    .availability_365.mean().plot.bar(rot=0).set(title=\"Average availability by neighborhood group\",\n",
        "        xlabel=\"Neighborhood group\", ylabel=\"Avg. availability (in no. of days)\")\n",
        "st.pyplot()\n",
        "\n",
        "st.header(\"Properties by number of reviews\")\n",
        "st.write(\"Enter a range of numbers in the sidebar to view properties whose review count falls in that range.\")\n",
        "minimum = st.sidebar.number_input(\"Minimum\", min_value=0)\n",
        "maximum = st.sidebar.number_input(\"Maximum\", min_value=0, value=5)\n",
        "if minimum > maximum:\n",
        "    st.error(\"Please enter a valid range\")\n",
        "else:\n",
        "    df.query(\"@minimum<=number_of_reviews<=@maximum\").sort_values(\"number_of_reviews\", ascending=False)\\\n",
        "        .head(50)[[\"name\", \"number_of_reviews\", \"neighbourhood\", \"host_name\", \"room_type\", \"price\"]]\n",
        "\n",
        "st.write(\"486 is the highest number of reviews and two properties have it. Both are in the East Elmhurst \\\n",
        "    neighborhood and are private rooms with prices $65 and $45. \\\n",
        "    In general, listings with >400 reviews are priced below $100. \\\n",
        "    A few are between $100 and $200, and only one is priced above $200.\")\n",
        "st.header(\"Images\")\n",
        "pics = {\n",
        "    \"Cat\": \"https://cdn.pixabay.com/photo/2016/09/24/22/20/cat-1692702_960_720.jpg\",\n",
        "    \"Puppy\": \"https://cdn.pixabay.com/photo/2019/03/15/19/19/puppy-4057786_960_720.jpg\",\n",
        "    \"Sci-fi city\": \"https://storage.needpix.com/rsynced_images/science-fiction-2971848_1280.jpg\"\n",
        "}\n",
        "pic = st.selectbox(\"Picture choices\", list(pics.keys()), 0)\n",
        "st.image(pics[pic], use_column_width=True, caption=pics[pic])\n",
        "\n",
        "st.markdown(\"## Party time!\")\n",
        "st.write(\"Yay! You're done with this tutorial of Streamlit. Click below to celebrate.\")\n",
        "btn = st.button(\"Celebrate!\")\n",
        "if btn:\n",
        "    st.balloons()\n"
      ],
      "execution_count": null,
      "outputs": [
        {
          "output_type": "stream",
          "text": [
            "Overwriting app.py\n"
          ],
          "name": "stdout"
        }
      ]
    },
    {
      "cell_type": "markdown",
      "metadata": {
        "id": "TVezwIRusQVx"
      },
      "source": [
        "### deploy local, connect to ngrok"
      ]
    },
    {
      "cell_type": "code",
      "metadata": {
        "id": "PxxunGNacTyh"
      },
      "source": [
        "get_ipython().system_raw('./ngrok http 8501 &')"
      ],
      "execution_count": null,
      "outputs": []
    },
    {
      "cell_type": "code",
      "metadata": {
        "id": "lCGuusuQcYFT",
        "outputId": "3758d929-d1c5-4b7f-d0e4-377b1058b46e",
        "colab": {
          "base_uri": "https://localhost:8080/",
          "height": 34
        }
      },
      "source": [
        "!curl -s http://localhost:4040/api/tunnels | python3 -c \\\n",
        "    'import sys, json; print(\"Execute the next cell and the go to the following URL: \" +json.load(sys.stdin)[\"tunnels\"][0][\"public_url\"])'"
      ],
      "execution_count": null,
      "outputs": [
        {
          "output_type": "stream",
          "text": [
            "Execute the next cell and the go to the following URL: https://2883e336fa72.ngrok.io\n"
          ],
          "name": "stdout"
        }
      ]
    },
    {
      "cell_type": "code",
      "metadata": {
        "id": "fz3ZxpNEceDi",
        "outputId": "83c3056c-2de6-4a13-ad6f-4d941956ef88",
        "colab": {
          "base_uri": "https://localhost:8080/",
          "height": 158
        }
      },
      "source": [
        "!streamlit run app.py &"
      ],
      "execution_count": null,
      "outputs": [
        {
          "output_type": "stream",
          "text": [
            "\u001b[0m\n",
            "\u001b[34m\u001b[1m  You can now view your Streamlit app in your browser.\u001b[0m\n",
            "\u001b[0m\n",
            "\u001b[34m  Network URL: \u001b[0m\u001b[1mhttp://172.28.0.2:8501\u001b[0m\n",
            "\u001b[34m  External URL: \u001b[0m\u001b[1mhttp://35.196.20.36:8501\u001b[0m\n",
            "\u001b[0m\n",
            "2020-10-15 13:53:38.947 NumExpr defaulting to 2 threads.\n",
            "\u001b[34m  Stopping...\u001b[0m\n"
          ],
          "name": "stdout"
        }
      ]
    },
    {
      "cell_type": "code",
      "metadata": {
        "id": "fqUnm6d4e76G"
      },
      "source": [
        ""
      ],
      "execution_count": null,
      "outputs": []
    }
  ]
}